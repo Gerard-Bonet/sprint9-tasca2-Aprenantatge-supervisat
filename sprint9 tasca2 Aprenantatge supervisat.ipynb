{
 "cells": [
  {
   "cell_type": "code",
   "execution_count": 462,
   "id": "e37fc204",
   "metadata": {
    "ExecuteTime": {
     "end_time": "2022-05-22T14:15:24.544890Z",
     "start_time": "2022-05-22T14:15:24.518966Z"
    }
   },
   "outputs": [],
   "source": [
    "import numpy as np\n",
    "import pandas as pd\n",
    "from pandas import read_csv\n",
    "from sklearn.model_selection import train_test_split\n",
    "import matplotlib.pyplot as plt\n",
    "from matplotlib.pyplot import figure\n",
    "from sklearn.metrics import mean_squared_error\n",
    "from sklearn.metrics import mean_absolute_error\n",
    "from sklearn.metrics import r2_score\n",
    "from sklearn.linear_model import LinearRegression\n",
    "from sklearn.preprocessing import StandardScaler\n",
    "from sklearn.preprocessing import MinMaxScaler\n",
    "from sklearn.ensemble import RandomForestRegressor\n",
    "import seaborn as sns\n",
    "import math\n",
    "\n",
    "import statistics as stat\n",
    "from sklearn.neural_network import MLPRegressor\n",
    "\n"
   ]
  },
  {
   "cell_type": "markdown",
   "id": "7d143c8e",
   "metadata": {},
   "source": [
    "Seguimos el hilo argumental del [ejercicio 9.1](https://github.com/Gerard-Bonet/Sprint9Tasca1.git) para trabajar con el 9.2. No nos servirán las variables del ejercicio 9.1, ya que \n",
    "\n",
    "no dividimos el conjunto de datos  en variables independientes y objetivos. Es decir, no vamos a aprobechar nada de él pero si \n",
    "\n",
    "alguna información, que vamos a pasar a resumir:\n",
    "\n"
   ]
  },
  {
   "cell_type": "code",
   "execution_count": 556,
   "id": "07f39940",
   "metadata": {
    "ExecuteTime": {
     "end_time": "2022-05-22T16:03:50.854451Z",
     "start_time": "2022-05-22T16:03:41.250400Z"
    }
   },
   "outputs": [
    {
     "data": {
      "text/html": [
       "<div>\n",
       "<style scoped>\n",
       "    .dataframe tbody tr th:only-of-type {\n",
       "        vertical-align: middle;\n",
       "    }\n",
       "\n",
       "    .dataframe tbody tr th {\n",
       "        vertical-align: top;\n",
       "    }\n",
       "\n",
       "    .dataframe thead th {\n",
       "        text-align: right;\n",
       "    }\n",
       "</style>\n",
       "<table border=\"1\" class=\"dataframe\">\n",
       "  <thead>\n",
       "    <tr style=\"text-align: right;\">\n",
       "      <th></th>\n",
       "      <th>Unnamed: 0</th>\n",
       "      <th>Year</th>\n",
       "      <th>Month</th>\n",
       "      <th>DayofMonth</th>\n",
       "      <th>DayOfWeek</th>\n",
       "      <th>DepTime</th>\n",
       "      <th>CRSDepTime</th>\n",
       "      <th>ArrTime</th>\n",
       "      <th>CRSArrTime</th>\n",
       "      <th>UniqueCarrier</th>\n",
       "      <th>...</th>\n",
       "      <th>TaxiIn</th>\n",
       "      <th>TaxiOut</th>\n",
       "      <th>Cancelled</th>\n",
       "      <th>CancellationCode</th>\n",
       "      <th>Diverted</th>\n",
       "      <th>CarrierDelay</th>\n",
       "      <th>WeatherDelay</th>\n",
       "      <th>NASDelay</th>\n",
       "      <th>SecurityDelay</th>\n",
       "      <th>LateAircraftDelay</th>\n",
       "    </tr>\n",
       "  </thead>\n",
       "  <tbody>\n",
       "    <tr>\n",
       "      <th>0</th>\n",
       "      <td>0</td>\n",
       "      <td>2008</td>\n",
       "      <td>1</td>\n",
       "      <td>3</td>\n",
       "      <td>4</td>\n",
       "      <td>2003.0</td>\n",
       "      <td>1955</td>\n",
       "      <td>2211.0</td>\n",
       "      <td>2225</td>\n",
       "      <td>WN</td>\n",
       "      <td>...</td>\n",
       "      <td>4.0</td>\n",
       "      <td>8.0</td>\n",
       "      <td>0</td>\n",
       "      <td>N</td>\n",
       "      <td>0</td>\n",
       "      <td>NaN</td>\n",
       "      <td>NaN</td>\n",
       "      <td>NaN</td>\n",
       "      <td>NaN</td>\n",
       "      <td>NaN</td>\n",
       "    </tr>\n",
       "    <tr>\n",
       "      <th>1</th>\n",
       "      <td>1</td>\n",
       "      <td>2008</td>\n",
       "      <td>1</td>\n",
       "      <td>3</td>\n",
       "      <td>4</td>\n",
       "      <td>754.0</td>\n",
       "      <td>735</td>\n",
       "      <td>1002.0</td>\n",
       "      <td>1000</td>\n",
       "      <td>WN</td>\n",
       "      <td>...</td>\n",
       "      <td>5.0</td>\n",
       "      <td>10.0</td>\n",
       "      <td>0</td>\n",
       "      <td>N</td>\n",
       "      <td>0</td>\n",
       "      <td>NaN</td>\n",
       "      <td>NaN</td>\n",
       "      <td>NaN</td>\n",
       "      <td>NaN</td>\n",
       "      <td>NaN</td>\n",
       "    </tr>\n",
       "    <tr>\n",
       "      <th>2</th>\n",
       "      <td>2</td>\n",
       "      <td>2008</td>\n",
       "      <td>1</td>\n",
       "      <td>3</td>\n",
       "      <td>4</td>\n",
       "      <td>628.0</td>\n",
       "      <td>620</td>\n",
       "      <td>804.0</td>\n",
       "      <td>750</td>\n",
       "      <td>WN</td>\n",
       "      <td>...</td>\n",
       "      <td>3.0</td>\n",
       "      <td>17.0</td>\n",
       "      <td>0</td>\n",
       "      <td>N</td>\n",
       "      <td>0</td>\n",
       "      <td>NaN</td>\n",
       "      <td>NaN</td>\n",
       "      <td>NaN</td>\n",
       "      <td>NaN</td>\n",
       "      <td>NaN</td>\n",
       "    </tr>\n",
       "    <tr>\n",
       "      <th>3</th>\n",
       "      <td>4</td>\n",
       "      <td>2008</td>\n",
       "      <td>1</td>\n",
       "      <td>3</td>\n",
       "      <td>4</td>\n",
       "      <td>1829.0</td>\n",
       "      <td>1755</td>\n",
       "      <td>1959.0</td>\n",
       "      <td>1925</td>\n",
       "      <td>WN</td>\n",
       "      <td>...</td>\n",
       "      <td>3.0</td>\n",
       "      <td>10.0</td>\n",
       "      <td>0</td>\n",
       "      <td>N</td>\n",
       "      <td>0</td>\n",
       "      <td>2.0</td>\n",
       "      <td>0.0</td>\n",
       "      <td>0.0</td>\n",
       "      <td>0.0</td>\n",
       "      <td>32.0</td>\n",
       "    </tr>\n",
       "    <tr>\n",
       "      <th>4</th>\n",
       "      <td>5</td>\n",
       "      <td>2008</td>\n",
       "      <td>1</td>\n",
       "      <td>3</td>\n",
       "      <td>4</td>\n",
       "      <td>1940.0</td>\n",
       "      <td>1915</td>\n",
       "      <td>2121.0</td>\n",
       "      <td>2110</td>\n",
       "      <td>WN</td>\n",
       "      <td>...</td>\n",
       "      <td>4.0</td>\n",
       "      <td>10.0</td>\n",
       "      <td>0</td>\n",
       "      <td>N</td>\n",
       "      <td>0</td>\n",
       "      <td>NaN</td>\n",
       "      <td>NaN</td>\n",
       "      <td>NaN</td>\n",
       "      <td>NaN</td>\n",
       "      <td>NaN</td>\n",
       "    </tr>\n",
       "    <tr>\n",
       "      <th>...</th>\n",
       "      <td>...</td>\n",
       "      <td>...</td>\n",
       "      <td>...</td>\n",
       "      <td>...</td>\n",
       "      <td>...</td>\n",
       "      <td>...</td>\n",
       "      <td>...</td>\n",
       "      <td>...</td>\n",
       "      <td>...</td>\n",
       "      <td>...</td>\n",
       "      <td>...</td>\n",
       "      <td>...</td>\n",
       "      <td>...</td>\n",
       "      <td>...</td>\n",
       "      <td>...</td>\n",
       "      <td>...</td>\n",
       "      <td>...</td>\n",
       "      <td>...</td>\n",
       "      <td>...</td>\n",
       "      <td>...</td>\n",
       "      <td>...</td>\n",
       "    </tr>\n",
       "    <tr>\n",
       "      <th>1936753</th>\n",
       "      <td>7009710</td>\n",
       "      <td>2008</td>\n",
       "      <td>12</td>\n",
       "      <td>13</td>\n",
       "      <td>6</td>\n",
       "      <td>1250.0</td>\n",
       "      <td>1220</td>\n",
       "      <td>1617.0</td>\n",
       "      <td>1552</td>\n",
       "      <td>DL</td>\n",
       "      <td>...</td>\n",
       "      <td>9.0</td>\n",
       "      <td>18.0</td>\n",
       "      <td>0</td>\n",
       "      <td>N</td>\n",
       "      <td>0</td>\n",
       "      <td>3.0</td>\n",
       "      <td>0.0</td>\n",
       "      <td>0.0</td>\n",
       "      <td>0.0</td>\n",
       "      <td>22.0</td>\n",
       "    </tr>\n",
       "    <tr>\n",
       "      <th>1936754</th>\n",
       "      <td>7009717</td>\n",
       "      <td>2008</td>\n",
       "      <td>12</td>\n",
       "      <td>13</td>\n",
       "      <td>6</td>\n",
       "      <td>657.0</td>\n",
       "      <td>600</td>\n",
       "      <td>904.0</td>\n",
       "      <td>749</td>\n",
       "      <td>DL</td>\n",
       "      <td>...</td>\n",
       "      <td>15.0</td>\n",
       "      <td>34.0</td>\n",
       "      <td>0</td>\n",
       "      <td>N</td>\n",
       "      <td>0</td>\n",
       "      <td>0.0</td>\n",
       "      <td>57.0</td>\n",
       "      <td>18.0</td>\n",
       "      <td>0.0</td>\n",
       "      <td>0.0</td>\n",
       "    </tr>\n",
       "    <tr>\n",
       "      <th>1936755</th>\n",
       "      <td>7009718</td>\n",
       "      <td>2008</td>\n",
       "      <td>12</td>\n",
       "      <td>13</td>\n",
       "      <td>6</td>\n",
       "      <td>1007.0</td>\n",
       "      <td>847</td>\n",
       "      <td>1149.0</td>\n",
       "      <td>1010</td>\n",
       "      <td>DL</td>\n",
       "      <td>...</td>\n",
       "      <td>8.0</td>\n",
       "      <td>32.0</td>\n",
       "      <td>0</td>\n",
       "      <td>N</td>\n",
       "      <td>0</td>\n",
       "      <td>1.0</td>\n",
       "      <td>0.0</td>\n",
       "      <td>19.0</td>\n",
       "      <td>0.0</td>\n",
       "      <td>79.0</td>\n",
       "    </tr>\n",
       "    <tr>\n",
       "      <th>1936756</th>\n",
       "      <td>7009726</td>\n",
       "      <td>2008</td>\n",
       "      <td>12</td>\n",
       "      <td>13</td>\n",
       "      <td>6</td>\n",
       "      <td>1251.0</td>\n",
       "      <td>1240</td>\n",
       "      <td>1446.0</td>\n",
       "      <td>1437</td>\n",
       "      <td>DL</td>\n",
       "      <td>...</td>\n",
       "      <td>13.0</td>\n",
       "      <td>13.0</td>\n",
       "      <td>0</td>\n",
       "      <td>N</td>\n",
       "      <td>0</td>\n",
       "      <td>NaN</td>\n",
       "      <td>NaN</td>\n",
       "      <td>NaN</td>\n",
       "      <td>NaN</td>\n",
       "      <td>NaN</td>\n",
       "    </tr>\n",
       "    <tr>\n",
       "      <th>1936757</th>\n",
       "      <td>7009727</td>\n",
       "      <td>2008</td>\n",
       "      <td>12</td>\n",
       "      <td>13</td>\n",
       "      <td>6</td>\n",
       "      <td>1110.0</td>\n",
       "      <td>1103</td>\n",
       "      <td>1413.0</td>\n",
       "      <td>1418</td>\n",
       "      <td>DL</td>\n",
       "      <td>...</td>\n",
       "      <td>8.0</td>\n",
       "      <td>11.0</td>\n",
       "      <td>0</td>\n",
       "      <td>N</td>\n",
       "      <td>0</td>\n",
       "      <td>NaN</td>\n",
       "      <td>NaN</td>\n",
       "      <td>NaN</td>\n",
       "      <td>NaN</td>\n",
       "      <td>NaN</td>\n",
       "    </tr>\n",
       "  </tbody>\n",
       "</table>\n",
       "<p>1936758 rows × 30 columns</p>\n",
       "</div>"
      ],
      "text/plain": [
       "         Unnamed: 0  Year  Month  DayofMonth  DayOfWeek  DepTime  CRSDepTime  \\\n",
       "0                 0  2008      1           3          4   2003.0        1955   \n",
       "1                 1  2008      1           3          4    754.0         735   \n",
       "2                 2  2008      1           3          4    628.0         620   \n",
       "3                 4  2008      1           3          4   1829.0        1755   \n",
       "4                 5  2008      1           3          4   1940.0        1915   \n",
       "...             ...   ...    ...         ...        ...      ...         ...   \n",
       "1936753     7009710  2008     12          13          6   1250.0        1220   \n",
       "1936754     7009717  2008     12          13          6    657.0         600   \n",
       "1936755     7009718  2008     12          13          6   1007.0         847   \n",
       "1936756     7009726  2008     12          13          6   1251.0        1240   \n",
       "1936757     7009727  2008     12          13          6   1110.0        1103   \n",
       "\n",
       "         ArrTime  CRSArrTime UniqueCarrier  ...  TaxiIn TaxiOut  Cancelled  \\\n",
       "0         2211.0        2225            WN  ...     4.0     8.0          0   \n",
       "1         1002.0        1000            WN  ...     5.0    10.0          0   \n",
       "2          804.0         750            WN  ...     3.0    17.0          0   \n",
       "3         1959.0        1925            WN  ...     3.0    10.0          0   \n",
       "4         2121.0        2110            WN  ...     4.0    10.0          0   \n",
       "...          ...         ...           ...  ...     ...     ...        ...   \n",
       "1936753   1617.0        1552            DL  ...     9.0    18.0          0   \n",
       "1936754    904.0         749            DL  ...    15.0    34.0          0   \n",
       "1936755   1149.0        1010            DL  ...     8.0    32.0          0   \n",
       "1936756   1446.0        1437            DL  ...    13.0    13.0          0   \n",
       "1936757   1413.0        1418            DL  ...     8.0    11.0          0   \n",
       "\n",
       "         CancellationCode  Diverted  CarrierDelay  WeatherDelay NASDelay  \\\n",
       "0                       N         0           NaN           NaN      NaN   \n",
       "1                       N         0           NaN           NaN      NaN   \n",
       "2                       N         0           NaN           NaN      NaN   \n",
       "3                       N         0           2.0           0.0      0.0   \n",
       "4                       N         0           NaN           NaN      NaN   \n",
       "...                   ...       ...           ...           ...      ...   \n",
       "1936753                 N         0           3.0           0.0      0.0   \n",
       "1936754                 N         0           0.0          57.0     18.0   \n",
       "1936755                 N         0           1.0           0.0     19.0   \n",
       "1936756                 N         0           NaN           NaN      NaN   \n",
       "1936757                 N         0           NaN           NaN      NaN   \n",
       "\n",
       "        SecurityDelay  LateAircraftDelay  \n",
       "0                 NaN                NaN  \n",
       "1                 NaN                NaN  \n",
       "2                 NaN                NaN  \n",
       "3                 0.0               32.0  \n",
       "4                 NaN                NaN  \n",
       "...               ...                ...  \n",
       "1936753           0.0               22.0  \n",
       "1936754           0.0                0.0  \n",
       "1936755           0.0               79.0  \n",
       "1936756           NaN                NaN  \n",
       "1936757           NaN                NaN  \n",
       "\n",
       "[1936758 rows x 30 columns]"
      ]
     },
     "execution_count": 556,
     "metadata": {},
     "output_type": "execute_result"
    }
   ],
   "source": [
    "df = pd.read_csv(\"DelayedFlights.csv\") # este es el conjunto de datos proporcionado en el ejercicio \n",
    "df"
   ]
  },
  {
   "cell_type": "markdown",
   "id": "eb193519",
   "metadata": {},
   "source": [
    "- Las variables DepTime','CRSDepTime', 'ArrTime', 'CRSArrTime\" básicamente son las horas programadas y reales que acaban determinando 'ActualElapsedTime', 'CRSElapsedTime', 'AirTime', 'ArrDelay','DepDelay'. Restar  'ArrTime' y 'CRSArrTime nos da ArrDelay, por ejemplo. Mientras en el otro ejercicio, no nos hicieron falta, para entrenar una red neuronal o un arbol, nos pueden venir bien si no contamos con la variable DepDelay( Ejercicio 3)\n",
    "\n",
    "- Las variables \"CarrierDelay\",\"WeatherDelay\",\"NASDelay\",\"SecurityDelay\",\"LateAircraftDelay\" tienen un tercio de valores NaN, y la suma de todas es el retraso general. \n",
    "\n",
    "- 'FlightNum' y'TailNum' son variables catogóricas que no aportan mucho \n",
    "\n",
    "- \"ActualElapsedTime\",  \"CRSElapsedTime\",\"AirTime\" y \"Distance\" tienen un coeficiente de correlación lineal entre ellas cercano a 0,95 $\\pm 2$ , mientras que ArrDelay y DepDelay, tienen una correlación cercana a cero respecto a estas 4 variables. \n",
    "\n",
    "- Arrdelay y DepDelay tienen una correlación cercana a 0,8. \n",
    "\n",
    "- Entre el primer grupo(distance) y el segundo(arrdelay) el Coeficiente de correlación tiende a cero\n",
    "\n",
    "\n",
    "- los aeropuertos donde hay más vuelos hay más minutos acumulados de retrasos. No crece de manera lineal, va creciendo de forma $ax^2 +bx$ de forma muy aplanada. Ésto estaba por corroborar. \n",
    "\n",
    "- Con las compañías crece de forma lineal. A más vuelos, más minutos acumulados de retrasos. \n",
    "\n",
    "- Ignoraré las variables Cancelled o Diverted ya que si tienen un valor de 1 ( y no llegan a 8000 casos) tienen valores NaN en ArrDelay y DepDelay\n",
    "\n",
    "\n",
    "\n"
   ]
  },
  {
   "cell_type": "markdown",
   "id": "96b1b342",
   "metadata": {},
   "source": [
    "0. **PREPROCESAMIENTO DE DATOS.** \n",
    "\n",
    "Vamos a dedicar esta parte a tratar las variables con valores perdidos, transformación de estas variables, selección, y otras \n",
    "\n",
    "manipulaciones para poder aplicar a las regresiones "
   ]
  },
  {
   "cell_type": "code",
   "execution_count": 464,
   "id": "15b5f4fb",
   "metadata": {
    "ExecuteTime": {
     "end_time": "2022-05-22T14:15:39.236016Z",
     "start_time": "2022-05-22T14:15:39.219717Z"
    }
   },
   "outputs": [
    {
     "data": {
      "text/plain": [
       "Index(['Unnamed: 0', 'Year', 'Month', 'DayofMonth', 'DayOfWeek', 'DepTime',\n",
       "       'CRSDepTime', 'ArrTime', 'CRSArrTime', 'UniqueCarrier', 'FlightNum',\n",
       "       'TailNum', 'ActualElapsedTime', 'CRSElapsedTime', 'AirTime', 'ArrDelay',\n",
       "       'DepDelay', 'Origin', 'Dest', 'Distance', 'TaxiIn', 'TaxiOut',\n",
       "       'Cancelled', 'CancellationCode', 'Diverted', 'CarrierDelay',\n",
       "       'WeatherDelay', 'NASDelay', 'SecurityDelay', 'LateAircraftDelay'],\n",
       "      dtype='object')"
      ]
     },
     "execution_count": 464,
     "metadata": {},
     "output_type": "execute_result"
    }
   ],
   "source": [
    "df.columns"
   ]
  },
  {
   "cell_type": "markdown",
   "id": "853eecb5",
   "metadata": {},
   "source": [
    "0.1. **Muestreo de población y tratamiento de valores perdidos**\n",
    "\n",
    "Primero hacemos un **muestreo de la población** para evitar problemas de memoria, ya que al hacer ciertas operaciones\n",
    "\n",
    "sobre todo el conjunto de datos, el ordenador da problemas de memoria, incluso vectorizando \n"
   ]
  },
  {
   "cell_type": "code",
   "execution_count": 557,
   "id": "a8747cee",
   "metadata": {
    "ExecuteTime": {
     "end_time": "2022-05-22T16:03:57.698623Z",
     "start_time": "2022-05-22T16:03:56.776940Z"
    }
   },
   "outputs": [
    {
     "data": {
      "text/plain": [
       "Unnamed: 0                0\n",
       "Year                      0\n",
       "Month                     0\n",
       "DayofMonth                0\n",
       "DayOfWeek                 0\n",
       "DepTime                   0\n",
       "CRSDepTime                0\n",
       "ArrTime                1417\n",
       "CRSArrTime                0\n",
       "UniqueCarrier             0\n",
       "FlightNum                 0\n",
       "TailNum                   1\n",
       "ActualElapsedTime      1691\n",
       "CRSElapsedTime           48\n",
       "AirTime                1691\n",
       "ArrDelay               1691\n",
       "DepDelay                  0\n",
       "Origin                    0\n",
       "Dest                      0\n",
       "Distance                  0\n",
       "TaxiIn                 1417\n",
       "TaxiOut                  83\n",
       "Cancelled                 0\n",
       "CancellationCode          0\n",
       "Diverted                  0\n",
       "CarrierDelay         138218\n",
       "WeatherDelay         138218\n",
       "NASDelay             138218\n",
       "SecurityDelay        138218\n",
       "LateAircraftDelay    138218\n",
       "dtype: int64"
      ]
     },
     "execution_count": 557,
     "metadata": {},
     "output_type": "execute_result"
    }
   ],
   "source": [
    "df1= df.sample(390000)# el 20% aproximadamente \n",
    "df1.isnull().sum()# miramos la cantidad de valores perdidos"
   ]
  },
  {
   "cell_type": "markdown",
   "id": "0a95db12",
   "metadata": {},
   "source": [
    "Como hicimos en la [ejercicio 9.1](https://github.com/Gerard-Bonet/Sprint9Tasca1.git) vamos a ver si estos valores NaN corresponden a vuelos cancelados o derivados, que no van a servir de nada para calcular el valor de ArrDelay"
   ]
  },
  {
   "cell_type": "code",
   "execution_count": 562,
   "id": "f948a3cf",
   "metadata": {
    "ExecuteTime": {
     "end_time": "2022-05-22T16:04:33.963918Z",
     "start_time": "2022-05-22T16:04:33.933135Z"
    }
   },
   "outputs": [
    {
     "data": {
      "text/plain": [
       "(1568, 30)"
      ]
     },
     "execution_count": 562,
     "metadata": {},
     "output_type": "execute_result"
    }
   ],
   "source": [
    "# vamos a ver si todos los valores NaN corresponden a todos lo vuelos Cancelados o Derivados \n",
    "df1_div= df1[df1[\"Diverted\"]==1]\n",
    "df1_can=df1[df1[\"Cancelled\"]==1]\n",
    "df1_div.shape#número de vuelos desviados"
   ]
  },
  {
   "cell_type": "code",
   "execution_count": 563,
   "id": "d98ca020",
   "metadata": {
    "ExecuteTime": {
     "end_time": "2022-05-22T16:04:37.215549Z",
     "start_time": "2022-05-22T16:04:37.205073Z"
    }
   },
   "outputs": [
    {
     "data": {
      "text/plain": [
       "(123, 30)"
      ]
     },
     "execution_count": 563,
     "metadata": {},
     "output_type": "execute_result"
    }
   ],
   "source": [
    "df1_can.shape#número de vuelos cancelados"
   ]
  },
  {
   "cell_type": "code",
   "execution_count": 564,
   "id": "ef0ff916",
   "metadata": {
    "ExecuteTime": {
     "end_time": "2022-05-22T16:04:41.292108Z",
     "start_time": "2022-05-22T16:04:41.269547Z"
    }
   },
   "outputs": [
    {
     "data": {
      "text/plain": [
       "1691"
      ]
     },
     "execution_count": 564,
     "metadata": {},
     "output_type": "execute_result"
    }
   ],
   "source": [
    "df1_div.shape[0]+df1_can.shape[0]# número total de cancelados y derivados. "
   ]
  },
  {
   "cell_type": "code",
   "execution_count": 565,
   "id": "52e37634",
   "metadata": {
    "ExecuteTime": {
     "end_time": "2022-05-22T16:04:51.796132Z",
     "start_time": "2022-05-22T16:04:51.780909Z"
    }
   },
   "outputs": [
    {
     "data": {
      "text/plain": [
       "1417"
      ]
     },
     "execution_count": 565,
     "metadata": {},
     "output_type": "execute_result"
    }
   ],
   "source": [
    "df1_div[\"ArrTime\"].isnull().sum()+df1_can[\"ArrTime\"].isnull().sum()# que coincide con los valores NaN de ArrTime"
   ]
  },
  {
   "cell_type": "code",
   "execution_count": 566,
   "id": "5aabb867",
   "metadata": {
    "ExecuteTime": {
     "end_time": "2022-05-22T16:04:56.066446Z",
     "start_time": "2022-05-22T16:04:56.036265Z"
    }
   },
   "outputs": [
    {
     "data": {
      "text/plain": [
       "1691"
      ]
     },
     "execution_count": 566,
     "metadata": {},
     "output_type": "execute_result"
    }
   ],
   "source": [
    "df1_div[\"ActualElapsedTime\"].isnull().sum()+df1_can[\"ActualElapsedTime\"].isnull().sum()# esto daría lo mismos \n",
    "# para ArrDelay y DepDelay"
   ]
  },
  {
   "cell_type": "markdown",
   "id": "c84f7168",
   "metadata": {},
   "source": [
    "Los valores NaN, coinciden con aquellos que el vuelos ha sido Cancelado o Desviado,por lo tanto, no aportan información \n",
    "\n",
    "al cálculo de la regresión de ArrDelay, optamos por eliminarlos"
   ]
  },
  {
   "cell_type": "code",
   "execution_count": 567,
   "id": "a22bddef",
   "metadata": {
    "ExecuteTime": {
     "end_time": "2022-05-22T16:06:11.031039Z",
     "start_time": "2022-05-22T16:06:10.625938Z"
    },
    "scrolled": true
   },
   "outputs": [
    {
     "data": {
      "text/plain": [
       "Unnamed: 0                0\n",
       "Year                      0\n",
       "Month                     0\n",
       "DayofMonth                0\n",
       "DayOfWeek                 0\n",
       "DepTime                   0\n",
       "CRSDepTime                0\n",
       "ArrTime                   0\n",
       "CRSArrTime                0\n",
       "UniqueCarrier             0\n",
       "FlightNum                 0\n",
       "TailNum                   1\n",
       "ActualElapsedTime         0\n",
       "CRSElapsedTime            0\n",
       "AirTime                   0\n",
       "ArrDelay                  0\n",
       "DepDelay                  0\n",
       "Origin                    0\n",
       "Dest                      0\n",
       "Distance                  0\n",
       "TaxiIn                    0\n",
       "TaxiOut                   0\n",
       "Cancelled                 0\n",
       "CancellationCode          0\n",
       "Diverted                  0\n",
       "CarrierDelay         136527\n",
       "WeatherDelay         136527\n",
       "NASDelay             136527\n",
       "SecurityDelay        136527\n",
       "LateAircraftDelay    136527\n",
       "dtype: int64"
      ]
     },
     "execution_count": 567,
     "metadata": {},
     "output_type": "execute_result"
    }
   ],
   "source": [
    "df2=df1.dropna( subset=[\"ArrDelay\"]).reset_index(drop=True)\n",
    "df2.isna().sum()"
   ]
  },
  {
   "cell_type": "markdown",
   "id": "524ce908",
   "metadata": {},
   "source": [
    "0.2. **Transformación de variables horarias**\n",
    "\n",
    "En esta parte vamos a convertir las variables DepTime,\tCRSDepTime,\tArrTime,\tCRSArrTime en la función cíclica. \n",
    "\n",
    "Estas cuatro variables vienen en formato horario  hh:mm. Lo que haremos será contar todos los minutos transcurridos durante \n",
    "\n",
    "el día, siendo 0 minutos a las 00:00 y 1440 los minutos transcurridos durante el día a las 23:59.\n",
    "\n",
    "Más adelante, en el apartado 0.4, transformaremos estas variables en cíclicas. \n",
    "\n",
    "\n",
    "\n",
    "\n",
    "\n"
   ]
  },
  {
   "cell_type": "code",
   "execution_count": 568,
   "id": "913702d9",
   "metadata": {
    "ExecuteTime": {
     "end_time": "2022-05-22T16:07:47.031127Z",
     "start_time": "2022-05-22T16:07:46.988637Z"
    }
   },
   "outputs": [],
   "source": [
    "# Primero de todo convierto las variables horarias en formato hora y para eso tienen que haber 4 digítos, que los relleno por la\n",
    "#izquierda con ceros\n",
    "# Primero tengo que convertir en entero las variables DepTime y ArrTime en enteros para evitar los decimales\n",
    "\n",
    "\n",
    "df2['DepTime'] = df2['DepTime'].astype(int)\n",
    "\n"
   ]
  },
  {
   "cell_type": "code",
   "execution_count": 569,
   "id": "4ac17e4f",
   "metadata": {
    "ExecuteTime": {
     "end_time": "2022-05-22T16:07:49.270308Z",
     "start_time": "2022-05-22T16:07:49.017956Z"
    }
   },
   "outputs": [
    {
     "data": {
      "text/html": [
       "<div>\n",
       "<style scoped>\n",
       "    .dataframe tbody tr th:only-of-type {\n",
       "        vertical-align: middle;\n",
       "    }\n",
       "\n",
       "    .dataframe tbody tr th {\n",
       "        vertical-align: top;\n",
       "    }\n",
       "\n",
       "    .dataframe thead th {\n",
       "        text-align: right;\n",
       "    }\n",
       "</style>\n",
       "<table border=\"1\" class=\"dataframe\">\n",
       "  <thead>\n",
       "    <tr style=\"text-align: right;\">\n",
       "      <th></th>\n",
       "      <th>Unnamed: 0</th>\n",
       "      <th>Year</th>\n",
       "      <th>Month</th>\n",
       "      <th>DayofMonth</th>\n",
       "      <th>DayOfWeek</th>\n",
       "      <th>DepTime</th>\n",
       "      <th>CRSDepTime</th>\n",
       "      <th>ArrTime</th>\n",
       "      <th>CRSArrTime</th>\n",
       "      <th>UniqueCarrier</th>\n",
       "      <th>...</th>\n",
       "      <th>TaxiIn</th>\n",
       "      <th>TaxiOut</th>\n",
       "      <th>Cancelled</th>\n",
       "      <th>CancellationCode</th>\n",
       "      <th>Diverted</th>\n",
       "      <th>CarrierDelay</th>\n",
       "      <th>WeatherDelay</th>\n",
       "      <th>NASDelay</th>\n",
       "      <th>SecurityDelay</th>\n",
       "      <th>LateAircraftDelay</th>\n",
       "    </tr>\n",
       "  </thead>\n",
       "  <tbody>\n",
       "    <tr>\n",
       "      <th>0</th>\n",
       "      <td>1238042</td>\n",
       "      <td>2008</td>\n",
       "      <td>3</td>\n",
       "      <td>21</td>\n",
       "      <td>5</td>\n",
       "      <td>1539</td>\n",
       "      <td>1515</td>\n",
       "      <td>1635</td>\n",
       "      <td>1615</td>\n",
       "      <td>WN</td>\n",
       "      <td>...</td>\n",
       "      <td>2.0</td>\n",
       "      <td>8.0</td>\n",
       "      <td>0</td>\n",
       "      <td>N</td>\n",
       "      <td>0</td>\n",
       "      <td>5.0</td>\n",
       "      <td>0.0</td>\n",
       "      <td>0.0</td>\n",
       "      <td>0.0</td>\n",
       "      <td>15.0</td>\n",
       "    </tr>\n",
       "    <tr>\n",
       "      <th>1</th>\n",
       "      <td>3136421</td>\n",
       "      <td>2008</td>\n",
       "      <td>6</td>\n",
       "      <td>16</td>\n",
       "      <td>1</td>\n",
       "      <td>1159</td>\n",
       "      <td>1125</td>\n",
       "      <td>1349</td>\n",
       "      <td>1245</td>\n",
       "      <td>YV</td>\n",
       "      <td>...</td>\n",
       "      <td>3.0</td>\n",
       "      <td>42.0</td>\n",
       "      <td>0</td>\n",
       "      <td>N</td>\n",
       "      <td>0</td>\n",
       "      <td>0.0</td>\n",
       "      <td>0.0</td>\n",
       "      <td>30.0</td>\n",
       "      <td>0.0</td>\n",
       "      <td>34.0</td>\n",
       "    </tr>\n",
       "    <tr>\n",
       "      <th>2</th>\n",
       "      <td>5390869</td>\n",
       "      <td>2008</td>\n",
       "      <td>10</td>\n",
       "      <td>5</td>\n",
       "      <td>7</td>\n",
       "      <td>1923</td>\n",
       "      <td>1915</td>\n",
       "      <td>2019</td>\n",
       "      <td>2015</td>\n",
       "      <td>WN</td>\n",
       "      <td>...</td>\n",
       "      <td>3.0</td>\n",
       "      <td>9.0</td>\n",
       "      <td>0</td>\n",
       "      <td>N</td>\n",
       "      <td>0</td>\n",
       "      <td>NaN</td>\n",
       "      <td>NaN</td>\n",
       "      <td>NaN</td>\n",
       "      <td>NaN</td>\n",
       "      <td>NaN</td>\n",
       "    </tr>\n",
       "    <tr>\n",
       "      <th>3</th>\n",
       "      <td>708931</td>\n",
       "      <td>2008</td>\n",
       "      <td>2</td>\n",
       "      <td>26</td>\n",
       "      <td>2</td>\n",
       "      <td>1612</td>\n",
       "      <td>1600</td>\n",
       "      <td>1853</td>\n",
       "      <td>1818</td>\n",
       "      <td>XE</td>\n",
       "      <td>...</td>\n",
       "      <td>7.0</td>\n",
       "      <td>29.0</td>\n",
       "      <td>0</td>\n",
       "      <td>N</td>\n",
       "      <td>0</td>\n",
       "      <td>0.0</td>\n",
       "      <td>0.0</td>\n",
       "      <td>23.0</td>\n",
       "      <td>0.0</td>\n",
       "      <td>12.0</td>\n",
       "    </tr>\n",
       "    <tr>\n",
       "      <th>4</th>\n",
       "      <td>4714155</td>\n",
       "      <td>2008</td>\n",
       "      <td>8</td>\n",
       "      <td>3</td>\n",
       "      <td>7</td>\n",
       "      <td>1742</td>\n",
       "      <td>1710</td>\n",
       "      <td>2053</td>\n",
       "      <td>2020</td>\n",
       "      <td>AA</td>\n",
       "      <td>...</td>\n",
       "      <td>10.0</td>\n",
       "      <td>45.0</td>\n",
       "      <td>0</td>\n",
       "      <td>N</td>\n",
       "      <td>0</td>\n",
       "      <td>0.0</td>\n",
       "      <td>0.0</td>\n",
       "      <td>19.0</td>\n",
       "      <td>0.0</td>\n",
       "      <td>14.0</td>\n",
       "    </tr>\n",
       "    <tr>\n",
       "      <th>...</th>\n",
       "      <td>...</td>\n",
       "      <td>...</td>\n",
       "      <td>...</td>\n",
       "      <td>...</td>\n",
       "      <td>...</td>\n",
       "      <td>...</td>\n",
       "      <td>...</td>\n",
       "      <td>...</td>\n",
       "      <td>...</td>\n",
       "      <td>...</td>\n",
       "      <td>...</td>\n",
       "      <td>...</td>\n",
       "      <td>...</td>\n",
       "      <td>...</td>\n",
       "      <td>...</td>\n",
       "      <td>...</td>\n",
       "      <td>...</td>\n",
       "      <td>...</td>\n",
       "      <td>...</td>\n",
       "      <td>...</td>\n",
       "      <td>...</td>\n",
       "    </tr>\n",
       "    <tr>\n",
       "      <th>388304</th>\n",
       "      <td>2637037</td>\n",
       "      <td>2008</td>\n",
       "      <td>5</td>\n",
       "      <td>9</td>\n",
       "      <td>5</td>\n",
       "      <td>1500</td>\n",
       "      <td>1446</td>\n",
       "      <td>1638</td>\n",
       "      <td>1629</td>\n",
       "      <td>UA</td>\n",
       "      <td>...</td>\n",
       "      <td>6.0</td>\n",
       "      <td>11.0</td>\n",
       "      <td>0</td>\n",
       "      <td>N</td>\n",
       "      <td>0</td>\n",
       "      <td>NaN</td>\n",
       "      <td>NaN</td>\n",
       "      <td>NaN</td>\n",
       "      <td>NaN</td>\n",
       "      <td>NaN</td>\n",
       "    </tr>\n",
       "    <tr>\n",
       "      <th>388305</th>\n",
       "      <td>4174570</td>\n",
       "      <td>2008</td>\n",
       "      <td>7</td>\n",
       "      <td>20</td>\n",
       "      <td>7</td>\n",
       "      <td>2108</td>\n",
       "      <td>2000</td>\n",
       "      <td>113</td>\n",
       "      <td>2253</td>\n",
       "      <td>B6</td>\n",
       "      <td>...</td>\n",
       "      <td>8.0</td>\n",
       "      <td>106.0</td>\n",
       "      <td>0</td>\n",
       "      <td>N</td>\n",
       "      <td>0</td>\n",
       "      <td>4.0</td>\n",
       "      <td>0.0</td>\n",
       "      <td>136.0</td>\n",
       "      <td>0.0</td>\n",
       "      <td>0.0</td>\n",
       "    </tr>\n",
       "    <tr>\n",
       "      <th>388306</th>\n",
       "      <td>4723413</td>\n",
       "      <td>2008</td>\n",
       "      <td>8</td>\n",
       "      <td>1</td>\n",
       "      <td>5</td>\n",
       "      <td>939</td>\n",
       "      <td>850</td>\n",
       "      <td>1137</td>\n",
       "      <td>1050</td>\n",
       "      <td>AA</td>\n",
       "      <td>...</td>\n",
       "      <td>13.0</td>\n",
       "      <td>10.0</td>\n",
       "      <td>0</td>\n",
       "      <td>N</td>\n",
       "      <td>0</td>\n",
       "      <td>4.0</td>\n",
       "      <td>0.0</td>\n",
       "      <td>0.0</td>\n",
       "      <td>0.0</td>\n",
       "      <td>43.0</td>\n",
       "    </tr>\n",
       "    <tr>\n",
       "      <th>388307</th>\n",
       "      <td>4603816</td>\n",
       "      <td>2008</td>\n",
       "      <td>8</td>\n",
       "      <td>18</td>\n",
       "      <td>1</td>\n",
       "      <td>1415</td>\n",
       "      <td>1408</td>\n",
       "      <td>1535</td>\n",
       "      <td>1541</td>\n",
       "      <td>FL</td>\n",
       "      <td>...</td>\n",
       "      <td>7.0</td>\n",
       "      <td>9.0</td>\n",
       "      <td>0</td>\n",
       "      <td>N</td>\n",
       "      <td>0</td>\n",
       "      <td>NaN</td>\n",
       "      <td>NaN</td>\n",
       "      <td>NaN</td>\n",
       "      <td>NaN</td>\n",
       "      <td>NaN</td>\n",
       "    </tr>\n",
       "    <tr>\n",
       "      <th>388308</th>\n",
       "      <td>626091</td>\n",
       "      <td>2008</td>\n",
       "      <td>2</td>\n",
       "      <td>8</td>\n",
       "      <td>5</td>\n",
       "      <td>1755</td>\n",
       "      <td>1740</td>\n",
       "      <td>1933</td>\n",
       "      <td>1925</td>\n",
       "      <td>WN</td>\n",
       "      <td>...</td>\n",
       "      <td>4.0</td>\n",
       "      <td>13.0</td>\n",
       "      <td>0</td>\n",
       "      <td>N</td>\n",
       "      <td>0</td>\n",
       "      <td>NaN</td>\n",
       "      <td>NaN</td>\n",
       "      <td>NaN</td>\n",
       "      <td>NaN</td>\n",
       "      <td>NaN</td>\n",
       "    </tr>\n",
       "  </tbody>\n",
       "</table>\n",
       "<p>388309 rows × 30 columns</p>\n",
       "</div>"
      ],
      "text/plain": [
       "        Unnamed: 0  Year  Month  DayofMonth  DayOfWeek  DepTime  CRSDepTime  \\\n",
       "0          1238042  2008      3          21          5     1539        1515   \n",
       "1          3136421  2008      6          16          1     1159        1125   \n",
       "2          5390869  2008     10           5          7     1923        1915   \n",
       "3           708931  2008      2          26          2     1612        1600   \n",
       "4          4714155  2008      8           3          7     1742        1710   \n",
       "...            ...   ...    ...         ...        ...      ...         ...   \n",
       "388304     2637037  2008      5           9          5     1500        1446   \n",
       "388305     4174570  2008      7          20          7     2108        2000   \n",
       "388306     4723413  2008      8           1          5      939         850   \n",
       "388307     4603816  2008      8          18          1     1415        1408   \n",
       "388308      626091  2008      2           8          5     1755        1740   \n",
       "\n",
       "        ArrTime  CRSArrTime UniqueCarrier  ...  TaxiIn TaxiOut  Cancelled  \\\n",
       "0          1635        1615            WN  ...     2.0     8.0          0   \n",
       "1          1349        1245            YV  ...     3.0    42.0          0   \n",
       "2          2019        2015            WN  ...     3.0     9.0          0   \n",
       "3          1853        1818            XE  ...     7.0    29.0          0   \n",
       "4          2053        2020            AA  ...    10.0    45.0          0   \n",
       "...         ...         ...           ...  ...     ...     ...        ...   \n",
       "388304     1638        1629            UA  ...     6.0    11.0          0   \n",
       "388305      113        2253            B6  ...     8.0   106.0          0   \n",
       "388306     1137        1050            AA  ...    13.0    10.0          0   \n",
       "388307     1535        1541            FL  ...     7.0     9.0          0   \n",
       "388308     1933        1925            WN  ...     4.0    13.0          0   \n",
       "\n",
       "        CancellationCode  Diverted  CarrierDelay  WeatherDelay NASDelay  \\\n",
       "0                      N         0           5.0           0.0      0.0   \n",
       "1                      N         0           0.0           0.0     30.0   \n",
       "2                      N         0           NaN           NaN      NaN   \n",
       "3                      N         0           0.0           0.0     23.0   \n",
       "4                      N         0           0.0           0.0     19.0   \n",
       "...                  ...       ...           ...           ...      ...   \n",
       "388304                 N         0           NaN           NaN      NaN   \n",
       "388305                 N         0           4.0           0.0    136.0   \n",
       "388306                 N         0           4.0           0.0      0.0   \n",
       "388307                 N         0           NaN           NaN      NaN   \n",
       "388308                 N         0           NaN           NaN      NaN   \n",
       "\n",
       "       SecurityDelay  LateAircraftDelay  \n",
       "0                0.0               15.0  \n",
       "1                0.0               34.0  \n",
       "2                NaN                NaN  \n",
       "3                0.0               12.0  \n",
       "4                0.0               14.0  \n",
       "...              ...                ...  \n",
       "388304           NaN                NaN  \n",
       "388305           0.0                0.0  \n",
       "388306           0.0               43.0  \n",
       "388307           NaN                NaN  \n",
       "388308           NaN                NaN  \n",
       "\n",
       "[388309 rows x 30 columns]"
      ]
     },
     "execution_count": 569,
     "metadata": {},
     "output_type": "execute_result"
    }
   ],
   "source": [
    "\n",
    "df2['ArrTime'] = df2['ArrTime'].astype(int)\n",
    "df2"
   ]
  },
  {
   "cell_type": "code",
   "execution_count": 570,
   "id": "50b0bb65",
   "metadata": {
    "ExecuteTime": {
     "end_time": "2022-05-22T16:07:57.173675Z",
     "start_time": "2022-05-22T16:07:54.033030Z"
    }
   },
   "outputs": [
    {
     "data": {
      "text/html": [
       "<div>\n",
       "<style scoped>\n",
       "    .dataframe tbody tr th:only-of-type {\n",
       "        vertical-align: middle;\n",
       "    }\n",
       "\n",
       "    .dataframe tbody tr th {\n",
       "        vertical-align: top;\n",
       "    }\n",
       "\n",
       "    .dataframe thead th {\n",
       "        text-align: right;\n",
       "    }\n",
       "</style>\n",
       "<table border=\"1\" class=\"dataframe\">\n",
       "  <thead>\n",
       "    <tr style=\"text-align: right;\">\n",
       "      <th></th>\n",
       "      <th>Unnamed: 0</th>\n",
       "      <th>Year</th>\n",
       "      <th>Month</th>\n",
       "      <th>DayofMonth</th>\n",
       "      <th>DayOfWeek</th>\n",
       "      <th>DepTime</th>\n",
       "      <th>CRSDepTime</th>\n",
       "      <th>ArrTime</th>\n",
       "      <th>CRSArrTime</th>\n",
       "      <th>UniqueCarrier</th>\n",
       "      <th>...</th>\n",
       "      <th>TaxiIn</th>\n",
       "      <th>TaxiOut</th>\n",
       "      <th>Cancelled</th>\n",
       "      <th>CancellationCode</th>\n",
       "      <th>Diverted</th>\n",
       "      <th>CarrierDelay</th>\n",
       "      <th>WeatherDelay</th>\n",
       "      <th>NASDelay</th>\n",
       "      <th>SecurityDelay</th>\n",
       "      <th>LateAircraftDelay</th>\n",
       "    </tr>\n",
       "  </thead>\n",
       "  <tbody>\n",
       "    <tr>\n",
       "      <th>0</th>\n",
       "      <td>1238042</td>\n",
       "      <td>2008</td>\n",
       "      <td>3</td>\n",
       "      <td>21</td>\n",
       "      <td>5</td>\n",
       "      <td>1539</td>\n",
       "      <td>1515</td>\n",
       "      <td>1635</td>\n",
       "      <td>1615</td>\n",
       "      <td>WN</td>\n",
       "      <td>...</td>\n",
       "      <td>2.0</td>\n",
       "      <td>8.0</td>\n",
       "      <td>0</td>\n",
       "      <td>N</td>\n",
       "      <td>0</td>\n",
       "      <td>5.0</td>\n",
       "      <td>0.0</td>\n",
       "      <td>0.0</td>\n",
       "      <td>0.0</td>\n",
       "      <td>15.0</td>\n",
       "    </tr>\n",
       "    <tr>\n",
       "      <th>1</th>\n",
       "      <td>3136421</td>\n",
       "      <td>2008</td>\n",
       "      <td>6</td>\n",
       "      <td>16</td>\n",
       "      <td>1</td>\n",
       "      <td>1159</td>\n",
       "      <td>1125</td>\n",
       "      <td>1349</td>\n",
       "      <td>1245</td>\n",
       "      <td>YV</td>\n",
       "      <td>...</td>\n",
       "      <td>3.0</td>\n",
       "      <td>42.0</td>\n",
       "      <td>0</td>\n",
       "      <td>N</td>\n",
       "      <td>0</td>\n",
       "      <td>0.0</td>\n",
       "      <td>0.0</td>\n",
       "      <td>30.0</td>\n",
       "      <td>0.0</td>\n",
       "      <td>34.0</td>\n",
       "    </tr>\n",
       "    <tr>\n",
       "      <th>2</th>\n",
       "      <td>5390869</td>\n",
       "      <td>2008</td>\n",
       "      <td>10</td>\n",
       "      <td>5</td>\n",
       "      <td>7</td>\n",
       "      <td>1923</td>\n",
       "      <td>1915</td>\n",
       "      <td>2019</td>\n",
       "      <td>2015</td>\n",
       "      <td>WN</td>\n",
       "      <td>...</td>\n",
       "      <td>3.0</td>\n",
       "      <td>9.0</td>\n",
       "      <td>0</td>\n",
       "      <td>N</td>\n",
       "      <td>0</td>\n",
       "      <td>NaN</td>\n",
       "      <td>NaN</td>\n",
       "      <td>NaN</td>\n",
       "      <td>NaN</td>\n",
       "      <td>NaN</td>\n",
       "    </tr>\n",
       "    <tr>\n",
       "      <th>3</th>\n",
       "      <td>708931</td>\n",
       "      <td>2008</td>\n",
       "      <td>2</td>\n",
       "      <td>26</td>\n",
       "      <td>2</td>\n",
       "      <td>1612</td>\n",
       "      <td>1600</td>\n",
       "      <td>1853</td>\n",
       "      <td>1818</td>\n",
       "      <td>XE</td>\n",
       "      <td>...</td>\n",
       "      <td>7.0</td>\n",
       "      <td>29.0</td>\n",
       "      <td>0</td>\n",
       "      <td>N</td>\n",
       "      <td>0</td>\n",
       "      <td>0.0</td>\n",
       "      <td>0.0</td>\n",
       "      <td>23.0</td>\n",
       "      <td>0.0</td>\n",
       "      <td>12.0</td>\n",
       "    </tr>\n",
       "    <tr>\n",
       "      <th>4</th>\n",
       "      <td>4714155</td>\n",
       "      <td>2008</td>\n",
       "      <td>8</td>\n",
       "      <td>3</td>\n",
       "      <td>7</td>\n",
       "      <td>1742</td>\n",
       "      <td>1710</td>\n",
       "      <td>2053</td>\n",
       "      <td>2020</td>\n",
       "      <td>AA</td>\n",
       "      <td>...</td>\n",
       "      <td>10.0</td>\n",
       "      <td>45.0</td>\n",
       "      <td>0</td>\n",
       "      <td>N</td>\n",
       "      <td>0</td>\n",
       "      <td>0.0</td>\n",
       "      <td>0.0</td>\n",
       "      <td>19.0</td>\n",
       "      <td>0.0</td>\n",
       "      <td>14.0</td>\n",
       "    </tr>\n",
       "  </tbody>\n",
       "</table>\n",
       "<p>5 rows × 30 columns</p>\n",
       "</div>"
      ],
      "text/plain": [
       "   Unnamed: 0  Year  Month  DayofMonth  DayOfWeek DepTime CRSDepTime ArrTime  \\\n",
       "0     1238042  2008      3          21          5    1539       1515    1635   \n",
       "1     3136421  2008      6          16          1    1159       1125    1349   \n",
       "2     5390869  2008     10           5          7    1923       1915    2019   \n",
       "3      708931  2008      2          26          2    1612       1600    1853   \n",
       "4     4714155  2008      8           3          7    1742       1710    2053   \n",
       "\n",
       "  CRSArrTime UniqueCarrier  ...  TaxiIn TaxiOut  Cancelled  CancellationCode  \\\n",
       "0       1615            WN  ...     2.0     8.0          0                 N   \n",
       "1       1245            YV  ...     3.0    42.0          0                 N   \n",
       "2       2015            WN  ...     3.0     9.0          0                 N   \n",
       "3       1818            XE  ...     7.0    29.0          0                 N   \n",
       "4       2020            AA  ...    10.0    45.0          0                 N   \n",
       "\n",
       "   Diverted  CarrierDelay  WeatherDelay NASDelay SecurityDelay  \\\n",
       "0         0           5.0           0.0      0.0           0.0   \n",
       "1         0           0.0           0.0     30.0           0.0   \n",
       "2         0           NaN           NaN      NaN           NaN   \n",
       "3         0           0.0           0.0     23.0           0.0   \n",
       "4         0           0.0           0.0     19.0           0.0   \n",
       "\n",
       "   LateAircraftDelay  \n",
       "0               15.0  \n",
       "1               34.0  \n",
       "2                NaN  \n",
       "3               12.0  \n",
       "4               14.0  \n",
       "\n",
       "[5 rows x 30 columns]"
      ]
     },
     "execution_count": 570,
     "metadata": {},
     "output_type": "execute_result"
    }
   ],
   "source": [
    "#relleno por la izquierda con ceros\n",
    "df2['DepTime'] = df2['DepTime'].astype(str).str.zfill(4)\n",
    "df2['CRSDepTime'] = df2['CRSDepTime'].astype(str).str.zfill(4)\n",
    "df2['ArrTime'] = df2['ArrTime'].astype(str).str .zfill(4)\n",
    "df2['CRSArrTime'] = df2['CRSArrTime'].astype(str).str.zfill(4)\n",
    "df2.head()"
   ]
  },
  {
   "cell_type": "code",
   "execution_count": 571,
   "id": "edf2f012",
   "metadata": {
    "ExecuteTime": {
     "end_time": "2022-05-22T16:08:57.106592Z",
     "start_time": "2022-05-22T16:08:54.018396Z"
    }
   },
   "outputs": [
    {
     "data": {
      "text/html": [
       "<div>\n",
       "<style scoped>\n",
       "    .dataframe tbody tr th:only-of-type {\n",
       "        vertical-align: middle;\n",
       "    }\n",
       "\n",
       "    .dataframe tbody tr th {\n",
       "        vertical-align: top;\n",
       "    }\n",
       "\n",
       "    .dataframe thead th {\n",
       "        text-align: right;\n",
       "    }\n",
       "</style>\n",
       "<table border=\"1\" class=\"dataframe\">\n",
       "  <thead>\n",
       "    <tr style=\"text-align: right;\">\n",
       "      <th></th>\n",
       "      <th>Unnamed: 0</th>\n",
       "      <th>Year</th>\n",
       "      <th>Month</th>\n",
       "      <th>DayofMonth</th>\n",
       "      <th>DayOfWeek</th>\n",
       "      <th>DepTime</th>\n",
       "      <th>CRSDepTime</th>\n",
       "      <th>ArrTime</th>\n",
       "      <th>CRSArrTime</th>\n",
       "      <th>UniqueCarrier</th>\n",
       "      <th>...</th>\n",
       "      <th>TaxiIn</th>\n",
       "      <th>TaxiOut</th>\n",
       "      <th>Cancelled</th>\n",
       "      <th>CancellationCode</th>\n",
       "      <th>Diverted</th>\n",
       "      <th>CarrierDelay</th>\n",
       "      <th>WeatherDelay</th>\n",
       "      <th>NASDelay</th>\n",
       "      <th>SecurityDelay</th>\n",
       "      <th>LateAircraftDelay</th>\n",
       "    </tr>\n",
       "  </thead>\n",
       "  <tbody>\n",
       "    <tr>\n",
       "      <th>0</th>\n",
       "      <td>1238042</td>\n",
       "      <td>2008</td>\n",
       "      <td>3</td>\n",
       "      <td>21</td>\n",
       "      <td>5</td>\n",
       "      <td>15:39:00</td>\n",
       "      <td>15:15:00</td>\n",
       "      <td>16:35:00</td>\n",
       "      <td>16:15:00</td>\n",
       "      <td>WN</td>\n",
       "      <td>...</td>\n",
       "      <td>2.0</td>\n",
       "      <td>8.0</td>\n",
       "      <td>0</td>\n",
       "      <td>N</td>\n",
       "      <td>0</td>\n",
       "      <td>5.0</td>\n",
       "      <td>0.0</td>\n",
       "      <td>0.0</td>\n",
       "      <td>0.0</td>\n",
       "      <td>15.0</td>\n",
       "    </tr>\n",
       "    <tr>\n",
       "      <th>1</th>\n",
       "      <td>3136421</td>\n",
       "      <td>2008</td>\n",
       "      <td>6</td>\n",
       "      <td>16</td>\n",
       "      <td>1</td>\n",
       "      <td>11:59:00</td>\n",
       "      <td>11:25:00</td>\n",
       "      <td>13:49:00</td>\n",
       "      <td>12:45:00</td>\n",
       "      <td>YV</td>\n",
       "      <td>...</td>\n",
       "      <td>3.0</td>\n",
       "      <td>42.0</td>\n",
       "      <td>0</td>\n",
       "      <td>N</td>\n",
       "      <td>0</td>\n",
       "      <td>0.0</td>\n",
       "      <td>0.0</td>\n",
       "      <td>30.0</td>\n",
       "      <td>0.0</td>\n",
       "      <td>34.0</td>\n",
       "    </tr>\n",
       "    <tr>\n",
       "      <th>2</th>\n",
       "      <td>5390869</td>\n",
       "      <td>2008</td>\n",
       "      <td>10</td>\n",
       "      <td>5</td>\n",
       "      <td>7</td>\n",
       "      <td>19:23:00</td>\n",
       "      <td>19:15:00</td>\n",
       "      <td>20:19:00</td>\n",
       "      <td>20:15:00</td>\n",
       "      <td>WN</td>\n",
       "      <td>...</td>\n",
       "      <td>3.0</td>\n",
       "      <td>9.0</td>\n",
       "      <td>0</td>\n",
       "      <td>N</td>\n",
       "      <td>0</td>\n",
       "      <td>NaN</td>\n",
       "      <td>NaN</td>\n",
       "      <td>NaN</td>\n",
       "      <td>NaN</td>\n",
       "      <td>NaN</td>\n",
       "    </tr>\n",
       "    <tr>\n",
       "      <th>3</th>\n",
       "      <td>708931</td>\n",
       "      <td>2008</td>\n",
       "      <td>2</td>\n",
       "      <td>26</td>\n",
       "      <td>2</td>\n",
       "      <td>16:12:00</td>\n",
       "      <td>16:00:00</td>\n",
       "      <td>18:53:00</td>\n",
       "      <td>18:18:00</td>\n",
       "      <td>XE</td>\n",
       "      <td>...</td>\n",
       "      <td>7.0</td>\n",
       "      <td>29.0</td>\n",
       "      <td>0</td>\n",
       "      <td>N</td>\n",
       "      <td>0</td>\n",
       "      <td>0.0</td>\n",
       "      <td>0.0</td>\n",
       "      <td>23.0</td>\n",
       "      <td>0.0</td>\n",
       "      <td>12.0</td>\n",
       "    </tr>\n",
       "    <tr>\n",
       "      <th>4</th>\n",
       "      <td>4714155</td>\n",
       "      <td>2008</td>\n",
       "      <td>8</td>\n",
       "      <td>3</td>\n",
       "      <td>7</td>\n",
       "      <td>17:42:00</td>\n",
       "      <td>17:10:00</td>\n",
       "      <td>20:53:00</td>\n",
       "      <td>20:20:00</td>\n",
       "      <td>AA</td>\n",
       "      <td>...</td>\n",
       "      <td>10.0</td>\n",
       "      <td>45.0</td>\n",
       "      <td>0</td>\n",
       "      <td>N</td>\n",
       "      <td>0</td>\n",
       "      <td>0.0</td>\n",
       "      <td>0.0</td>\n",
       "      <td>19.0</td>\n",
       "      <td>0.0</td>\n",
       "      <td>14.0</td>\n",
       "    </tr>\n",
       "    <tr>\n",
       "      <th>...</th>\n",
       "      <td>...</td>\n",
       "      <td>...</td>\n",
       "      <td>...</td>\n",
       "      <td>...</td>\n",
       "      <td>...</td>\n",
       "      <td>...</td>\n",
       "      <td>...</td>\n",
       "      <td>...</td>\n",
       "      <td>...</td>\n",
       "      <td>...</td>\n",
       "      <td>...</td>\n",
       "      <td>...</td>\n",
       "      <td>...</td>\n",
       "      <td>...</td>\n",
       "      <td>...</td>\n",
       "      <td>...</td>\n",
       "      <td>...</td>\n",
       "      <td>...</td>\n",
       "      <td>...</td>\n",
       "      <td>...</td>\n",
       "      <td>...</td>\n",
       "    </tr>\n",
       "    <tr>\n",
       "      <th>388304</th>\n",
       "      <td>2637037</td>\n",
       "      <td>2008</td>\n",
       "      <td>5</td>\n",
       "      <td>9</td>\n",
       "      <td>5</td>\n",
       "      <td>15:00:00</td>\n",
       "      <td>14:46:00</td>\n",
       "      <td>16:38:00</td>\n",
       "      <td>16:29:00</td>\n",
       "      <td>UA</td>\n",
       "      <td>...</td>\n",
       "      <td>6.0</td>\n",
       "      <td>11.0</td>\n",
       "      <td>0</td>\n",
       "      <td>N</td>\n",
       "      <td>0</td>\n",
       "      <td>NaN</td>\n",
       "      <td>NaN</td>\n",
       "      <td>NaN</td>\n",
       "      <td>NaN</td>\n",
       "      <td>NaN</td>\n",
       "    </tr>\n",
       "    <tr>\n",
       "      <th>388305</th>\n",
       "      <td>4174570</td>\n",
       "      <td>2008</td>\n",
       "      <td>7</td>\n",
       "      <td>20</td>\n",
       "      <td>7</td>\n",
       "      <td>21:08:00</td>\n",
       "      <td>20:00:00</td>\n",
       "      <td>01:13:00</td>\n",
       "      <td>22:53:00</td>\n",
       "      <td>B6</td>\n",
       "      <td>...</td>\n",
       "      <td>8.0</td>\n",
       "      <td>106.0</td>\n",
       "      <td>0</td>\n",
       "      <td>N</td>\n",
       "      <td>0</td>\n",
       "      <td>4.0</td>\n",
       "      <td>0.0</td>\n",
       "      <td>136.0</td>\n",
       "      <td>0.0</td>\n",
       "      <td>0.0</td>\n",
       "    </tr>\n",
       "    <tr>\n",
       "      <th>388306</th>\n",
       "      <td>4723413</td>\n",
       "      <td>2008</td>\n",
       "      <td>8</td>\n",
       "      <td>1</td>\n",
       "      <td>5</td>\n",
       "      <td>09:39:00</td>\n",
       "      <td>08:50:00</td>\n",
       "      <td>11:37:00</td>\n",
       "      <td>10:50:00</td>\n",
       "      <td>AA</td>\n",
       "      <td>...</td>\n",
       "      <td>13.0</td>\n",
       "      <td>10.0</td>\n",
       "      <td>0</td>\n",
       "      <td>N</td>\n",
       "      <td>0</td>\n",
       "      <td>4.0</td>\n",
       "      <td>0.0</td>\n",
       "      <td>0.0</td>\n",
       "      <td>0.0</td>\n",
       "      <td>43.0</td>\n",
       "    </tr>\n",
       "    <tr>\n",
       "      <th>388307</th>\n",
       "      <td>4603816</td>\n",
       "      <td>2008</td>\n",
       "      <td>8</td>\n",
       "      <td>18</td>\n",
       "      <td>1</td>\n",
       "      <td>14:15:00</td>\n",
       "      <td>14:08:00</td>\n",
       "      <td>15:35:00</td>\n",
       "      <td>15:41:00</td>\n",
       "      <td>FL</td>\n",
       "      <td>...</td>\n",
       "      <td>7.0</td>\n",
       "      <td>9.0</td>\n",
       "      <td>0</td>\n",
       "      <td>N</td>\n",
       "      <td>0</td>\n",
       "      <td>NaN</td>\n",
       "      <td>NaN</td>\n",
       "      <td>NaN</td>\n",
       "      <td>NaN</td>\n",
       "      <td>NaN</td>\n",
       "    </tr>\n",
       "    <tr>\n",
       "      <th>388308</th>\n",
       "      <td>626091</td>\n",
       "      <td>2008</td>\n",
       "      <td>2</td>\n",
       "      <td>8</td>\n",
       "      <td>5</td>\n",
       "      <td>17:55:00</td>\n",
       "      <td>17:40:00</td>\n",
       "      <td>19:33:00</td>\n",
       "      <td>19:25:00</td>\n",
       "      <td>WN</td>\n",
       "      <td>...</td>\n",
       "      <td>4.0</td>\n",
       "      <td>13.0</td>\n",
       "      <td>0</td>\n",
       "      <td>N</td>\n",
       "      <td>0</td>\n",
       "      <td>NaN</td>\n",
       "      <td>NaN</td>\n",
       "      <td>NaN</td>\n",
       "      <td>NaN</td>\n",
       "      <td>NaN</td>\n",
       "    </tr>\n",
       "  </tbody>\n",
       "</table>\n",
       "<p>388309 rows × 30 columns</p>\n",
       "</div>"
      ],
      "text/plain": [
       "        Unnamed: 0  Year  Month  DayofMonth  DayOfWeek   DepTime CRSDepTime  \\\n",
       "0          1238042  2008      3          21          5  15:39:00   15:15:00   \n",
       "1          3136421  2008      6          16          1  11:59:00   11:25:00   \n",
       "2          5390869  2008     10           5          7  19:23:00   19:15:00   \n",
       "3           708931  2008      2          26          2  16:12:00   16:00:00   \n",
       "4          4714155  2008      8           3          7  17:42:00   17:10:00   \n",
       "...            ...   ...    ...         ...        ...       ...        ...   \n",
       "388304     2637037  2008      5           9          5  15:00:00   14:46:00   \n",
       "388305     4174570  2008      7          20          7  21:08:00   20:00:00   \n",
       "388306     4723413  2008      8           1          5  09:39:00   08:50:00   \n",
       "388307     4603816  2008      8          18          1  14:15:00   14:08:00   \n",
       "388308      626091  2008      2           8          5  17:55:00   17:40:00   \n",
       "\n",
       "         ArrTime CRSArrTime UniqueCarrier  ...  TaxiIn TaxiOut  Cancelled  \\\n",
       "0       16:35:00   16:15:00            WN  ...     2.0     8.0          0   \n",
       "1       13:49:00   12:45:00            YV  ...     3.0    42.0          0   \n",
       "2       20:19:00   20:15:00            WN  ...     3.0     9.0          0   \n",
       "3       18:53:00   18:18:00            XE  ...     7.0    29.0          0   \n",
       "4       20:53:00   20:20:00            AA  ...    10.0    45.0          0   \n",
       "...          ...        ...           ...  ...     ...     ...        ...   \n",
       "388304  16:38:00   16:29:00            UA  ...     6.0    11.0          0   \n",
       "388305  01:13:00   22:53:00            B6  ...     8.0   106.0          0   \n",
       "388306  11:37:00   10:50:00            AA  ...    13.0    10.0          0   \n",
       "388307  15:35:00   15:41:00            FL  ...     7.0     9.0          0   \n",
       "388308  19:33:00   19:25:00            WN  ...     4.0    13.0          0   \n",
       "\n",
       "        CancellationCode  Diverted  CarrierDelay  WeatherDelay NASDelay  \\\n",
       "0                      N         0           5.0           0.0      0.0   \n",
       "1                      N         0           0.0           0.0     30.0   \n",
       "2                      N         0           NaN           NaN      NaN   \n",
       "3                      N         0           0.0           0.0     23.0   \n",
       "4                      N         0           0.0           0.0     19.0   \n",
       "...                  ...       ...           ...           ...      ...   \n",
       "388304                 N         0           NaN           NaN      NaN   \n",
       "388305                 N         0           4.0           0.0    136.0   \n",
       "388306                 N         0           4.0           0.0      0.0   \n",
       "388307                 N         0           NaN           NaN      NaN   \n",
       "388308                 N         0           NaN           NaN      NaN   \n",
       "\n",
       "       SecurityDelay  LateAircraftDelay  \n",
       "0                0.0               15.0  \n",
       "1                0.0               34.0  \n",
       "2                NaN                NaN  \n",
       "3                0.0               12.0  \n",
       "4                0.0               14.0  \n",
       "...              ...                ...  \n",
       "388304           NaN                NaN  \n",
       "388305           0.0                0.0  \n",
       "388306           0.0               43.0  \n",
       "388307           NaN                NaN  \n",
       "388308           NaN                NaN  \n",
       "\n",
       "[388309 rows x 30 columns]"
      ]
     },
     "execution_count": 571,
     "metadata": {},
     "output_type": "execute_result"
    }
   ],
   "source": [
    "# las convierto en formato horario( Nota: en un principio lo pasé a formato horario por si lo necesitaba para datetime, pero \n",
    "# al final opté por otro tipo de conversión)\n",
    "df2['DepTime'] = df2['DepTime'].astype(str).str[:2]  + ':' + df2['DepTime'].astype(str).str[2:4] + ':00' \n",
    "df2['CRSDepTime'] = df2['CRSDepTime'].astype(str).str[:2] + ':' + df2['CRSDepTime'].astype(str).str[2:4] + ':00' \n",
    "df2['ArrTime'] = df2['ArrTime'].astype(str).str[:2] + ':' + df2['ArrTime'].astype(str).str[2:4]  + ':00'\n",
    "df2['CRSArrTime'] = df2['CRSArrTime'].astype(str).str[:2] + ':' + df2['CRSArrTime'].astype(str).str[2:4] + ':00'\n",
    "\n",
    "\n",
    "df2"
   ]
  },
  {
   "cell_type": "code",
   "execution_count": 572,
   "id": "afdb7762",
   "metadata": {
    "ExecuteTime": {
     "end_time": "2022-05-22T16:09:39.308322Z",
     "start_time": "2022-05-22T16:09:39.084491Z"
    }
   },
   "outputs": [],
   "source": [
    "# creamos la función minutos, que divide la hora hh:mm con un Split, en una lista (\"hh\",\"mm\"), reconvierte hh y mm en enteros,\n",
    "# para luego pasarlos a minutos, y con la reconverión ya comentada aplica la función minutos()\n",
    "def minutos(x):    \n",
    "    x=x.split( sep=\":\")\n",
    "    seg= 60*(int(x[0]))+(int(x[1]))\n",
    "    \n",
    "    return seg\n",
    "\n",
    "\n",
    "\n",
    "dfhoras= df2[[\"DepTime\", \"CRSDepTime\", \"ArrTime\", \"CRSArrTime\"]]\n",
    "\n",
    "    "
   ]
  },
  {
   "cell_type": "code",
   "execution_count": 573,
   "id": "a0ad3319",
   "metadata": {
    "ExecuteTime": {
     "end_time": "2022-05-22T16:09:46.476365Z",
     "start_time": "2022-05-22T16:09:43.895005Z"
    }
   },
   "outputs": [],
   "source": [
    "dfhoras_DT= dfhoras[\"DepTime\"].apply(minutos)\n",
    "dfhoras_CRSD=dfhoras[\"CRSDepTime\"].apply(minutos)\n",
    "dfhoras_AT=dfhoras[\"ArrTime\"].apply(minutos)\n",
    "dfhoras_CRSA=dfhoras[\"CRSArrTime\"].apply(minutos)\n",
    "\n"
   ]
  },
  {
   "cell_type": "code",
   "execution_count": 574,
   "id": "a158d848",
   "metadata": {
    "ExecuteTime": {
     "end_time": "2022-05-22T16:09:47.436416Z",
     "start_time": "2022-05-22T16:09:47.404473Z"
    }
   },
   "outputs": [
    {
     "data": {
      "text/plain": [
       "Index(['Unnamed: 0', 'Year', 'Month', 'DayofMonth', 'DayOfWeek', 'DepTime',\n",
       "       'CRSDepTime', 'ArrTime', 'CRSArrTime', 'UniqueCarrier', 'FlightNum',\n",
       "       'TailNum', 'ActualElapsedTime', 'CRSElapsedTime', 'AirTime', 'ArrDelay',\n",
       "       'DepDelay', 'Origin', 'Dest', 'Distance', 'TaxiIn', 'TaxiOut',\n",
       "       'Cancelled', 'CancellationCode', 'Diverted', 'CarrierDelay',\n",
       "       'WeatherDelay', 'NASDelay', 'SecurityDelay', 'LateAircraftDelay'],\n",
       "      dtype='object')"
      ]
     },
     "execution_count": 574,
     "metadata": {},
     "output_type": "execute_result"
    }
   ],
   "source": [
    "df2.columns"
   ]
  },
  {
   "cell_type": "code",
   "execution_count": 575,
   "id": "8ecf24ba",
   "metadata": {
    "ExecuteTime": {
     "end_time": "2022-05-22T16:10:02.485031Z",
     "start_time": "2022-05-22T16:10:02.405988Z"
    }
   },
   "outputs": [],
   "source": [
    "df3= df2.drop(['Unnamed: 0', 'Year', 'DepTime',\n",
    "       'CRSDepTime', 'ArrTime', 'CRSArrTime','FlightNum', 'TailNum', 'Cancelled', 'CancellationCode', \"Diverted\"], axis=1) \n",
    "# 'Unnamed: 0' y  'Year\" no aportan nada,  TailNum y Flight Num son eliminadas por cuestión de practicidad y para no \n",
    "# añadir columnas vía Dummies por cada código de vuelo o Tailnum \n",
    "# Y al Final , Cancelled y Diverted no aportan nada al cálculo de arrdelay"
   ]
  },
  {
   "cell_type": "code",
   "execution_count": 576,
   "id": "1abab35b",
   "metadata": {
    "ExecuteTime": {
     "end_time": "2022-05-22T16:10:08.278026Z",
     "start_time": "2022-05-22T16:10:08.177297Z"
    }
   },
   "outputs": [
    {
     "data": {
      "text/plain": [
       "Index(['Month', 'DayofMonth', 'DayOfWeek', 'UniqueCarrier',\n",
       "       'ActualElapsedTime', 'CRSElapsedTime', 'AirTime', 'ArrDelay',\n",
       "       'DepDelay', 'Origin', 'Dest', 'Distance', 'TaxiIn', 'TaxiOut',\n",
       "       'CarrierDelay', 'WeatherDelay', 'NASDelay', 'SecurityDelay',\n",
       "       'LateAircraftDelay', 'DepTime', 'CRSDepTime', 'ArrTime', 'CRSArrTime'],\n",
       "      dtype='object')"
      ]
     },
     "execution_count": 576,
     "metadata": {},
     "output_type": "execute_result"
    }
   ],
   "source": [
    "# ahora añadimos las cuatro columnas nuevas\n",
    "\n",
    "df4= pd.concat([df3, dfhoras_DT,dfhoras_CRSD , dfhoras_AT, dfhoras_CRSA], axis=1)\n",
    "df4.columns\n"
   ]
  },
  {
   "cell_type": "code",
   "execution_count": 578,
   "id": "a4c7655c",
   "metadata": {
    "ExecuteTime": {
     "end_time": "2022-05-22T16:10:58.577945Z",
     "start_time": "2022-05-22T16:10:58.444546Z"
    }
   },
   "outputs": [
    {
     "data": {
      "text/html": [
       "<div>\n",
       "<style scoped>\n",
       "    .dataframe tbody tr th:only-of-type {\n",
       "        vertical-align: middle;\n",
       "    }\n",
       "\n",
       "    .dataframe tbody tr th {\n",
       "        vertical-align: top;\n",
       "    }\n",
       "\n",
       "    .dataframe thead th {\n",
       "        text-align: right;\n",
       "    }\n",
       "</style>\n",
       "<table border=\"1\" class=\"dataframe\">\n",
       "  <thead>\n",
       "    <tr style=\"text-align: right;\">\n",
       "      <th></th>\n",
       "      <th>DepTime</th>\n",
       "      <th>CRSDepTime</th>\n",
       "      <th>ArrTime</th>\n",
       "      <th>CRSArrTime</th>\n",
       "    </tr>\n",
       "  </thead>\n",
       "  <tbody>\n",
       "    <tr>\n",
       "      <th>count</th>\n",
       "      <td>388309.000000</td>\n",
       "      <td>388309.000000</td>\n",
       "      <td>388309.000000</td>\n",
       "      <td>388309.000000</td>\n",
       "    </tr>\n",
       "    <tr>\n",
       "      <th>mean</th>\n",
       "      <td>922.521744</td>\n",
       "      <td>891.303555</td>\n",
       "      <td>977.032147</td>\n",
       "      <td>991.859540</td>\n",
       "    </tr>\n",
       "    <tr>\n",
       "      <th>std</th>\n",
       "      <td>270.464423</td>\n",
       "      <td>255.317319</td>\n",
       "      <td>329.587587</td>\n",
       "      <td>278.964858</td>\n",
       "    </tr>\n",
       "    <tr>\n",
       "      <th>min</th>\n",
       "      <td>1.000000</td>\n",
       "      <td>0.000000</td>\n",
       "      <td>1.000000</td>\n",
       "      <td>0.000000</td>\n",
       "    </tr>\n",
       "    <tr>\n",
       "      <th>25%</th>\n",
       "      <td>723.000000</td>\n",
       "      <td>695.000000</td>\n",
       "      <td>795.000000</td>\n",
       "      <td>805.000000</td>\n",
       "    </tr>\n",
       "    <tr>\n",
       "      <th>50%</th>\n",
       "      <td>945.000000</td>\n",
       "      <td>910.000000</td>\n",
       "      <td>1034.000000</td>\n",
       "      <td>1025.000000</td>\n",
       "    </tr>\n",
       "    <tr>\n",
       "      <th>75%</th>\n",
       "      <td>1140.000000</td>\n",
       "      <td>1095.000000</td>\n",
       "      <td>1230.000000</td>\n",
       "      <td>1214.000000</td>\n",
       "    </tr>\n",
       "    <tr>\n",
       "      <th>max</th>\n",
       "      <td>1440.000000</td>\n",
       "      <td>1439.000000</td>\n",
       "      <td>1440.000000</td>\n",
       "      <td>1439.000000</td>\n",
       "    </tr>\n",
       "  </tbody>\n",
       "</table>\n",
       "</div>"
      ],
      "text/plain": [
       "             DepTime     CRSDepTime        ArrTime     CRSArrTime\n",
       "count  388309.000000  388309.000000  388309.000000  388309.000000\n",
       "mean      922.521744     891.303555     977.032147     991.859540\n",
       "std       270.464423     255.317319     329.587587     278.964858\n",
       "min         1.000000       0.000000       1.000000       0.000000\n",
       "25%       723.000000     695.000000     795.000000     805.000000\n",
       "50%       945.000000     910.000000    1034.000000    1025.000000\n",
       "75%      1140.000000    1095.000000    1230.000000    1214.000000\n",
       "max      1440.000000    1439.000000    1440.000000    1439.000000"
      ]
     },
     "execution_count": 578,
     "metadata": {},
     "output_type": "execute_result"
    }
   ],
   "source": [
    "df4[[\"DepTime\", \"CRSDepTime\", \"ArrTime\", \"CRSArrTime\"]].describe()# miramos como quedan para ver si hay alguna anomalía en \n",
    "# los máximos y mínimos"
   ]
  },
  {
   "cell_type": "code",
   "execution_count": 579,
   "id": "e6cfe34b",
   "metadata": {
    "ExecuteTime": {
     "end_time": "2022-05-22T16:11:04.788742Z",
     "start_time": "2022-05-22T16:11:04.671410Z"
    }
   },
   "outputs": [
    {
     "data": {
      "text/plain": [
       "Month                     0\n",
       "DayofMonth                0\n",
       "DayOfWeek                 0\n",
       "UniqueCarrier             0\n",
       "ActualElapsedTime         0\n",
       "CRSElapsedTime            0\n",
       "AirTime                   0\n",
       "ArrDelay                  0\n",
       "DepDelay                  0\n",
       "Origin                    0\n",
       "Dest                      0\n",
       "Distance                  0\n",
       "TaxiIn                    0\n",
       "TaxiOut                   0\n",
       "CarrierDelay         136527\n",
       "WeatherDelay         136527\n",
       "NASDelay             136527\n",
       "SecurityDelay        136527\n",
       "LateAircraftDelay    136527\n",
       "DepTime                   0\n",
       "CRSDepTime                0\n",
       "ArrTime                   0\n",
       "CRSArrTime                0\n",
       "dtype: int64"
      ]
     },
     "execution_count": 579,
     "metadata": {},
     "output_type": "execute_result"
    }
   ],
   "source": [
    "df4.isna().sum()#revisamos el número de nulos"
   ]
  },
  {
   "cell_type": "markdown",
   "id": "c1ba06f3",
   "metadata": {
    "ExecuteTime": {
     "end_time": "2022-05-19T09:21:31.611613Z",
     "start_time": "2022-05-19T09:21:31.579246Z"
    }
   },
   "source": [
    "0.3 **Transformación de Variables Delay.**\n",
    "\n",
    "Vamos a analizar la variables ArrDelay y DepDelay, rescepto a los motivos del retraso. \n",
    "\n"
   ]
  },
  {
   "cell_type": "code",
   "execution_count": 580,
   "id": "17d2287f",
   "metadata": {
    "ExecuteTime": {
     "end_time": "2022-05-22T16:11:18.124583Z",
     "start_time": "2022-05-22T16:11:18.060148Z"
    }
   },
   "outputs": [
    {
     "data": {
      "text/html": [
       "<div>\n",
       "<style scoped>\n",
       "    .dataframe tbody tr th:only-of-type {\n",
       "        vertical-align: middle;\n",
       "    }\n",
       "\n",
       "    .dataframe tbody tr th {\n",
       "        vertical-align: top;\n",
       "    }\n",
       "\n",
       "    .dataframe thead th {\n",
       "        text-align: right;\n",
       "    }\n",
       "</style>\n",
       "<table border=\"1\" class=\"dataframe\">\n",
       "  <thead>\n",
       "    <tr style=\"text-align: right;\">\n",
       "      <th></th>\n",
       "      <th>ArrDelay</th>\n",
       "      <th>DepDelay</th>\n",
       "      <th>CarrierDelay</th>\n",
       "      <th>WeatherDelay</th>\n",
       "      <th>NASDelay</th>\n",
       "      <th>SecurityDelay</th>\n",
       "      <th>LateAircraftDelay</th>\n",
       "    </tr>\n",
       "  </thead>\n",
       "  <tbody>\n",
       "    <tr>\n",
       "      <th>0</th>\n",
       "      <td>20.0</td>\n",
       "      <td>24.0</td>\n",
       "      <td>5.0</td>\n",
       "      <td>0.0</td>\n",
       "      <td>0.0</td>\n",
       "      <td>0.0</td>\n",
       "      <td>15.0</td>\n",
       "    </tr>\n",
       "    <tr>\n",
       "      <th>1</th>\n",
       "      <td>64.0</td>\n",
       "      <td>34.0</td>\n",
       "      <td>0.0</td>\n",
       "      <td>0.0</td>\n",
       "      <td>30.0</td>\n",
       "      <td>0.0</td>\n",
       "      <td>34.0</td>\n",
       "    </tr>\n",
       "    <tr>\n",
       "      <th>2</th>\n",
       "      <td>4.0</td>\n",
       "      <td>8.0</td>\n",
       "      <td>NaN</td>\n",
       "      <td>NaN</td>\n",
       "      <td>NaN</td>\n",
       "      <td>NaN</td>\n",
       "      <td>NaN</td>\n",
       "    </tr>\n",
       "    <tr>\n",
       "      <th>3</th>\n",
       "      <td>35.0</td>\n",
       "      <td>12.0</td>\n",
       "      <td>0.0</td>\n",
       "      <td>0.0</td>\n",
       "      <td>23.0</td>\n",
       "      <td>0.0</td>\n",
       "      <td>12.0</td>\n",
       "    </tr>\n",
       "    <tr>\n",
       "      <th>4</th>\n",
       "      <td>33.0</td>\n",
       "      <td>32.0</td>\n",
       "      <td>0.0</td>\n",
       "      <td>0.0</td>\n",
       "      <td>19.0</td>\n",
       "      <td>0.0</td>\n",
       "      <td>14.0</td>\n",
       "    </tr>\n",
       "    <tr>\n",
       "      <th>...</th>\n",
       "      <td>...</td>\n",
       "      <td>...</td>\n",
       "      <td>...</td>\n",
       "      <td>...</td>\n",
       "      <td>...</td>\n",
       "      <td>...</td>\n",
       "      <td>...</td>\n",
       "    </tr>\n",
       "    <tr>\n",
       "      <th>388304</th>\n",
       "      <td>9.0</td>\n",
       "      <td>14.0</td>\n",
       "      <td>NaN</td>\n",
       "      <td>NaN</td>\n",
       "      <td>NaN</td>\n",
       "      <td>NaN</td>\n",
       "      <td>NaN</td>\n",
       "    </tr>\n",
       "    <tr>\n",
       "      <th>388305</th>\n",
       "      <td>140.0</td>\n",
       "      <td>68.0</td>\n",
       "      <td>4.0</td>\n",
       "      <td>0.0</td>\n",
       "      <td>136.0</td>\n",
       "      <td>0.0</td>\n",
       "      <td>0.0</td>\n",
       "    </tr>\n",
       "    <tr>\n",
       "      <th>388306</th>\n",
       "      <td>47.0</td>\n",
       "      <td>49.0</td>\n",
       "      <td>4.0</td>\n",
       "      <td>0.0</td>\n",
       "      <td>0.0</td>\n",
       "      <td>0.0</td>\n",
       "      <td>43.0</td>\n",
       "    </tr>\n",
       "    <tr>\n",
       "      <th>388307</th>\n",
       "      <td>-6.0</td>\n",
       "      <td>7.0</td>\n",
       "      <td>NaN</td>\n",
       "      <td>NaN</td>\n",
       "      <td>NaN</td>\n",
       "      <td>NaN</td>\n",
       "      <td>NaN</td>\n",
       "    </tr>\n",
       "    <tr>\n",
       "      <th>388308</th>\n",
       "      <td>8.0</td>\n",
       "      <td>15.0</td>\n",
       "      <td>NaN</td>\n",
       "      <td>NaN</td>\n",
       "      <td>NaN</td>\n",
       "      <td>NaN</td>\n",
       "      <td>NaN</td>\n",
       "    </tr>\n",
       "  </tbody>\n",
       "</table>\n",
       "<p>388309 rows × 7 columns</p>\n",
       "</div>"
      ],
      "text/plain": [
       "        ArrDelay  DepDelay  CarrierDelay  WeatherDelay  NASDelay  \\\n",
       "0           20.0      24.0           5.0           0.0       0.0   \n",
       "1           64.0      34.0           0.0           0.0      30.0   \n",
       "2            4.0       8.0           NaN           NaN       NaN   \n",
       "3           35.0      12.0           0.0           0.0      23.0   \n",
       "4           33.0      32.0           0.0           0.0      19.0   \n",
       "...          ...       ...           ...           ...       ...   \n",
       "388304       9.0      14.0           NaN           NaN       NaN   \n",
       "388305     140.0      68.0           4.0           0.0     136.0   \n",
       "388306      47.0      49.0           4.0           0.0       0.0   \n",
       "388307      -6.0       7.0           NaN           NaN       NaN   \n",
       "388308       8.0      15.0           NaN           NaN       NaN   \n",
       "\n",
       "        SecurityDelay  LateAircraftDelay  \n",
       "0                 0.0               15.0  \n",
       "1                 0.0               34.0  \n",
       "2                 NaN                NaN  \n",
       "3                 0.0               12.0  \n",
       "4                 0.0               14.0  \n",
       "...               ...                ...  \n",
       "388304            NaN                NaN  \n",
       "388305            0.0                0.0  \n",
       "388306            0.0               43.0  \n",
       "388307            NaN                NaN  \n",
       "388308            NaN                NaN  \n",
       "\n",
       "[388309 rows x 7 columns]"
      ]
     },
     "execution_count": 580,
     "metadata": {},
     "output_type": "execute_result"
    }
   ],
   "source": [
    "df_delay= df4[['ArrDelay','DepDelay','CarrierDelay', 'WeatherDelay', 'NASDelay', 'SecurityDelay','LateAircraftDelay',]]\n",
    "\n",
    "df_delay"
   ]
  },
  {
   "cell_type": "markdown",
   "id": "8cb193fb",
   "metadata": {},
   "source": [
    "A simple vista vemos que la suma de minutos por fila  de CarrierDelay', 'WeatherDelay', 'NASDelay', 'SecurityDelay',\n",
    "\n",
    "'LateAircraftDelay', es igual a ArrDelay "
   ]
  },
  {
   "cell_type": "code",
   "execution_count": 581,
   "id": "12e70999",
   "metadata": {
    "ExecuteTime": {
     "end_time": "2022-05-22T16:14:14.576730Z",
     "start_time": "2022-05-22T16:11:27.820341Z"
    }
   },
   "outputs": [
    {
     "data": {
      "text/plain": [
       "<seaborn.axisgrid.PairGrid at 0x210a4b2ca30>"
      ]
     },
     "execution_count": 581,
     "metadata": {},
     "output_type": "execute_result"
    },
    {
     "data": {
      "image/png": "[encoded data removed]",
      "text/plain": [
       "<Figure size 900x180 with 5 Axes>"
      ]
     },
     "metadata": {
      "needs_background": "light"
     },
     "output_type": "display_data"
    }
   ],
   "source": [
    "sns.pairplot( df_delay,kind=\"reg\", x_vars=['CarrierDelay', 'WeatherDelay', 'NASDelay', 'SecurityDelay','LateAircraftDelay'], y_vars=\"ArrDelay\")"
   ]
  },
  {
   "cell_type": "code",
   "execution_count": 582,
   "id": "f05c5615",
   "metadata": {
    "ExecuteTime": {
     "end_time": "2022-05-22T16:14:18.230758Z",
     "start_time": "2022-05-22T16:14:18.184024Z"
    }
   },
   "outputs": [
    {
     "data": {
      "text/html": [
       "<div>\n",
       "<style scoped>\n",
       "    .dataframe tbody tr th:only-of-type {\n",
       "        vertical-align: middle;\n",
       "    }\n",
       "\n",
       "    .dataframe tbody tr th {\n",
       "        vertical-align: top;\n",
       "    }\n",
       "\n",
       "    .dataframe thead th {\n",
       "        text-align: right;\n",
       "    }\n",
       "</style>\n",
       "<table border=\"1\" class=\"dataframe\">\n",
       "  <thead>\n",
       "    <tr style=\"text-align: right;\">\n",
       "      <th></th>\n",
       "      <th>ArrDelay</th>\n",
       "      <th>DepDelay</th>\n",
       "      <th>CarrierDelay</th>\n",
       "      <th>WeatherDelay</th>\n",
       "      <th>NASDelay</th>\n",
       "      <th>SecurityDelay</th>\n",
       "      <th>LateAircraftDelay</th>\n",
       "    </tr>\n",
       "  </thead>\n",
       "  <tbody>\n",
       "    <tr>\n",
       "      <th>2</th>\n",
       "      <td>4.0</td>\n",
       "      <td>8.0</td>\n",
       "      <td>NaN</td>\n",
       "      <td>NaN</td>\n",
       "      <td>NaN</td>\n",
       "      <td>NaN</td>\n",
       "      <td>NaN</td>\n",
       "    </tr>\n",
       "    <tr>\n",
       "      <th>6</th>\n",
       "      <td>3.0</td>\n",
       "      <td>19.0</td>\n",
       "      <td>NaN</td>\n",
       "      <td>NaN</td>\n",
       "      <td>NaN</td>\n",
       "      <td>NaN</td>\n",
       "      <td>NaN</td>\n",
       "    </tr>\n",
       "    <tr>\n",
       "      <th>9</th>\n",
       "      <td>12.0</td>\n",
       "      <td>16.0</td>\n",
       "      <td>NaN</td>\n",
       "      <td>NaN</td>\n",
       "      <td>NaN</td>\n",
       "      <td>NaN</td>\n",
       "      <td>NaN</td>\n",
       "    </tr>\n",
       "    <tr>\n",
       "      <th>11</th>\n",
       "      <td>6.0</td>\n",
       "      <td>7.0</td>\n",
       "      <td>NaN</td>\n",
       "      <td>NaN</td>\n",
       "      <td>NaN</td>\n",
       "      <td>NaN</td>\n",
       "      <td>NaN</td>\n",
       "    </tr>\n",
       "    <tr>\n",
       "      <th>19</th>\n",
       "      <td>14.0</td>\n",
       "      <td>11.0</td>\n",
       "      <td>NaN</td>\n",
       "      <td>NaN</td>\n",
       "      <td>NaN</td>\n",
       "      <td>NaN</td>\n",
       "      <td>NaN</td>\n",
       "    </tr>\n",
       "    <tr>\n",
       "      <th>...</th>\n",
       "      <td>...</td>\n",
       "      <td>...</td>\n",
       "      <td>...</td>\n",
       "      <td>...</td>\n",
       "      <td>...</td>\n",
       "      <td>...</td>\n",
       "      <td>...</td>\n",
       "    </tr>\n",
       "    <tr>\n",
       "      <th>388300</th>\n",
       "      <td>13.0</td>\n",
       "      <td>7.0</td>\n",
       "      <td>NaN</td>\n",
       "      <td>NaN</td>\n",
       "      <td>NaN</td>\n",
       "      <td>NaN</td>\n",
       "      <td>NaN</td>\n",
       "    </tr>\n",
       "    <tr>\n",
       "      <th>388303</th>\n",
       "      <td>5.0</td>\n",
       "      <td>11.0</td>\n",
       "      <td>NaN</td>\n",
       "      <td>NaN</td>\n",
       "      <td>NaN</td>\n",
       "      <td>NaN</td>\n",
       "      <td>NaN</td>\n",
       "    </tr>\n",
       "    <tr>\n",
       "      <th>388304</th>\n",
       "      <td>9.0</td>\n",
       "      <td>14.0</td>\n",
       "      <td>NaN</td>\n",
       "      <td>NaN</td>\n",
       "      <td>NaN</td>\n",
       "      <td>NaN</td>\n",
       "      <td>NaN</td>\n",
       "    </tr>\n",
       "    <tr>\n",
       "      <th>388307</th>\n",
       "      <td>-6.0</td>\n",
       "      <td>7.0</td>\n",
       "      <td>NaN</td>\n",
       "      <td>NaN</td>\n",
       "      <td>NaN</td>\n",
       "      <td>NaN</td>\n",
       "      <td>NaN</td>\n",
       "    </tr>\n",
       "    <tr>\n",
       "      <th>388308</th>\n",
       "      <td>8.0</td>\n",
       "      <td>15.0</td>\n",
       "      <td>NaN</td>\n",
       "      <td>NaN</td>\n",
       "      <td>NaN</td>\n",
       "      <td>NaN</td>\n",
       "      <td>NaN</td>\n",
       "    </tr>\n",
       "  </tbody>\n",
       "</table>\n",
       "<p>136527 rows × 7 columns</p>\n",
       "</div>"
      ],
      "text/plain": [
       "        ArrDelay  DepDelay  CarrierDelay  WeatherDelay  NASDelay  \\\n",
       "2            4.0       8.0           NaN           NaN       NaN   \n",
       "6            3.0      19.0           NaN           NaN       NaN   \n",
       "9           12.0      16.0           NaN           NaN       NaN   \n",
       "11           6.0       7.0           NaN           NaN       NaN   \n",
       "19          14.0      11.0           NaN           NaN       NaN   \n",
       "...          ...       ...           ...           ...       ...   \n",
       "388300      13.0       7.0           NaN           NaN       NaN   \n",
       "388303       5.0      11.0           NaN           NaN       NaN   \n",
       "388304       9.0      14.0           NaN           NaN       NaN   \n",
       "388307      -6.0       7.0           NaN           NaN       NaN   \n",
       "388308       8.0      15.0           NaN           NaN       NaN   \n",
       "\n",
       "        SecurityDelay  LateAircraftDelay  \n",
       "2                 NaN                NaN  \n",
       "6                 NaN                NaN  \n",
       "9                 NaN                NaN  \n",
       "11                NaN                NaN  \n",
       "19                NaN                NaN  \n",
       "...               ...                ...  \n",
       "388300            NaN                NaN  \n",
       "388303            NaN                NaN  \n",
       "388304            NaN                NaN  \n",
       "388307            NaN                NaN  \n",
       "388308            NaN                NaN  \n",
       "\n",
       "[136527 rows x 7 columns]"
      ]
     },
     "execution_count": 582,
     "metadata": {},
     "output_type": "execute_result"
    }
   ],
   "source": [
    "# Tras visualizar el DF veo como posibilidad que si ArrDelay es menor que x minutos ( x podría ser de 10 o 20 minutos ), \n",
    "# las X_vars tienen valores NaN\n",
    "# también veo que si se da la condición(min< x), las cinco variables de X_Vars son NaN\n",
    "df_delay[df_delay[\"CarrierDelay\"].isna()]"
   ]
  },
  {
   "cell_type": "code",
   "execution_count": 583,
   "id": "79004fa9",
   "metadata": {
    "ExecuteTime": {
     "end_time": "2022-05-22T16:14:41.697292Z",
     "start_time": "2022-05-22T16:14:41.652099Z"
    }
   },
   "outputs": [
    {
     "data": {
      "text/plain": [
       "ArrDelay             0\n",
       "DepDelay             0\n",
       "CarrierDelay         0\n",
       "WeatherDelay         0\n",
       "NASDelay             0\n",
       "SecurityDelay        0\n",
       "LateAircraftDelay    0\n",
       "dtype: int64"
      ]
     },
     "execution_count": 583,
     "metadata": {},
     "output_type": "execute_result"
    }
   ],
   "source": [
    "df_delay[df_delay[\"ArrDelay\"]>=20].isna().sum()#miramos varios valores de Arrdelay para ver cuando empiezan a parecer valores NaN"
   ]
  },
  {
   "cell_type": "code",
   "execution_count": 584,
   "id": "bdfbab55",
   "metadata": {
    "ExecuteTime": {
     "end_time": "2022-05-22T16:14:43.811787Z",
     "start_time": "2022-05-22T16:14:43.766504Z"
    }
   },
   "outputs": [
    {
     "data": {
      "text/plain": [
       "ArrDelay             0\n",
       "DepDelay             0\n",
       "CarrierDelay         0\n",
       "WeatherDelay         0\n",
       "NASDelay             0\n",
       "SecurityDelay        0\n",
       "LateAircraftDelay    0\n",
       "dtype: int64"
      ]
     },
     "execution_count": 584,
     "metadata": {},
     "output_type": "execute_result"
    }
   ],
   "source": [
    "df_delay[df_delay[\"ArrDelay\"]>18].isna().sum()"
   ]
  },
  {
   "cell_type": "code",
   "execution_count": 585,
   "id": "88b35fed",
   "metadata": {
    "ExecuteTime": {
     "end_time": "2022-05-22T16:14:45.713637Z",
     "start_time": "2022-05-22T16:14:45.670453Z"
    }
   },
   "outputs": [
    {
     "data": {
      "text/plain": [
       "ArrDelay             0\n",
       "DepDelay             0\n",
       "CarrierDelay         0\n",
       "WeatherDelay         0\n",
       "NASDelay             0\n",
       "SecurityDelay        0\n",
       "LateAircraftDelay    0\n",
       "dtype: int64"
      ]
     },
     "execution_count": 585,
     "metadata": {},
     "output_type": "execute_result"
    }
   ],
   "source": [
    "df_delay[df_delay[\"ArrDelay\"]>15].isna().sum()\n"
   ]
  },
  {
   "cell_type": "code",
   "execution_count": 586,
   "id": "7ca17180",
   "metadata": {
    "ExecuteTime": {
     "end_time": "2022-05-22T16:14:48.598858Z",
     "start_time": "2022-05-22T16:14:48.545326Z"
    }
   },
   "outputs": [
    {
     "data": {
      "text/plain": [
       "ArrDelay                0\n",
       "DepDelay                0\n",
       "CarrierDelay         6755\n",
       "WeatherDelay         6755\n",
       "NASDelay             6755\n",
       "SecurityDelay        6755\n",
       "LateAircraftDelay    6755\n",
       "dtype: int64"
      ]
     },
     "execution_count": 586,
     "metadata": {},
     "output_type": "execute_result"
    }
   ],
   "source": [
    "df_delay[df_delay[\"ArrDelay\"]>13].isna().sum()"
   ]
  },
  {
   "cell_type": "code",
   "execution_count": 591,
   "id": "9ac60910",
   "metadata": {
    "ExecuteTime": {
     "end_time": "2022-05-22T16:16:43.361053Z",
     "start_time": "2022-05-22T16:16:43.305164Z"
    }
   },
   "outputs": [
    {
     "data": {
      "text/plain": [
       "ArrDelay             0\n",
       "DepDelay             0\n",
       "CarrierDelay         0\n",
       "WeatherDelay         0\n",
       "NASDelay             0\n",
       "SecurityDelay        0\n",
       "LateAircraftDelay    0\n",
       "dtype: int64"
      ]
     },
     "execution_count": 591,
     "metadata": {},
     "output_type": "execute_result"
    }
   ],
   "source": [
    "dfd=df_delay[df_delay[\"ArrDelay\"]>=15]# de manera definitiva\n",
    "dfd.isna().sum()"
   ]
  },
  {
   "cell_type": "code",
   "execution_count": 592,
   "id": "13dab5e6",
   "metadata": {
    "ExecuteTime": {
     "end_time": "2022-05-22T16:16:49.430641Z",
     "start_time": "2022-05-22T16:16:49.387552Z"
    }
   },
   "outputs": [
    {
     "data": {
      "text/plain": [
       "ArrDelay                  0\n",
       "DepDelay                  0\n",
       "CarrierDelay         136527\n",
       "WeatherDelay         136527\n",
       "NASDelay             136527\n",
       "SecurityDelay        136527\n",
       "LateAircraftDelay    136527\n",
       "dtype: int64"
      ]
     },
     "execution_count": 592,
     "metadata": {},
     "output_type": "execute_result"
    }
   ],
   "source": [
    "dfd=df_delay[df_delay[\"ArrDelay\"]<15]\n",
    "dfd.isna().sum()"
   ]
  },
  {
   "cell_type": "markdown",
   "id": "e88559fd",
   "metadata": {},
   "source": [
    "Con esto acabamos de demostrar que los valores de **ArrDelay < 15 minutos**, no registran las causas de retraso.\n",
    "\n",
    "Podriamos sustituir los valores NaN repartiendo lo minutos de Arrdelay<15 entre las cinco variables, pero hay valores de Arrdelay negativos. **Así que asignaremos un valor de 0.0 a todos lo NaN**\n",
    "\n"
   ]
  },
  {
   "cell_type": "code",
   "execution_count": 593,
   "id": "be1887a7",
   "metadata": {
    "ExecuteTime": {
     "end_time": "2022-05-22T16:17:14.304061Z",
     "start_time": "2022-05-22T16:17:14.180664Z"
    }
   },
   "outputs": [
    {
     "data": {
      "text/plain": [
       "ArrDelay  DepDelay  CarrierDelay  WeatherDelay  NASDelay  SecurityDelay  LateAircraftDelay\n",
       "False     False     False         False         False     False          False                251782\n",
       "dtype: int64"
      ]
     },
     "execution_count": 593,
     "metadata": {},
     "output_type": "execute_result"
    }
   ],
   "source": [
    "dfd2=df_delay[df_delay[\"ArrDelay\"]>=15]\n",
    "dfd2.isna().value_counts()\n"
   ]
  },
  {
   "cell_type": "code",
   "execution_count": 595,
   "id": "8fbf0796",
   "metadata": {
    "ExecuteTime": {
     "end_time": "2022-05-22T16:17:29.195741Z",
     "start_time": "2022-05-22T16:17:29.044330Z"
    }
   },
   "outputs": [
    {
     "data": {
      "text/plain": [
       "CarrierDelay  WeatherDelay  NASDelay  SecurityDelay  LateAircraftDelay\n",
       "False         False         False     False          False                388309\n",
       "dtype: int64"
      ]
     },
     "execution_count": 595,
     "metadata": {},
     "output_type": "execute_result"
    }
   ],
   "source": [
    "delay_not_NAN= df_delay[['CarrierDelay', 'WeatherDelay', 'NASDelay', 'SecurityDelay','LateAircraftDelay']].fillna(0.0)\n",
    "delay_not_NAN.isna().value_counts()"
   ]
  },
  {
   "cell_type": "code",
   "execution_count": 596,
   "id": "5df86b9a",
   "metadata": {
    "ExecuteTime": {
     "end_time": "2022-05-22T16:17:31.909803Z",
     "start_time": "2022-05-22T16:17:31.777200Z"
    }
   },
   "outputs": [
    {
     "data": {
      "text/html": [
       "<div>\n",
       "<style scoped>\n",
       "    .dataframe tbody tr th:only-of-type {\n",
       "        vertical-align: middle;\n",
       "    }\n",
       "\n",
       "    .dataframe tbody tr th {\n",
       "        vertical-align: top;\n",
       "    }\n",
       "\n",
       "    .dataframe thead th {\n",
       "        text-align: right;\n",
       "    }\n",
       "</style>\n",
       "<table border=\"1\" class=\"dataframe\">\n",
       "  <thead>\n",
       "    <tr style=\"text-align: right;\">\n",
       "      <th></th>\n",
       "      <th>CarrierDelay</th>\n",
       "      <th>WeatherDelay</th>\n",
       "      <th>NASDelay</th>\n",
       "      <th>SecurityDelay</th>\n",
       "      <th>LateAircraftDelay</th>\n",
       "    </tr>\n",
       "  </thead>\n",
       "  <tbody>\n",
       "    <tr>\n",
       "      <th>count</th>\n",
       "      <td>388309.000000</td>\n",
       "      <td>388309.000000</td>\n",
       "      <td>388309.000000</td>\n",
       "      <td>388309.000000</td>\n",
       "      <td>388309.000000</td>\n",
       "    </tr>\n",
       "    <tr>\n",
       "      <th>mean</th>\n",
       "      <td>12.449173</td>\n",
       "      <td>2.394508</td>\n",
       "      <td>9.805065</td>\n",
       "      <td>0.057823</td>\n",
       "      <td>16.410191</td>\n",
       "    </tr>\n",
       "    <tr>\n",
       "      <th>std</th>\n",
       "      <td>35.993053</td>\n",
       "      <td>17.519784</td>\n",
       "      <td>28.360055</td>\n",
       "      <td>1.577782</td>\n",
       "      <td>36.067534</td>\n",
       "    </tr>\n",
       "    <tr>\n",
       "      <th>min</th>\n",
       "      <td>0.000000</td>\n",
       "      <td>0.000000</td>\n",
       "      <td>0.000000</td>\n",
       "      <td>0.000000</td>\n",
       "      <td>0.000000</td>\n",
       "    </tr>\n",
       "    <tr>\n",
       "      <th>25%</th>\n",
       "      <td>0.000000</td>\n",
       "      <td>0.000000</td>\n",
       "      <td>0.000000</td>\n",
       "      <td>0.000000</td>\n",
       "      <td>0.000000</td>\n",
       "    </tr>\n",
       "    <tr>\n",
       "      <th>50%</th>\n",
       "      <td>0.000000</td>\n",
       "      <td>0.000000</td>\n",
       "      <td>0.000000</td>\n",
       "      <td>0.000000</td>\n",
       "      <td>0.000000</td>\n",
       "    </tr>\n",
       "    <tr>\n",
       "      <th>75%</th>\n",
       "      <td>10.000000</td>\n",
       "      <td>0.000000</td>\n",
       "      <td>6.000000</td>\n",
       "      <td>0.000000</td>\n",
       "      <td>18.000000</td>\n",
       "    </tr>\n",
       "    <tr>\n",
       "      <th>max</th>\n",
       "      <td>1455.000000</td>\n",
       "      <td>1297.000000</td>\n",
       "      <td>1289.000000</td>\n",
       "      <td>357.000000</td>\n",
       "      <td>1316.000000</td>\n",
       "    </tr>\n",
       "  </tbody>\n",
       "</table>\n",
       "</div>"
      ],
      "text/plain": [
       "        CarrierDelay   WeatherDelay       NASDelay  SecurityDelay  \\\n",
       "count  388309.000000  388309.000000  388309.000000  388309.000000   \n",
       "mean       12.449173       2.394508       9.805065       0.057823   \n",
       "std        35.993053      17.519784      28.360055       1.577782   \n",
       "min         0.000000       0.000000       0.000000       0.000000   \n",
       "25%         0.000000       0.000000       0.000000       0.000000   \n",
       "50%         0.000000       0.000000       0.000000       0.000000   \n",
       "75%        10.000000       0.000000       6.000000       0.000000   \n",
       "max      1455.000000    1297.000000    1289.000000     357.000000   \n",
       "\n",
       "       LateAircraftDelay  \n",
       "count      388309.000000  \n",
       "mean           16.410191  \n",
       "std            36.067534  \n",
       "min             0.000000  \n",
       "25%             0.000000  \n",
       "50%             0.000000  \n",
       "75%            18.000000  \n",
       "max          1316.000000  "
      ]
     },
     "execution_count": 596,
     "metadata": {},
     "output_type": "execute_result"
    }
   ],
   "source": [
    "delay_not_NAN.describe()"
   ]
  },
  {
   "cell_type": "code",
   "execution_count": 597,
   "id": "2c7e97f0",
   "metadata": {
    "ExecuteTime": {
     "end_time": "2022-05-22T16:17:42.578904Z",
     "start_time": "2022-05-22T16:17:42.315536Z"
    }
   },
   "outputs": [
    {
     "data": {
      "text/plain": [
       "Month                0\n",
       "DayofMonth           0\n",
       "DayOfWeek            0\n",
       "UniqueCarrier        0\n",
       "ActualElapsedTime    0\n",
       "CRSElapsedTime       0\n",
       "AirTime              0\n",
       "ArrDelay             0\n",
       "DepDelay             0\n",
       "Origin               0\n",
       "Dest                 0\n",
       "Distance             0\n",
       "TaxiIn               0\n",
       "TaxiOut              0\n",
       "DepTime              0\n",
       "CRSDepTime           0\n",
       "ArrTime              0\n",
       "CRSArrTime           0\n",
       "CarrierDelay         0\n",
       "WeatherDelay         0\n",
       "NASDelay             0\n",
       "SecurityDelay        0\n",
       "LateAircraftDelay    0\n",
       "dtype: int64"
      ]
     },
     "execution_count": 597,
     "metadata": {},
     "output_type": "execute_result"
    }
   ],
   "source": [
    "df5_0= df4.drop(  [\"CarrierDelay\", 'WeatherDelay', 'NASDelay', 'SecurityDelay','LateAircraftDelay'], axis=1 )# borramos los \n",
    "#valores con NaN, y añadimos las variables con la sustitución de NaN por cero\n",
    "df5= pd.concat([df5_0, delay_not_NAN], axis =1)\n",
    "df5.isna().sum()"
   ]
  },
  {
   "cell_type": "markdown",
   "id": "4a3d052c",
   "metadata": {},
   "source": [
    "0.4 **Variables Categóricas y Visualización de variables.** \n",
    "\n",
    " En este apartado vamos a ver de que manera se comportan las viarbles para determinar cuales son independientes o no, así como \n",
    " analizar la categóricas. \n",
    " \n"
   ]
  },
  {
   "cell_type": "code",
   "execution_count": 598,
   "id": "68679a93",
   "metadata": {
    "ExecuteTime": {
     "end_time": "2022-05-22T16:18:14.433215Z",
     "start_time": "2022-05-22T16:18:14.417083Z"
    }
   },
   "outputs": [
    {
     "data": {
      "text/plain": [
       "Index(['Month', 'DayofMonth', 'DayOfWeek', 'UniqueCarrier',\n",
       "       'ActualElapsedTime', 'CRSElapsedTime', 'AirTime', 'ArrDelay',\n",
       "       'DepDelay', 'Origin', 'Dest', 'Distance', 'TaxiIn', 'TaxiOut',\n",
       "       'DepTime', 'CRSDepTime', 'ArrTime', 'CRSArrTime', 'CarrierDelay',\n",
       "       'WeatherDelay', 'NASDelay', 'SecurityDelay', 'LateAircraftDelay'],\n",
       "      dtype='object')"
      ]
     },
     "execution_count": 598,
     "metadata": {},
     "output_type": "execute_result"
    }
   ],
   "source": [
    "df5.columns"
   ]
  },
  {
   "cell_type": "markdown",
   "id": "dd053f2f",
   "metadata": {
    "ExecuteTime": {
     "end_time": "2022-05-20T15:33:05.500915Z",
     "start_time": "2022-05-20T15:33:05.451435Z"
    }
   },
   "source": [
    "Cómo recordamos en el [ejercicio 9.1](https://github.com/Gerard-Bonet/Sprint9Tasca1.git), habían 300 **origenes y destinos**, así como 20 **compañías**. El retraso acumulado en ArrDelay \n",
    "\n",
    "tenía una relación lineal en el número de vuelos por compañías, así que tampoco aportaba mucha más información. \n",
    "\n",
    "Mientras que por aeropuerto tenía una tendencia lineal, y crecía algo más para aeropuertos con muchos vuelos \n",
    "\n",
    "Así que hacer un get_dummies nos generaría 640 variables, así que **vamos a eliminarlas**. "
   ]
  },
  {
   "cell_type": "code",
   "execution_count": 599,
   "id": "e58bf9c0",
   "metadata": {
    "ExecuteTime": {
     "end_time": "2022-05-22T16:18:41.200535Z",
     "start_time": "2022-05-22T16:18:41.035678Z"
    }
   },
   "outputs": [],
   "source": [
    "df5.drop([\"UniqueCarrier\", \"Origin\", \"Dest\"], axis=1, inplace=True)"
   ]
  },
  {
   "cell_type": "code",
   "execution_count": 600,
   "id": "0a48c13e",
   "metadata": {
    "ExecuteTime": {
     "end_time": "2022-05-22T16:18:50.021290Z",
     "start_time": "2022-05-22T16:18:46.242687Z"
    }
   },
   "outputs": [
    {
     "data": {
      "image/png": "[encoded data removed]",
      "text/plain": [
       "<Figure size 1080x1080 with 2 Axes>"
      ]
     },
     "metadata": {
      "needs_background": "light"
     },
     "output_type": "display_data"
    }
   ],
   "source": [
    "# Vamos a ver la correlación lineal \n",
    "df5corr= df5.corr()\n",
    "f, ax = plt.subplots(figsize=(15,15))\n",
    "sns.heatmap(df5corr, vmax=1, vmin=-1, square=True,cmap=\"Blues\", annot=True)\n",
    "plt.show()\n",
    "\n",
    "#"
   ]
  },
  {
   "cell_type": "markdown",
   "id": "708ae260",
   "metadata": {
    "ExecuteTime": {
     "end_time": "2022-05-20T01:04:18.187020Z",
     "start_time": "2022-05-20T01:04:17.261133Z"
    }
   },
   "source": [
    "Nos permite ver que LateAircraft Delay, NasDelay, WheatherDelay y Depdelay son las variables con alta correlación lineal con ArrDelay, y como vimos en el 9.1 ActualElapsedTime', 'CRSElapsedTime', 'AirTime', y Distance  están altamente correlaiconadas\n",
    "entre ellas pero no con ArrDelay\n",
    "\n",
    "Las variables temporales (mes, dia del mes y dia de la semana ) tienen una correlación casi nula con el resto de \n",
    "variables, además de que en este DataSet funcionan como variables categóricas. \n",
    "\n",
    "Empecemos por ver como se distribuye arrdelay en función de los meses, que cómo ya habíamos visto en el ejercicio 9.1 hay más \n",
    "vuelos de Diciembre a Marzo y de Junio a Agosto. \n",
    "\n",
    "También, si nos fijamos en los días de la semana, vimos en 9.1 que los Jueves, Viernes, Domingos y Lunes tenían más vuelos que los otros días. Siendo el Viernes el día con más vuelos y el sábado el que menos. "
   ]
  },
  {
   "cell_type": "code",
   "execution_count": 601,
   "id": "9e54db16",
   "metadata": {
    "ExecuteTime": {
     "end_time": "2022-05-22T16:20:14.528692Z",
     "start_time": "2022-05-22T16:20:05.291298Z"
    }
   },
   "outputs": [
    {
     "data": {
      "text/plain": [
       "<seaborn.axisgrid.FacetGrid at 0x210d79666a0>"
      ]
     },
     "execution_count": 601,
     "metadata": {},
     "output_type": "execute_result"
    },
    {
     "data": {
      "image/png": "[encoded data removed]",
      "text/plain": [
       "<Figure size 972x2332.8 with 12 Axes>"
      ]
     },
     "metadata": {
      "needs_background": "light"
     },
     "output_type": "display_data"
    }
   ],
   "source": [
    "df5ArrMonth= df5[df5[\"ArrDelay\"]<200] # miramos como se distribuye Arrdelay en función del mes\n",
    "order= []\n",
    "for i in range(1,13):\n",
    "    order.append(i)\n",
    "\n",
    "g = sns.FacetGrid(df5ArrMonth, row=\"Month\", row_order= order,\n",
    "                  height=2.7, aspect=5,)\n",
    "g.map( sns.histplot, \"ArrDelay\", stat=\"count\")\n"
   ]
  },
  {
   "cell_type": "code",
   "execution_count": 602,
   "id": "c0d570ef",
   "metadata": {
    "ExecuteTime": {
     "end_time": "2022-05-22T16:20:17.161852Z",
     "start_time": "2022-05-22T16:20:17.097133Z"
    }
   },
   "outputs": [
    {
     "data": {
      "text/html": [
       "<div>\n",
       "<style scoped>\n",
       "    .dataframe tbody tr th:only-of-type {\n",
       "        vertical-align: middle;\n",
       "    }\n",
       "\n",
       "    .dataframe tbody tr th {\n",
       "        vertical-align: top;\n",
       "    }\n",
       "\n",
       "    .dataframe thead th {\n",
       "        text-align: right;\n",
       "    }\n",
       "</style>\n",
       "<table border=\"1\" class=\"dataframe\">\n",
       "  <thead>\n",
       "    <tr style=\"text-align: right;\">\n",
       "      <th></th>\n",
       "      <th>ArrDelay</th>\n",
       "    </tr>\n",
       "    <tr>\n",
       "      <th>Month</th>\n",
       "      <th></th>\n",
       "    </tr>\n",
       "  </thead>\n",
       "  <tbody>\n",
       "    <tr>\n",
       "      <th>1</th>\n",
       "      <td>43.028215</td>\n",
       "    </tr>\n",
       "    <tr>\n",
       "      <th>2</th>\n",
       "      <td>45.386134</td>\n",
       "    </tr>\n",
       "    <tr>\n",
       "      <th>3</th>\n",
       "      <td>42.378138</td>\n",
       "    </tr>\n",
       "    <tr>\n",
       "      <th>4</th>\n",
       "      <td>38.908649</td>\n",
       "    </tr>\n",
       "    <tr>\n",
       "      <th>5</th>\n",
       "      <td>37.834235</td>\n",
       "    </tr>\n",
       "    <tr>\n",
       "      <th>6</th>\n",
       "      <td>46.474412</td>\n",
       "    </tr>\n",
       "    <tr>\n",
       "      <th>7</th>\n",
       "      <td>45.884305</td>\n",
       "    </tr>\n",
       "    <tr>\n",
       "      <th>8</th>\n",
       "      <td>41.925243</td>\n",
       "    </tr>\n",
       "    <tr>\n",
       "      <th>9</th>\n",
       "      <td>36.183144</td>\n",
       "    </tr>\n",
       "    <tr>\n",
       "      <th>10</th>\n",
       "      <td>31.509340</td>\n",
       "    </tr>\n",
       "    <tr>\n",
       "      <th>11</th>\n",
       "      <td>37.305915</td>\n",
       "    </tr>\n",
       "    <tr>\n",
       "      <th>12</th>\n",
       "      <td>49.381340</td>\n",
       "    </tr>\n",
       "  </tbody>\n",
       "</table>\n",
       "</div>"
      ],
      "text/plain": [
       "        ArrDelay\n",
       "Month           \n",
       "1      43.028215\n",
       "2      45.386134\n",
       "3      42.378138\n",
       "4      38.908649\n",
       "5      37.834235\n",
       "6      46.474412\n",
       "7      45.884305\n",
       "8      41.925243\n",
       "9      36.183144\n",
       "10     31.509340\n",
       "11     37.305915\n",
       "12     49.381340"
      ]
     },
     "execution_count": 602,
     "metadata": {},
     "output_type": "execute_result"
    }
   ],
   "source": [
    "df5[[\"ArrDelay\", \"Month\"]].groupby(\"Month\").mean()\n"
   ]
  },
  {
   "cell_type": "code",
   "execution_count": 603,
   "id": "76ee465a",
   "metadata": {
    "ExecuteTime": {
     "end_time": "2022-05-22T16:20:25.907201Z",
     "start_time": "2022-05-22T16:20:20.348584Z"
    }
   },
   "outputs": [
    {
     "data": {
      "text/plain": [
       "<seaborn.axisgrid.FacetGrid at 0x2108850df40>"
      ]
     },
     "execution_count": 603,
     "metadata": {},
     "output_type": "execute_result"
    },
    {
     "data": {
      "image/png": "[encoded data removed]",
      "text/plain": [
       "<Figure size 972x1360.8 with 7 Axes>"
      ]
     },
     "metadata": {
      "needs_background": "light"
     },
     "output_type": "display_data"
    }
   ],
   "source": [
    "df5ArrMonth= df5[df5[\"ArrDelay\"]<200] # y hacemos lo mismo para el día de la semana \n",
    "order2= []\n",
    "for i in range(1,8):\n",
    "    order2.append(i)\n",
    "\n",
    "g = sns.FacetGrid(df5ArrMonth, row=\"DayOfWeek\", row_order= order2,\n",
    "                  height=2.7, aspect=5,)\n",
    "g.map( sns.histplot, \"ArrDelay\", stat=\"count\")"
   ]
  },
  {
   "cell_type": "code",
   "execution_count": 604,
   "id": "c5306ae7",
   "metadata": {
    "ExecuteTime": {
     "end_time": "2022-05-22T16:20:29.780774Z",
     "start_time": "2022-05-22T16:20:29.724533Z"
    }
   },
   "outputs": [
    {
     "data": {
      "text/html": [
       "<div>\n",
       "<style scoped>\n",
       "    .dataframe tbody tr th:only-of-type {\n",
       "        vertical-align: middle;\n",
       "    }\n",
       "\n",
       "    .dataframe tbody tr th {\n",
       "        vertical-align: top;\n",
       "    }\n",
       "\n",
       "    .dataframe thead th {\n",
       "        text-align: right;\n",
       "    }\n",
       "</style>\n",
       "<table border=\"1\" class=\"dataframe\">\n",
       "  <thead>\n",
       "    <tr style=\"text-align: right;\">\n",
       "      <th></th>\n",
       "      <th>ArrDelay</th>\n",
       "    </tr>\n",
       "    <tr>\n",
       "      <th>DayOfWeek</th>\n",
       "      <th></th>\n",
       "    </tr>\n",
       "  </thead>\n",
       "  <tbody>\n",
       "    <tr>\n",
       "      <th>1</th>\n",
       "      <td>41.603917</td>\n",
       "    </tr>\n",
       "    <tr>\n",
       "      <th>2</th>\n",
       "      <td>43.853922</td>\n",
       "    </tr>\n",
       "    <tr>\n",
       "      <th>3</th>\n",
       "      <td>40.578513</td>\n",
       "    </tr>\n",
       "    <tr>\n",
       "      <th>4</th>\n",
       "      <td>41.155115</td>\n",
       "    </tr>\n",
       "    <tr>\n",
       "      <th>5</th>\n",
       "      <td>43.791177</td>\n",
       "    </tr>\n",
       "    <tr>\n",
       "      <th>6</th>\n",
       "      <td>40.046067</td>\n",
       "    </tr>\n",
       "    <tr>\n",
       "      <th>7</th>\n",
       "      <td>44.903539</td>\n",
       "    </tr>\n",
       "  </tbody>\n",
       "</table>\n",
       "</div>"
      ],
      "text/plain": [
       "            ArrDelay\n",
       "DayOfWeek           \n",
       "1          41.603917\n",
       "2          43.853922\n",
       "3          40.578513\n",
       "4          41.155115\n",
       "5          43.791177\n",
       "6          40.046067\n",
       "7          44.903539"
      ]
     },
     "execution_count": 604,
     "metadata": {},
     "output_type": "execute_result"
    }
   ],
   "source": [
    "df5[[\"ArrDelay\", \"DayOfWeek\"]].groupby(\"DayOfWeek\").mean()\n",
    "\n"
   ]
  },
  {
   "cell_type": "code",
   "execution_count": 605,
   "id": "aa95ae5d",
   "metadata": {
    "ExecuteTime": {
     "end_time": "2022-05-22T16:20:38.704364Z",
     "start_time": "2022-05-22T16:20:38.027211Z"
    }
   },
   "outputs": [
    {
     "data": {
      "text/plain": [
       "<AxesSubplot:xlabel='DayOfWeek'>"
      ]
     },
     "execution_count": 605,
     "metadata": {},
     "output_type": "execute_result"
    },
    {
     "data": {
      "image/png": "[encoded data removed]",
      "text/plain": [
       "<Figure size 432x288 with 1 Axes>"
      ]
     },
     "metadata": {
      "needs_background": "light"
     },
     "output_type": "display_data"
    },
    {
     "data": {
      "image/png": "[encoded data removed]",
      "text/plain": [
       "<Figure size 432x288 with 1 Axes>"
      ]
     },
     "metadata": {
      "needs_background": "light"
     },
     "output_type": "display_data"
    }
   ],
   "source": [
    "#También mmiramos la distribución del retraso acumulado por meses  y días  \n",
    "\n",
    "df5[[\"ArrDelay\", \"Month\"]].groupby(\"Month\").sum().plot(kind=\"bar\") \n",
    "df5[[\"ArrDelay\", \"DayOfWeek\"]].groupby(\"DayOfWeek\").sum().plot(kind=\"bar\")"
   ]
  },
  {
   "cell_type": "markdown",
   "id": "81a964a7",
   "metadata": {
    "ExecuteTime": {
     "end_time": "2022-05-20T17:30:29.812434Z",
     "start_time": "2022-05-20T17:30:29.795431Z"
    }
   },
   "source": [
    "Las últimas distribuciones tienen una distribución casi idéntica al conteo  de vuelos de Month y Dayofweek que vimos  \n",
    "en [ejercicio 9.1](https://github.com/Gerard-Bonet/Sprint9Tasca1.git); es decir, a más vuelos, más retraso acumulado. \n",
    "\n",
    "Teniendo en cuenta que los vuelos pueden llegar al día siguiente, como los vuelos salidos el Lunes pueden llegar el Martes,\n",
    "la media de atrasos en función de los días de la semana se mantiene en $ 41.5 \\pm 2.5 $. Teniendo en cuenta ésto, y que el día \n",
    "de la semana tiene un índice de correlación muy bajo, y que como pasaba con las compañías, hay más atrasado acumulado en función del dia de la semana o del mes a causa de que hay más cantidad de vuelos. Vamos a descartar estas dos variables. \n",
    "\n",
    "No voy a hacer el mismo razonamiento para DayofMonth, ya que puedo usar el mismo argumento que con las otras dos variables.\n",
    "\n",
    "El día del Mes, el mes y el día de la semana , no influye en los retrasos y además nos generaría contabilizar muchas más columnas, ya que son variables categóricas. \n"
   ]
  },
  {
   "cell_type": "code",
   "execution_count": 606,
   "id": "45969622",
   "metadata": {
    "ExecuteTime": {
     "end_time": "2022-05-22T16:22:47.069513Z",
     "start_time": "2022-05-22T16:22:47.011439Z"
    }
   },
   "outputs": [],
   "source": [
    "df6= df5.drop(['Month', 'DayofMonth', 'DayOfWeek'], axis=1)\n"
   ]
  },
  {
   "cell_type": "code",
   "execution_count": 608,
   "id": "d6c01442",
   "metadata": {
    "ExecuteTime": {
     "end_time": "2022-05-22T16:24:18.082808Z",
     "start_time": "2022-05-22T16:24:18.066602Z"
    }
   },
   "outputs": [
    {
     "data": {
      "text/plain": [
       "(388309, 17)"
      ]
     },
     "execution_count": 608,
     "metadata": {},
     "output_type": "execute_result"
    }
   ],
   "source": [
    "df6.shape# miramos dimensiones del Data Set"
   ]
  },
  {
   "cell_type": "markdown",
   "id": "74d50739",
   "metadata": {},
   "source": [
    "Las Variables \"DepTime\", \"CRSDepTime\", \"ArrTime\", \"CRSArrTime\", deberían ser una función cíclica, es decir, cuando las horas de \n",
    "Arrtime sea menor que DepTime, habría contar 1440 minutos más, dando igual si es CRS o no  "
   ]
  },
  {
   "cell_type": "code",
   "execution_count": 508,
   "id": "a996a62b",
   "metadata": {
    "ExecuteTime": {
     "end_time": "2022-05-22T14:28:27.002199Z",
     "start_time": "2022-05-22T14:28:26.868602Z"
    }
   },
   "outputs": [
    {
     "data": {
      "text/html": [
       "<div>\n",
       "<style scoped>\n",
       "    .dataframe tbody tr th:only-of-type {\n",
       "        vertical-align: middle;\n",
       "    }\n",
       "\n",
       "    .dataframe tbody tr th {\n",
       "        vertical-align: top;\n",
       "    }\n",
       "\n",
       "    .dataframe thead th {\n",
       "        text-align: right;\n",
       "    }\n",
       "</style>\n",
       "<table border=\"1\" class=\"dataframe\">\n",
       "  <thead>\n",
       "    <tr style=\"text-align: right;\">\n",
       "      <th></th>\n",
       "      <th>DepTime</th>\n",
       "      <th>CRSDepTime</th>\n",
       "      <th>ArrTime</th>\n",
       "      <th>CRSArrTime</th>\n",
       "    </tr>\n",
       "  </thead>\n",
       "  <tbody>\n",
       "    <tr>\n",
       "      <th>count</th>\n",
       "      <td>388316.000000</td>\n",
       "      <td>388316.000000</td>\n",
       "      <td>388316.000000</td>\n",
       "      <td>388316.000000</td>\n",
       "    </tr>\n",
       "    <tr>\n",
       "      <th>mean</th>\n",
       "      <td>923.004635</td>\n",
       "      <td>891.710421</td>\n",
       "      <td>977.381887</td>\n",
       "      <td>991.636276</td>\n",
       "    </tr>\n",
       "    <tr>\n",
       "      <th>std</th>\n",
       "      <td>270.602964</td>\n",
       "      <td>255.424788</td>\n",
       "      <td>329.840536</td>\n",
       "      <td>279.626837</td>\n",
       "    </tr>\n",
       "    <tr>\n",
       "      <th>min</th>\n",
       "      <td>1.000000</td>\n",
       "      <td>0.000000</td>\n",
       "      <td>1.000000</td>\n",
       "      <td>1.000000</td>\n",
       "    </tr>\n",
       "    <tr>\n",
       "      <th>25%</th>\n",
       "      <td>723.000000</td>\n",
       "      <td>695.000000</td>\n",
       "      <td>795.000000</td>\n",
       "      <td>805.000000</td>\n",
       "    </tr>\n",
       "    <tr>\n",
       "      <th>50%</th>\n",
       "      <td>946.000000</td>\n",
       "      <td>910.000000</td>\n",
       "      <td>1035.000000</td>\n",
       "      <td>1025.000000</td>\n",
       "    </tr>\n",
       "    <tr>\n",
       "      <th>75%</th>\n",
       "      <td>1141.000000</td>\n",
       "      <td>1098.000000</td>\n",
       "      <td>1231.000000</td>\n",
       "      <td>1214.000000</td>\n",
       "    </tr>\n",
       "    <tr>\n",
       "      <th>max</th>\n",
       "      <td>1440.000000</td>\n",
       "      <td>1439.000000</td>\n",
       "      <td>1440.000000</td>\n",
       "      <td>1439.000000</td>\n",
       "    </tr>\n",
       "  </tbody>\n",
       "</table>\n",
       "</div>"
      ],
      "text/plain": [
       "             DepTime     CRSDepTime        ArrTime     CRSArrTime\n",
       "count  388316.000000  388316.000000  388316.000000  388316.000000\n",
       "mean      923.004635     891.710421     977.381887     991.636276\n",
       "std       270.602964     255.424788     329.840536     279.626837\n",
       "min         1.000000       0.000000       1.000000       1.000000\n",
       "25%       723.000000     695.000000     795.000000     805.000000\n",
       "50%       946.000000     910.000000    1035.000000    1025.000000\n",
       "75%      1141.000000    1098.000000    1231.000000    1214.000000\n",
       "max      1440.000000    1439.000000    1440.000000    1439.000000"
      ]
     },
     "execution_count": 508,
     "metadata": {},
     "output_type": "execute_result"
    }
   ],
   "source": [
    "df6[[\"DepTime\", \"CRSDepTime\", \"ArrTime\", \"CRSArrTime\"]].describe()"
   ]
  },
  {
   "cell_type": "code",
   "execution_count": 609,
   "id": "315b0306",
   "metadata": {
    "ExecuteTime": {
     "end_time": "2022-05-22T16:24:57.085504Z",
     "start_time": "2022-05-22T16:24:50.370751Z"
    }
   },
   "outputs": [
    {
     "data": {
      "text/plain": [
       "<AxesSubplot:xlabel='CRSArrTime', ylabel='ArrDelay'>"
      ]
     },
     "execution_count": 609,
     "metadata": {},
     "output_type": "execute_result"
    },
    {
     "data": {
      "image/png": "[encoded data removed]",
      "text/plain": [
       "<Figure size 1008x576 with 4 Axes>"
      ]
     },
     "metadata": {
      "needs_background": "light"
     },
     "output_type": "display_data"
    }
   ],
   "source": [
    "f,axs= plt.subplots(2, 2, figsize=(14,8))\n",
    "sns.regplot(data=df6, x=  \"DepTime\",y = \"ArrDelay\",ax= axs[0,0], ci=None,scatter_kws={\"color\": \"blue\"}, line_kws={\"color\": \"red\"})\n",
    "\n",
    "sns.regplot( data=df6, x=  \"CRSDepTime\",y = \"ArrDelay\",ax= axs[0,1], ci=None,scatter_kws={\"color\": \"blue\"}, line_kws={\"color\": \"red\"})  \n",
    "\n",
    "sns.regplot( data=df6, x=  \"ArrTime\",y = \"ArrDelay\",ax= axs[1,0]  , ci=None, scatter_kws={\"color\": \"blue\"}, line_kws={\"color\": \"red\"})\n",
    "\n",
    "sns.regplot( data=df6, x=  \"CRSArrTime\",y = \"ArrDelay\",ax= axs[1,1]  , ci=None, scatter_kws={\"color\": \"blue\"}, line_kws={\"color\": \"red\"})\n",
    "\n"
   ]
  },
  {
   "cell_type": "code",
   "execution_count": 614,
   "id": "e1759a6e",
   "metadata": {
    "ExecuteTime": {
     "end_time": "2022-05-22T16:29:51.925683Z",
     "start_time": "2022-05-22T16:29:51.690208Z"
    }
   },
   "outputs": [
    {
     "data": {
      "text/plain": [
       "-109.0"
      ]
     },
     "execution_count": 614,
     "metadata": {},
     "output_type": "execute_result"
    }
   ],
   "source": [
    "minimo=df[df[\"ArrDelay\"]<0].sort_values(\"ArrDelay\")# miramos los valores más bajos de ArrDelay\n",
    "zmin=minimo[\"ArrDelay\"].min()\n",
    "zmin"
   ]
  },
  {
   "cell_type": "code",
   "execution_count": 615,
   "id": "d848f677",
   "metadata": {
    "ExecuteTime": {
     "end_time": "2022-05-22T16:30:35.107220Z",
     "start_time": "2022-05-22T16:30:12.757022Z"
    }
   },
   "outputs": [
    {
     "data": {
      "image/png": "[encoded data removed]",
      "text/plain": [
       "<Figure size 1008x576 with 2 Axes>"
      ]
     },
     "metadata": {
      "needs_background": "light"
     },
     "output_type": "display_data"
    }
   ],
   "source": [
    "# podemos observar una independencia casi total, pero si hacemos lo siguiente. \n",
    "def rest(z):\n",
    "    x=z[0]\n",
    "    y=z[1]\n",
    "    if (x < y) & ((x-y)<zmin): \n",
    "        t= (1440+x)-y\n",
    "        return t\n",
    "    else:\n",
    "        t= x-y\n",
    "        return t  \n",
    "    \n",
    "x11= df6[[\"DepTime\",\"CRSDepTime\" ]].apply(rest, axis=1)\n",
    "x10= df6[[\"ArrTime\",\"CRSArrTime\" ]].apply(rest,axis=1)\n",
    "\n",
    "f,axs= plt.subplots(2, 1, figsize=(14,8))\n",
    "\n",
    "sns.regplot(data=df6, x=  x10,y = \"ArrDelay\",ax= axs[0], ci=None,scatter_kws={\"color\": \"blue\"}, line_kws={\"color\": \"red\"})\n",
    "\n",
    "sns.regplot( data=df6, x=  x11,y = \"DepDelay\",ax= axs[1], ci=None,scatter_kws={\"color\": \"blue\"}, line_kws={\"color\": \"red\"})  \n",
    "\n",
    "plt.show()\n"
   ]
  },
  {
   "cell_type": "markdown",
   "id": "1c1f3cc3",
   "metadata": {},
   "source": [
    "Sean **x10** y **x11** definidas por \n",
    "\n",
    "**x10= df6[\"ArrTime\"]-df6[\"CRSArrTime\"]**\n",
    "\n",
    "**x11= df6[\"DepTime\"]-df6[\"CRSDepTime\"]**\n",
    "\n",
    "podemos observar una relación lineal.\n",
    "\n",
    "\n",
    "\n",
    "Por otro lado, habíamos visto en el ejercicio 9.1 lo siguiente:\n",
    "\n",
    "\"ActualElapsedTime\", \"CRSElapsedTime\",\"AirTime\" y \"Distance\" tienen un coeficiente de correlación lineal entre ellas cercano a 0,95  ±2  , mientras que ArrDelay y DepDelay, tienen una correlación cercana a cero respecto a estas 4 variables.\n",
    "\n",
    "Arrdelay y DepDelay tienen una correlación cercana a 0,8.\n",
    "\n",
    "Por lo que sólo nos queda estudiar Taxiin y taxiout"
   ]
  },
  {
   "cell_type": "code",
   "execution_count": 616,
   "id": "d8c2d2b4",
   "metadata": {
    "ExecuteTime": {
     "end_time": "2022-05-22T16:31:30.030400Z",
     "start_time": "2022-05-22T16:31:26.646753Z"
    }
   },
   "outputs": [
    {
     "data": {
      "image/png": "[encoded data removed]",
      "text/plain": [
       "<Figure size 1008x576 with 2 Axes>"
      ]
     },
     "metadata": {
      "needs_background": "light"
     },
     "output_type": "display_data"
    }
   ],
   "source": [
    "f,axs= plt.subplots(2, 1, figsize=(14,8))\n",
    "\n",
    "sns.regplot(data=df6, x=  \"TaxiIn\",y = \"ArrDelay\",ax= axs[0], ci=None,scatter_kws={\"color\": \"blue\"}, line_kws={\"color\": \"red\"})\n",
    "\n",
    "sns.regplot( data=df6, x=  \"TaxiOut\",y = \"ArrDelay\",ax= axs[1], ci=None,scatter_kws={\"color\": \"blue\"}, line_kws={\"color\": \"red\"})  \n",
    "\n",
    "plt.show()"
   ]
  },
  {
   "cell_type": "markdown",
   "id": "14513406",
   "metadata": {},
   "source": [
    "Podemos ver que ambas variables (TaxiIn y TaxiOut)tienen una correlación muy baja respecto a ArrDelay, a pesar de la tendencia \n",
    "lineal. Pero hay una gran acumulación de restrasos importantes a pesar de tiempos cortos de tiempos de despegue (TaxiOut) o de \n",
    "aterrizaje, lo que hace perder la linealidad para valores bajos de taxiin o taxiouit\n",
    "\n"
   ]
  },
  {
   "cell_type": "markdown",
   "id": "df5e7e41",
   "metadata": {},
   "source": [
    "0.5 **Transformación y Selección de Variable** \n",
    "\n",
    "Vamos a usar el coeficiente de correlación para seleccionar las características que mejor nos sirven para la regressión. \n",
    "\n",
    "Antes de todo, vamos a remodelar el data set, añadiendo x10 y x11, y eliminado 'DepTime', 'CRSDepTime', 'ArrTime', 'CRSArrTime', ya que x10 y x11 son combinaciones lienales de estas 4. \n",
    "\n",
    "También eliminamos 'ActualElapsedTime', 'CRSElapsedTime', 'AirTime' ya que tienen un 0.95 de correlación o más  con Distance y aportan la misma información. \n",
    "\n"
   ]
  },
  {
   "cell_type": "code",
   "execution_count": 617,
   "id": "43f7aadd",
   "metadata": {
    "ExecuteTime": {
     "end_time": "2022-05-22T16:32:19.812222Z",
     "start_time": "2022-05-22T16:32:19.754152Z"
    }
   },
   "outputs": [
    {
     "data": {
      "text/plain": [
       "count    388309.000000\n",
       "mean         42.711938\n",
       "std          60.690127\n",
       "min         -70.000000\n",
       "25%           9.000000\n",
       "50%          25.000000\n",
       "75%          56.000000\n",
       "max        1439.000000\n",
       "Name: X10, dtype: float64"
      ]
     },
     "execution_count": 617,
     "metadata": {},
     "output_type": "execute_result"
    }
   ],
   "source": [
    "x10=x10.rename(\"X10\")\n",
    "x11=x11.rename(\"X11\")\n",
    "x10.describe()"
   ]
  },
  {
   "cell_type": "code",
   "execution_count": 618,
   "id": "78d02b81",
   "metadata": {
    "ExecuteTime": {
     "end_time": "2022-05-22T16:33:03.198134Z",
     "start_time": "2022-05-22T16:33:03.146522Z"
    }
   },
   "outputs": [
    {
     "data": {
      "text/plain": [
       "count    388309.000000\n",
       "mean         43.211113\n",
       "std          53.184278\n",
       "min         -37.000000\n",
       "25%          12.000000\n",
       "50%          24.000000\n",
       "75%          53.000000\n",
       "max        1316.000000\n",
       "Name: X11, dtype: float64"
      ]
     },
     "execution_count": 618,
     "metadata": {},
     "output_type": "execute_result"
    }
   ],
   "source": [
    "x11.describe()"
   ]
  },
  {
   "cell_type": "code",
   "execution_count": 619,
   "id": "15b85cb9",
   "metadata": {
    "ExecuteTime": {
     "end_time": "2022-05-22T16:33:22.566924Z",
     "start_time": "2022-05-22T16:33:22.494865Z"
    }
   },
   "outputs": [
    {
     "data": {
      "text/html": [
       "<div>\n",
       "<style scoped>\n",
       "    .dataframe tbody tr th:only-of-type {\n",
       "        vertical-align: middle;\n",
       "    }\n",
       "\n",
       "    .dataframe tbody tr th {\n",
       "        vertical-align: top;\n",
       "    }\n",
       "\n",
       "    .dataframe thead th {\n",
       "        text-align: right;\n",
       "    }\n",
       "</style>\n",
       "<table border=\"1\" class=\"dataframe\">\n",
       "  <thead>\n",
       "    <tr style=\"text-align: right;\">\n",
       "      <th></th>\n",
       "      <th>X10</th>\n",
       "      <th>X11</th>\n",
       "      <th>ArrDelay</th>\n",
       "    </tr>\n",
       "  </thead>\n",
       "  <tbody>\n",
       "    <tr>\n",
       "      <th>X10</th>\n",
       "      <td>1.000000</td>\n",
       "      <td>0.886520</td>\n",
       "      <td>0.927101</td>\n",
       "    </tr>\n",
       "    <tr>\n",
       "      <th>X11</th>\n",
       "      <td>0.886520</td>\n",
       "      <td>1.000000</td>\n",
       "      <td>0.949764</td>\n",
       "    </tr>\n",
       "    <tr>\n",
       "      <th>ArrDelay</th>\n",
       "      <td>0.927101</td>\n",
       "      <td>0.949764</td>\n",
       "      <td>1.000000</td>\n",
       "    </tr>\n",
       "  </tbody>\n",
       "</table>\n",
       "</div>"
      ],
      "text/plain": [
       "               X10       X11  ArrDelay\n",
       "X10       1.000000  0.886520  0.927101\n",
       "X11       0.886520  1.000000  0.949764\n",
       "ArrDelay  0.927101  0.949764  1.000000"
      ]
     },
     "execution_count": 619,
     "metadata": {},
     "output_type": "execute_result"
    }
   ],
   "source": [
    "x1= pd.concat([x10,x11,df6[\"ArrDelay\"]],axis=1)\n",
    "x1.corr()"
   ]
  },
  {
   "cell_type": "code",
   "execution_count": 620,
   "id": "fbad6ad3",
   "metadata": {
    "ExecuteTime": {
     "end_time": "2022-05-22T16:34:03.964866Z",
     "start_time": "2022-05-22T16:34:03.839642Z"
    }
   },
   "outputs": [
    {
     "data": {
      "text/html": [
       "<div>\n",
       "<style scoped>\n",
       "    .dataframe tbody tr th:only-of-type {\n",
       "        vertical-align: middle;\n",
       "    }\n",
       "\n",
       "    .dataframe tbody tr th {\n",
       "        vertical-align: top;\n",
       "    }\n",
       "\n",
       "    .dataframe thead th {\n",
       "        text-align: right;\n",
       "    }\n",
       "</style>\n",
       "<table border=\"1\" class=\"dataframe\">\n",
       "  <thead>\n",
       "    <tr style=\"text-align: right;\">\n",
       "      <th></th>\n",
       "      <th>ArrDelay</th>\n",
       "      <th>DepDelay</th>\n",
       "      <th>Distance</th>\n",
       "      <th>TaxiIn</th>\n",
       "      <th>TaxiOut</th>\n",
       "      <th>CarrierDelay</th>\n",
       "      <th>WeatherDelay</th>\n",
       "      <th>NASDelay</th>\n",
       "      <th>SecurityDelay</th>\n",
       "      <th>LateAircraftDelay</th>\n",
       "      <th>X10</th>\n",
       "      <th>X11</th>\n",
       "    </tr>\n",
       "  </thead>\n",
       "  <tbody>\n",
       "    <tr>\n",
       "      <th>0</th>\n",
       "      <td>20.0</td>\n",
       "      <td>24.0</td>\n",
       "      <td>296</td>\n",
       "      <td>2.0</td>\n",
       "      <td>8.0</td>\n",
       "      <td>5.0</td>\n",
       "      <td>0.0</td>\n",
       "      <td>0.0</td>\n",
       "      <td>0.0</td>\n",
       "      <td>15.0</td>\n",
       "      <td>20</td>\n",
       "      <td>24</td>\n",
       "    </tr>\n",
       "    <tr>\n",
       "      <th>1</th>\n",
       "      <td>64.0</td>\n",
       "      <td>34.0</td>\n",
       "      <td>260</td>\n",
       "      <td>3.0</td>\n",
       "      <td>42.0</td>\n",
       "      <td>0.0</td>\n",
       "      <td>0.0</td>\n",
       "      <td>30.0</td>\n",
       "      <td>0.0</td>\n",
       "      <td>34.0</td>\n",
       "      <td>64</td>\n",
       "      <td>34</td>\n",
       "    </tr>\n",
       "    <tr>\n",
       "      <th>2</th>\n",
       "      <td>4.0</td>\n",
       "      <td>8.0</td>\n",
       "      <td>248</td>\n",
       "      <td>3.0</td>\n",
       "      <td>9.0</td>\n",
       "      <td>0.0</td>\n",
       "      <td>0.0</td>\n",
       "      <td>0.0</td>\n",
       "      <td>0.0</td>\n",
       "      <td>0.0</td>\n",
       "      <td>4</td>\n",
       "      <td>8</td>\n",
       "    </tr>\n",
       "    <tr>\n",
       "      <th>3</th>\n",
       "      <td>35.0</td>\n",
       "      <td>12.0</td>\n",
       "      <td>328</td>\n",
       "      <td>7.0</td>\n",
       "      <td>29.0</td>\n",
       "      <td>0.0</td>\n",
       "      <td>0.0</td>\n",
       "      <td>23.0</td>\n",
       "      <td>0.0</td>\n",
       "      <td>12.0</td>\n",
       "      <td>35</td>\n",
       "      <td>12</td>\n",
       "    </tr>\n",
       "    <tr>\n",
       "      <th>4</th>\n",
       "      <td>33.0</td>\n",
       "      <td>32.0</td>\n",
       "      <td>2611</td>\n",
       "      <td>10.0</td>\n",
       "      <td>45.0</td>\n",
       "      <td>0.0</td>\n",
       "      <td>0.0</td>\n",
       "      <td>19.0</td>\n",
       "      <td>0.0</td>\n",
       "      <td>14.0</td>\n",
       "      <td>33</td>\n",
       "      <td>32</td>\n",
       "    </tr>\n",
       "    <tr>\n",
       "      <th>...</th>\n",
       "      <td>...</td>\n",
       "      <td>...</td>\n",
       "      <td>...</td>\n",
       "      <td>...</td>\n",
       "      <td>...</td>\n",
       "      <td>...</td>\n",
       "      <td>...</td>\n",
       "      <td>...</td>\n",
       "      <td>...</td>\n",
       "      <td>...</td>\n",
       "      <td>...</td>\n",
       "      <td>...</td>\n",
       "    </tr>\n",
       "    <tr>\n",
       "      <th>388304</th>\n",
       "      <td>9.0</td>\n",
       "      <td>14.0</td>\n",
       "      <td>967</td>\n",
       "      <td>6.0</td>\n",
       "      <td>11.0</td>\n",
       "      <td>0.0</td>\n",
       "      <td>0.0</td>\n",
       "      <td>0.0</td>\n",
       "      <td>0.0</td>\n",
       "      <td>0.0</td>\n",
       "      <td>9</td>\n",
       "      <td>14</td>\n",
       "    </tr>\n",
       "    <tr>\n",
       "      <th>388305</th>\n",
       "      <td>140.0</td>\n",
       "      <td>68.0</td>\n",
       "      <td>2381</td>\n",
       "      <td>8.0</td>\n",
       "      <td>106.0</td>\n",
       "      <td>4.0</td>\n",
       "      <td>0.0</td>\n",
       "      <td>136.0</td>\n",
       "      <td>0.0</td>\n",
       "      <td>0.0</td>\n",
       "      <td>140</td>\n",
       "      <td>68</td>\n",
       "    </tr>\n",
       "    <tr>\n",
       "      <th>388306</th>\n",
       "      <td>47.0</td>\n",
       "      <td>49.0</td>\n",
       "      <td>1121</td>\n",
       "      <td>13.0</td>\n",
       "      <td>10.0</td>\n",
       "      <td>4.0</td>\n",
       "      <td>0.0</td>\n",
       "      <td>0.0</td>\n",
       "      <td>0.0</td>\n",
       "      <td>43.0</td>\n",
       "      <td>47</td>\n",
       "      <td>49</td>\n",
       "    </tr>\n",
       "    <tr>\n",
       "      <th>388307</th>\n",
       "      <td>-6.0</td>\n",
       "      <td>7.0</td>\n",
       "      <td>906</td>\n",
       "      <td>7.0</td>\n",
       "      <td>9.0</td>\n",
       "      <td>0.0</td>\n",
       "      <td>0.0</td>\n",
       "      <td>0.0</td>\n",
       "      <td>0.0</td>\n",
       "      <td>0.0</td>\n",
       "      <td>-6</td>\n",
       "      <td>7</td>\n",
       "    </tr>\n",
       "    <tr>\n",
       "      <th>388308</th>\n",
       "      <td>8.0</td>\n",
       "      <td>15.0</td>\n",
       "      <td>605</td>\n",
       "      <td>4.0</td>\n",
       "      <td>13.0</td>\n",
       "      <td>0.0</td>\n",
       "      <td>0.0</td>\n",
       "      <td>0.0</td>\n",
       "      <td>0.0</td>\n",
       "      <td>0.0</td>\n",
       "      <td>8</td>\n",
       "      <td>15</td>\n",
       "    </tr>\n",
       "  </tbody>\n",
       "</table>\n",
       "<p>388309 rows × 12 columns</p>\n",
       "</div>"
      ],
      "text/plain": [
       "        ArrDelay  DepDelay  Distance  TaxiIn  TaxiOut  CarrierDelay  \\\n",
       "0           20.0      24.0       296     2.0      8.0           5.0   \n",
       "1           64.0      34.0       260     3.0     42.0           0.0   \n",
       "2            4.0       8.0       248     3.0      9.0           0.0   \n",
       "3           35.0      12.0       328     7.0     29.0           0.0   \n",
       "4           33.0      32.0      2611    10.0     45.0           0.0   \n",
       "...          ...       ...       ...     ...      ...           ...   \n",
       "388304       9.0      14.0       967     6.0     11.0           0.0   \n",
       "388305     140.0      68.0      2381     8.0    106.0           4.0   \n",
       "388306      47.0      49.0      1121    13.0     10.0           4.0   \n",
       "388307      -6.0       7.0       906     7.0      9.0           0.0   \n",
       "388308       8.0      15.0       605     4.0     13.0           0.0   \n",
       "\n",
       "        WeatherDelay  NASDelay  SecurityDelay  LateAircraftDelay  X10  X11  \n",
       "0                0.0       0.0            0.0               15.0   20   24  \n",
       "1                0.0      30.0            0.0               34.0   64   34  \n",
       "2                0.0       0.0            0.0                0.0    4    8  \n",
       "3                0.0      23.0            0.0               12.0   35   12  \n",
       "4                0.0      19.0            0.0               14.0   33   32  \n",
       "...              ...       ...            ...                ...  ...  ...  \n",
       "388304           0.0       0.0            0.0                0.0    9   14  \n",
       "388305           0.0     136.0            0.0                0.0  140   68  \n",
       "388306           0.0       0.0            0.0               43.0   47   49  \n",
       "388307           0.0       0.0            0.0                0.0   -6    7  \n",
       "388308           0.0       0.0            0.0                0.0    8   15  \n",
       "\n",
       "[388309 rows x 12 columns]"
      ]
     },
     "execution_count": 620,
     "metadata": {},
     "output_type": "execute_result"
    }
   ],
   "source": [
    "#remodelamos el DF con x10 y x11\n",
    "df6b=df6.drop(['DepTime', 'CRSDepTime', 'ArrTime', 'CRSArrTime', 'ActualElapsedTime', 'CRSElapsedTime', 'AirTime'], axis=1)\n",
    "df7=pd.concat([df6b, x10,x11], axis =1)\n",
    "df7"
   ]
  },
  {
   "cell_type": "markdown",
   "id": "0e530d42",
   "metadata": {},
   "source": [
    "-Hasta el momento hemos reducido una docena de variables categóricas, bien porque no aportaban nada como Year, bien porque \n",
    "nos aumentaban la dimensionalidad del DataSet  como Origen o bien porque no influenciaban en nada  como \n",
    "el mes en que se daba el vuelo sobre el ArrDelay.\n",
    "\n",
    "-Hemos reducido 4 variables continuas a x10 y x11\n",
    "\n",
    "-Y hemos reducido 4 variables a 1, debido a su alto grado de correlación entre ellas( dejando Distance)\n",
    "\n",
    "Con las que quedan, vamos a ver el coeficente de correlación de Spearman, pero antes de todo,vamos a estandarizar las variables \n",
    "\n"
   ]
  },
  {
   "cell_type": "code",
   "execution_count": 622,
   "id": "39357dbb",
   "metadata": {
    "ExecuteTime": {
     "end_time": "2022-05-22T16:37:02.233675Z",
     "start_time": "2022-05-22T16:37:01.885837Z"
    }
   },
   "outputs": [
    {
     "data": {
      "text/html": [
       "<div>\n",
       "<style scoped>\n",
       "    .dataframe tbody tr th:only-of-type {\n",
       "        vertical-align: middle;\n",
       "    }\n",
       "\n",
       "    .dataframe tbody tr th {\n",
       "        vertical-align: top;\n",
       "    }\n",
       "\n",
       "    .dataframe thead th {\n",
       "        text-align: right;\n",
       "    }\n",
       "</style>\n",
       "<table border=\"1\" class=\"dataframe\">\n",
       "  <thead>\n",
       "    <tr style=\"text-align: right;\">\n",
       "      <th></th>\n",
       "      <th>ArrDelay</th>\n",
       "      <th>DepDelay</th>\n",
       "      <th>Distance</th>\n",
       "      <th>TaxiIn</th>\n",
       "      <th>TaxiOut</th>\n",
       "      <th>CarrierDelay</th>\n",
       "      <th>WeatherDelay</th>\n",
       "      <th>NASDelay</th>\n",
       "      <th>SecurityDelay</th>\n",
       "      <th>LateAircraftDelay</th>\n",
       "      <th>X10</th>\n",
       "      <th>X11</th>\n",
       "    </tr>\n",
       "  </thead>\n",
       "  <tbody>\n",
       "    <tr>\n",
       "      <th>count</th>\n",
       "      <td>388309.000</td>\n",
       "      <td>388309.000</td>\n",
       "      <td>388309.000</td>\n",
       "      <td>388309.000</td>\n",
       "      <td>388309.000</td>\n",
       "      <td>388309.000</td>\n",
       "      <td>388309.000</td>\n",
       "      <td>388309.000</td>\n",
       "      <td>388309.000</td>\n",
       "      <td>388309.000</td>\n",
       "      <td>388309.000</td>\n",
       "      <td>388309.000</td>\n",
       "    </tr>\n",
       "    <tr>\n",
       "      <th>mean</th>\n",
       "      <td>0.000</td>\n",
       "      <td>-0.000</td>\n",
       "      <td>-0.000</td>\n",
       "      <td>-0.000</td>\n",
       "      <td>-0.000</td>\n",
       "      <td>-0.000</td>\n",
       "      <td>0.000</td>\n",
       "      <td>0.000</td>\n",
       "      <td>-0.000</td>\n",
       "      <td>-0.000</td>\n",
       "      <td>-0.000</td>\n",
       "      <td>0.000</td>\n",
       "    </tr>\n",
       "    <tr>\n",
       "      <th>std</th>\n",
       "      <td>1.000</td>\n",
       "      <td>1.000</td>\n",
       "      <td>1.000</td>\n",
       "      <td>1.000</td>\n",
       "      <td>1.000</td>\n",
       "      <td>1.000</td>\n",
       "      <td>1.000</td>\n",
       "      <td>1.000</td>\n",
       "      <td>1.000</td>\n",
       "      <td>1.000</td>\n",
       "      <td>1.000</td>\n",
       "      <td>1.000</td>\n",
       "    </tr>\n",
       "    <tr>\n",
       "      <th>min</th>\n",
       "      <td>-1.956</td>\n",
       "      <td>-0.697</td>\n",
       "      <td>-1.280</td>\n",
       "      <td>-1.299</td>\n",
       "      <td>-1.262</td>\n",
       "      <td>-0.346</td>\n",
       "      <td>-0.137</td>\n",
       "      <td>-0.346</td>\n",
       "      <td>-0.037</td>\n",
       "      <td>-0.455</td>\n",
       "      <td>-1.857</td>\n",
       "      <td>-1.508</td>\n",
       "    </tr>\n",
       "    <tr>\n",
       "      <th>25%</th>\n",
       "      <td>-0.586</td>\n",
       "      <td>-0.585</td>\n",
       "      <td>-0.743</td>\n",
       "      <td>-0.536</td>\n",
       "      <td>-0.570</td>\n",
       "      <td>-0.346</td>\n",
       "      <td>-0.137</td>\n",
       "      <td>-0.346</td>\n",
       "      <td>-0.037</td>\n",
       "      <td>-0.455</td>\n",
       "      <td>-0.555</td>\n",
       "      <td>-0.587</td>\n",
       "    </tr>\n",
       "    <tr>\n",
       "      <th>50%</th>\n",
       "      <td>-0.305</td>\n",
       "      <td>-0.360</td>\n",
       "      <td>-0.276</td>\n",
       "      <td>-0.155</td>\n",
       "      <td>-0.293</td>\n",
       "      <td>-0.346</td>\n",
       "      <td>-0.137</td>\n",
       "      <td>-0.346</td>\n",
       "      <td>-0.037</td>\n",
       "      <td>-0.455</td>\n",
       "      <td>-0.292</td>\n",
       "      <td>-0.361</td>\n",
       "    </tr>\n",
       "    <tr>\n",
       "      <th>75%</th>\n",
       "      <td>0.239</td>\n",
       "      <td>0.183</td>\n",
       "      <td>0.405</td>\n",
       "      <td>0.227</td>\n",
       "      <td>0.191</td>\n",
       "      <td>-0.068</td>\n",
       "      <td>-0.137</td>\n",
       "      <td>-0.134</td>\n",
       "      <td>-0.037</td>\n",
       "      <td>0.044</td>\n",
       "      <td>0.219</td>\n",
       "      <td>0.184</td>\n",
       "    </tr>\n",
       "    <tr>\n",
       "      <th>max</th>\n",
       "      <td>42.474</td>\n",
       "      <td>45.202</td>\n",
       "      <td>7.316</td>\n",
       "      <td>36.653</td>\n",
       "      <td>25.930</td>\n",
       "      <td>40.079</td>\n",
       "      <td>73.894</td>\n",
       "      <td>45.106</td>\n",
       "      <td>226.231</td>\n",
       "      <td>36.032</td>\n",
       "      <td>23.007</td>\n",
       "      <td>23.932</td>\n",
       "    </tr>\n",
       "  </tbody>\n",
       "</table>\n",
       "</div>"
      ],
      "text/plain": [
       "         ArrDelay    DepDelay    Distance      TaxiIn     TaxiOut  \\\n",
       "count  388309.000  388309.000  388309.000  388309.000  388309.000   \n",
       "mean        0.000      -0.000      -0.000      -0.000      -0.000   \n",
       "std         1.000       1.000       1.000       1.000       1.000   \n",
       "min        -1.956      -0.697      -1.280      -1.299      -1.262   \n",
       "25%        -0.586      -0.585      -0.743      -0.536      -0.570   \n",
       "50%        -0.305      -0.360      -0.276      -0.155      -0.293   \n",
       "75%         0.239       0.183       0.405       0.227       0.191   \n",
       "max        42.474      45.202       7.316      36.653      25.930   \n",
       "\n",
       "       CarrierDelay  WeatherDelay    NASDelay  SecurityDelay  \\\n",
       "count    388309.000    388309.000  388309.000     388309.000   \n",
       "mean         -0.000         0.000       0.000         -0.000   \n",
       "std           1.000         1.000       1.000          1.000   \n",
       "min          -0.346        -0.137      -0.346         -0.037   \n",
       "25%          -0.346        -0.137      -0.346         -0.037   \n",
       "50%          -0.346        -0.137      -0.346         -0.037   \n",
       "75%          -0.068        -0.137      -0.134         -0.037   \n",
       "max          40.079        73.894      45.106        226.231   \n",
       "\n",
       "       LateAircraftDelay         X10         X11  \n",
       "count         388309.000  388309.000  388309.000  \n",
       "mean              -0.000      -0.000       0.000  \n",
       "std                1.000       1.000       1.000  \n",
       "min               -0.455      -1.857      -1.508  \n",
       "25%               -0.455      -0.555      -0.587  \n",
       "50%               -0.455      -0.292      -0.361  \n",
       "75%                0.044       0.219       0.184  \n",
       "max               36.032      23.007      23.932  "
      ]
     },
     "execution_count": 622,
     "metadata": {},
     "output_type": "execute_result"
    }
   ],
   "source": [
    "scaler = StandardScaler()\n",
    "\n",
    "df8= pd.DataFrame(scaler.fit_transform(df7), columns=df7.columns )\n",
    "\n",
    "df8.describe().round(3)"
   ]
  },
  {
   "cell_type": "code",
   "execution_count": 623,
   "id": "e914e3e4",
   "metadata": {
    "ExecuteTime": {
     "end_time": "2022-05-22T16:37:29.466439Z",
     "start_time": "2022-05-22T16:37:27.926206Z"
    }
   },
   "outputs": [
    {
     "data": {
      "image/png": "[encoded data removed]",
      "text/plain": [
       "<Figure size 1080x1080 with 2 Axes>"
      ]
     },
     "metadata": {
      "needs_background": "light"
     },
     "output_type": "display_data"
    }
   ],
   "source": [
    "# y aplicamos el coeficiente de correlación de Spearman\n",
    "df8corr= df8.corr(method=\"spearman\")\n",
    "f, ax = plt.subplots(figsize=(15,15))\n",
    "sns.heatmap(df8corr, vmax=1, vmin=-1, square=True,cmap=\"Blues\", annot=True)\n",
    "plt.show()"
   ]
  },
  {
   "cell_type": "markdown",
   "id": "676f721e",
   "metadata": {},
   "source": [
    "EL coeficiente de correlación de Sperman tampoco no aporta mucho más que el de Pearson. Vamos a mirar un método de selección \n",
    "de variables, para ver cuales son las mejores variables. Escogeremos f_regression."
   ]
  },
  {
   "cell_type": "code",
   "execution_count": 624,
   "id": "df3838ed",
   "metadata": {
    "ExecuteTime": {
     "end_time": "2022-05-22T16:37:58.828652Z",
     "start_time": "2022-05-22T16:37:58.808192Z"
    }
   },
   "outputs": [
    {
     "data": {
      "text/plain": [
       "Index(['ArrDelay', 'DepDelay', 'Distance', 'TaxiIn', 'TaxiOut', 'CarrierDelay',\n",
       "       'WeatherDelay', 'NASDelay', 'SecurityDelay', 'LateAircraftDelay', 'X10',\n",
       "       'X11'],\n",
       "      dtype='object')"
      ]
     },
     "execution_count": 624,
     "metadata": {},
     "output_type": "execute_result"
    }
   ],
   "source": [
    "df8.columns"
   ]
  },
  {
   "cell_type": "code",
   "execution_count": 626,
   "id": "3889f662",
   "metadata": {
    "ExecuteTime": {
     "end_time": "2022-05-22T16:39:44.122249Z",
     "start_time": "2022-05-22T16:39:43.784833Z"
    }
   },
   "outputs": [
    {
     "name": "stdout",
     "output_type": "stream",
     "text": [
      "['DepDelay']\n",
      "[3769265.55583226]\n",
      "\n",
      "\n",
      "['DepDelay' 'X11']\n",
      "[3769265.55583226 3576130.23084345]\n",
      "\n",
      "\n",
      "['DepDelay' 'X10' 'X11']\n",
      "[3769265.55583226 2375760.80696682 3576130.23084345]\n",
      "\n",
      "\n",
      "['DepDelay' 'LateAircraftDelay' 'X10' 'X11']\n",
      "[3769265.55583226  177930.52236788 2375760.80696682 3576130.23084345]\n",
      "\n",
      "\n",
      "['DepDelay' 'CarrierDelay' 'LateAircraftDelay' 'X10' 'X11']\n",
      "[3769265.55583226  160079.61296462  177930.52236788 2375760.80696682\n",
      " 3576130.23084345]\n",
      "\n",
      "\n",
      "['DepDelay' 'CarrierDelay' 'NASDelay' 'LateAircraftDelay' 'X10' 'X11']\n",
      "[3769265.55583226  160079.61296462  100283.5404789   177930.52236788\n",
      " 2375760.80696682 3576130.23084345]\n",
      "\n",
      "\n",
      "['DepDelay' 'TaxiOut' 'CarrierDelay' 'NASDelay' 'LateAircraftDelay' 'X10'\n",
      " 'X11']\n",
      "[3769265.55583226   34745.56752364  160079.61296462  100283.5404789\n",
      "  177930.52236788 2375760.80696682 3576130.23084345]\n",
      "\n",
      "\n",
      "['DepDelay' 'TaxiOut' 'CarrierDelay' 'WeatherDelay' 'NASDelay'\n",
      " 'LateAircraftDelay' 'X10' 'X11']\n",
      "[3769265.55583226   34745.56752364  160079.61296462   32833.43766192\n",
      "  100283.5404789   177930.52236788 2375760.80696682 3576130.23084345]\n",
      "\n",
      "\n",
      "['DepDelay' 'TaxiIn' 'TaxiOut' 'CarrierDelay' 'WeatherDelay' 'NASDelay'\n",
      " 'LateAircraftDelay' 'X10' 'X11']\n",
      "[3769265.55583226    9678.83772855   34745.56752364  160079.61296462\n",
      "   32833.43766192  100283.5404789   177930.52236788 2375760.80696682\n",
      " 3576130.23084345]\n",
      "\n",
      "\n",
      "['DepDelay' 'Distance' 'TaxiIn' 'TaxiOut' 'CarrierDelay' 'WeatherDelay'\n",
      " 'NASDelay' 'LateAircraftDelay' 'X10' 'X11']\n",
      "[3.76926556e+06 2.84643120e+02 9.67883773e+03 3.47455675e+04\n",
      " 1.60079613e+05 3.28334377e+04 1.00283540e+05 1.77930522e+05\n",
      " 2.37576081e+06 3.57613023e+06]\n",
      "\n",
      "\n",
      "['DepDelay' 'Distance' 'TaxiIn' 'TaxiOut' 'CarrierDelay' 'WeatherDelay'\n",
      " 'NASDelay' 'SecurityDelay' 'LateAircraftDelay' 'X10' 'X11']\n",
      "[3.76926556e+06 2.84643120e+02 9.67883773e+03 3.47455675e+04\n",
      " 1.60079613e+05 3.28334377e+04 1.00283540e+05 3.82263872e+01\n",
      " 1.77930522e+05 2.37576081e+06 3.57613023e+06]\n",
      "\n",
      "\n"
     ]
    }
   ],
   "source": [
    "from sklearn.feature_selection import SelectKBest\n",
    "from sklearn.feature_selection import f_regression\n",
    "Xpreseleccion= df8.drop([\"ArrDelay\"], axis=1)\n",
    "ypreseleccion= df8[\"ArrDelay\"]\n",
    "for i in range(1,12): # vamos a mirar como f_selection va escogiendo las variables en función del estadístico F\n",
    "    fs = SelectKBest(score_func=f_regression, k=i)\n",
    "    XS=fs.fit(Xpreseleccion,ypreseleccion)\n",
    "    \n",
    "\n",
    "    filter=fs.get_support()\n",
    "    variables=np.array(Xpreseleccion.columns)\n",
    "    print(variables[filter])\n",
    "    print (XS.scores_[filter])\n",
    "    print (\"\\n\")\n",
    "\n",
    "\n",
    "\n"
   ]
  },
  {
   "cell_type": "markdown",
   "id": "2cbe4d53",
   "metadata": {
    "ExecuteTime": {
     "end_time": "2022-05-22T10:38:40.095144Z",
     "start_time": "2022-05-22T10:38:40.059688Z"
    }
   },
   "source": [
    "Observamos que la selección de variables por f_Regression nos lleva a unos resultados muy similares al coeficiente correlación \n",
    "Pearson. Así que escogeremos la variables con mayor inidce que correlación:\n",
    "    \n",
    " sean las variables,    ['DepDelay' 'TaxiOut' 'CarrierDelay' 'NASDelay' 'LateAircraftDelay']\n",
    "    "
   ]
  },
  {
   "cell_type": "code",
   "execution_count": 627,
   "id": "5c6855d2",
   "metadata": {
    "ExecuteTime": {
     "end_time": "2022-05-22T16:41:55.277093Z",
     "start_time": "2022-05-22T16:41:55.240695Z"
    }
   },
   "outputs": [
    {
     "data": {
      "text/html": [
       "<div>\n",
       "<style scoped>\n",
       "    .dataframe tbody tr th:only-of-type {\n",
       "        vertical-align: middle;\n",
       "    }\n",
       "\n",
       "    .dataframe tbody tr th {\n",
       "        vertical-align: top;\n",
       "    }\n",
       "\n",
       "    .dataframe thead th {\n",
       "        text-align: right;\n",
       "    }\n",
       "</style>\n",
       "<table border=\"1\" class=\"dataframe\">\n",
       "  <thead>\n",
       "    <tr style=\"text-align: right;\">\n",
       "      <th></th>\n",
       "      <th>ArrDelay</th>\n",
       "      <th>DepDelay</th>\n",
       "      <th>CarrierDelay</th>\n",
       "      <th>NASDelay</th>\n",
       "      <th>LateAircraftDelay</th>\n",
       "      <th>X10</th>\n",
       "      <th>X11</th>\n",
       "    </tr>\n",
       "  </thead>\n",
       "  <tbody>\n",
       "    <tr>\n",
       "      <th>0</th>\n",
       "      <td>-0.392916</td>\n",
       "      <td>-0.359972</td>\n",
       "      <td>-0.206962</td>\n",
       "      <td>-0.345735</td>\n",
       "      <td>-0.039099</td>\n",
       "      <td>-0.374228</td>\n",
       "      <td>-0.361218</td>\n",
       "    </tr>\n",
       "    <tr>\n",
       "      <th>1</th>\n",
       "      <td>0.379780</td>\n",
       "      <td>-0.172703</td>\n",
       "      <td>-0.345878</td>\n",
       "      <td>0.712092</td>\n",
       "      <td>0.487692</td>\n",
       "      <td>0.350767</td>\n",
       "      <td>-0.173193</td>\n",
       "    </tr>\n",
       "    <tr>\n",
       "      <th>2</th>\n",
       "      <td>-0.673896</td>\n",
       "      <td>-0.659601</td>\n",
       "      <td>-0.345878</td>\n",
       "      <td>-0.345735</td>\n",
       "      <td>-0.454986</td>\n",
       "      <td>-0.637863</td>\n",
       "      <td>-0.662060</td>\n",
       "    </tr>\n",
       "    <tr>\n",
       "      <th>3</th>\n",
       "      <td>-0.129497</td>\n",
       "      <td>-0.584693</td>\n",
       "      <td>-0.345878</td>\n",
       "      <td>0.465265</td>\n",
       "      <td>-0.122276</td>\n",
       "      <td>-0.127071</td>\n",
       "      <td>-0.586849</td>\n",
       "    </tr>\n",
       "    <tr>\n",
       "      <th>4</th>\n",
       "      <td>-0.164619</td>\n",
       "      <td>-0.210157</td>\n",
       "      <td>-0.345878</td>\n",
       "      <td>0.324222</td>\n",
       "      <td>-0.066824</td>\n",
       "      <td>-0.160025</td>\n",
       "      <td>-0.210798</td>\n",
       "    </tr>\n",
       "  </tbody>\n",
       "</table>\n",
       "</div>"
      ],
      "text/plain": [
       "   ArrDelay  DepDelay  CarrierDelay  NASDelay  LateAircraftDelay       X10  \\\n",
       "0 -0.392916 -0.359972     -0.206962 -0.345735          -0.039099 -0.374228   \n",
       "1  0.379780 -0.172703     -0.345878  0.712092           0.487692  0.350767   \n",
       "2 -0.673896 -0.659601     -0.345878 -0.345735          -0.454986 -0.637863   \n",
       "3 -0.129497 -0.584693     -0.345878  0.465265          -0.122276 -0.127071   \n",
       "4 -0.164619 -0.210157     -0.345878  0.324222          -0.066824 -0.160025   \n",
       "\n",
       "        X11  \n",
       "0 -0.361218  \n",
       "1 -0.173193  \n",
       "2 -0.662060  \n",
       "3 -0.586849  \n",
       "4 -0.210798  "
      ]
     },
     "execution_count": 627,
     "metadata": {},
     "output_type": "execute_result"
    }
   ],
   "source": [
    "df9= df8[[\"ArrDelay\",'DepDelay', 'CarrierDelay', 'NASDelay' ,'LateAircraftDelay', 'X10', 'X11']]\n",
    "df9.head()"
   ]
  },
  {
   "cell_type": "markdown",
   "id": "1a8004d5",
   "metadata": {},
   "source": [
    "0.6 **Separación entre Train y Test**. "
   ]
  },
  {
   "cell_type": "code",
   "execution_count": 669,
   "id": "5773999c",
   "metadata": {
    "ExecuteTime": {
     "end_time": "2022-05-22T23:16:35.638351Z",
     "start_time": "2022-05-22T23:16:35.472691Z"
    }
   },
   "outputs": [],
   "source": [
    "X_= df9.drop([\"ArrDelay\"], axis=1)\n",
    "\n",
    "y_= df9[\"ArrDelay\"]\n",
    "\n",
    "X_train, X_test, y_train, y_test = train_test_split( X_, y_, test_size=0.30, random_state=42, shuffle=True)\n"
   ]
  },
  {
   "cell_type": "markdown",
   "id": "b26c3546",
   "metadata": {},
   "source": [
    "1.  **Modelos de regresión**\n",
    "\n",
    "Crea tres modelos de regresión para predecir ArrDelay "
   ]
  },
  {
   "cell_type": "code",
   "execution_count": 670,
   "id": "f3f184b9",
   "metadata": {
    "ExecuteTime": {
     "end_time": "2022-05-22T23:16:35.683672Z",
     "start_time": "2022-05-22T23:16:35.640863Z"
    }
   },
   "outputs": [],
   "source": [
    "#Creamos los 3 modelos\n",
    "lin = LinearRegression()\n",
    "rft=RandomForestRegressor(n_estimators=200, max_depth=10, random_state=42 )\n",
    "mpl= MLPRegressor(hidden_layer_sizes=(20,20,20), activation=\"logistic\", solver=\"sgd\",max_iter=300 )"
   ]
  },
  {
   "cell_type": "markdown",
   "id": "f3bf8413",
   "metadata": {},
   "source": [
    "- **Modelo de regresión lineal**"
   ]
  },
  {
   "cell_type": "code",
   "execution_count": 671,
   "id": "b26a66a7",
   "metadata": {
    "ExecuteTime": {
     "end_time": "2022-05-22T23:16:35.774046Z",
     "start_time": "2022-05-22T23:16:35.686133Z"
    }
   },
   "outputs": [
    {
     "name": "stdout",
     "output_type": "stream",
     "text": [
      "[-0.59192627 -0.04903688  1.98516398 ... -0.50185393  3.57299985\n",
      " -0.30672891]\n",
      "(116493,)\n"
     ]
    }
   ],
   "source": [
    "\n",
    "lin.fit(X_train, y_train)\n",
    "fx_lin= lin.predict(X_test)# la f(x0,....,xn)predicha\n",
    "\n",
    "print(fx_lin)# valores de fx predichos\n",
    "print(fx_lin.shape) #tamaño de la matriz"
   ]
  },
  {
   "cell_type": "code",
   "execution_count": 672,
   "id": "f5ae4a50",
   "metadata": {
    "ExecuteTime": {
     "end_time": "2022-05-22T23:16:35.800855Z",
     "start_time": "2022-05-22T23:16:35.774046Z"
    }
   },
   "outputs": [
    {
     "data": {
      "text/plain": [
       "0.964644479218502"
      ]
     },
     "execution_count": 672,
     "metadata": {},
     "output_type": "execute_result"
    }
   ],
   "source": [
    "r_lin = lin.score(X_test, y_test)\n",
    "r_lin # podemos ver que el ajuste de correlación es de valor alto"
   ]
  },
  {
   "cell_type": "code",
   "execution_count": 673,
   "id": "d6c09752",
   "metadata": {
    "ExecuteTime": {
     "end_time": "2022-05-22T23:16:35.811509Z",
     "start_time": "2022-05-22T23:16:35.800855Z"
    }
   },
   "outputs": [
    {
     "name": "stdout",
     "output_type": "stream",
     "text": [
      "punto de corte del eje y(x=0)  -0.00018945577678235374\n",
      "coeficientes de las variables x [ 0.55591402  0.19876481  0.23056239  0.19885476  0.22648193 -0.10485442]\n"
     ]
    }
   ],
   "source": [
    "# sea y = A1X1+A2X2+......+AnXn + b\n",
    "print('punto de corte del eje y(x=0) ', lin.intercept_) # marca el punto de intercepeción del eje y cuando x=0, b\n",
    "print( \"coeficientes de las variables x\", lin.coef_)# marca los coeficientes A1,...:AN de las variables indeondientes "
   ]
  },
  {
   "cell_type": "markdown",
   "id": "4bc52888",
   "metadata": {},
   "source": [
    "- **Modelo de bosque aleatorio** "
   ]
  },
  {
   "cell_type": "code",
   "execution_count": 674,
   "id": "44a61221",
   "metadata": {
    "ExecuteTime": {
     "end_time": "2022-05-22T23:18:38.807846Z",
     "start_time": "2022-05-22T23:16:35.816524Z"
    }
   },
   "outputs": [
    {
     "name": "stdout",
     "output_type": "stream",
     "text": [
      "[-0.53340595 -0.07681316  1.99541568 ... -0.58608974  5.60635104\n",
      " -0.35779334]\n"
     ]
    }
   ],
   "source": [
    "rft.fit(X_train, y_train)\n",
    "fx_rft= rft.predict(X_test)# la f(x0,....,xn)predicha\n",
    "print(fx_rft)# valores de fx predichos\n"
   ]
  },
  {
   "cell_type": "code",
   "execution_count": 675,
   "id": "6ac045e9",
   "metadata": {
    "ExecuteTime": {
     "end_time": "2022-05-22T23:18:42.104287Z",
     "start_time": "2022-05-22T23:18:38.830014Z"
    }
   },
   "outputs": [
    {
     "data": {
      "text/plain": [
       "0.9965161795634709"
      ]
     },
     "execution_count": 675,
     "metadata": {},
     "output_type": "execute_result"
    }
   ],
   "source": [
    "# miramos la correlación lienal\n",
    "r_rft = rft.score(X_test, y_test)\n",
    "r_rft"
   ]
  },
  {
   "cell_type": "code",
   "execution_count": 676,
   "id": "76dae559",
   "metadata": {
    "ExecuteTime": {
     "end_time": "2022-05-22T23:18:42.190882Z",
     "start_time": "2022-05-22T23:18:42.105916Z"
    }
   },
   "outputs": [
    {
     "name": "stdout",
     "output_type": "stream",
     "text": [
      "Feature: 0, Score: 0.03296 DepDelay\n",
      "Feature: 1, Score: 0.00138 CarrierDelay\n",
      "Feature: 2, Score: 0.00007 NASDelay\n",
      "Feature: 3, Score: 0.00023 LateAircraftDelay\n",
      "Feature: 4, Score: 0.93384 X10\n",
      "Feature: 5, Score: 0.03153 X11\n"
     ]
    }
   ],
   "source": [
    "# como no calcula coeficientes, ya que los cálculos los hace en función de la ganancia de información de cada arbol del conjunto\n",
    "# aleatorio, miramos la importancia de cada caracterísitca. \n",
    "importance = rft.feature_importances_\n",
    "variables_finales=['DepDelay', 'CarrierDelay', 'NASDelay' ,'LateAircraftDelay', 'X10', 'X11']\n",
    "for i,j in enumerate(importance):\n",
    "    print('Feature: %0d, Score: %.5f' % (i,j), variables_finales[i])"
   ]
  },
  {
   "cell_type": "markdown",
   "id": "b342224b",
   "metadata": {
    "ExecuteTime": {
     "end_time": "2022-05-22T19:36:02.204131Z",
     "start_time": "2022-05-22T19:36:02.173384Z"
    }
   },
   "source": [
    "- **Modelo de red neuronal perceptron multicapa**"
   ]
  },
  {
   "cell_type": "code",
   "execution_count": 677,
   "id": "2757a80e",
   "metadata": {
    "ExecuteTime": {
     "end_time": "2022-05-22T23:21:36.852864Z",
     "start_time": "2022-05-22T23:18:42.190882Z"
    }
   },
   "outputs": [
    {
     "name": "stdout",
     "output_type": "stream",
     "text": [
      "[-0.5509554  -0.07656328  1.95627453 ... -0.59199328  4.35712496\n",
      " -0.36216793]\n"
     ]
    }
   ],
   "source": [
    "mpl.fit(X_train, y_train)\n",
    "fx_mpl= mpl.predict(X_test)# la f(x0,....,xn)predicha\n",
    "\n",
    "print(fx_mpl)# valores de fx predichos\n"
   ]
  },
  {
   "cell_type": "code",
   "execution_count": 678,
   "id": "0d406fc9",
   "metadata": {
    "ExecuteTime": {
     "end_time": "2022-05-22T23:21:37.071996Z",
     "start_time": "2022-05-22T23:21:36.856380Z"
    }
   },
   "outputs": [
    {
     "data": {
      "text/plain": [
       "0.9928160022463813"
      ]
     },
     "execution_count": 678,
     "metadata": {},
     "output_type": "execute_result"
    }
   ],
   "source": [
    "# comprobamos el coeficiente de la regresión\n",
    "r_mpl= mpl.score(X_test, y_test)\n",
    "r_mpl"
   ]
  },
  {
   "cell_type": "markdown",
   "id": "14382081",
   "metadata": {},
   "source": [
    "2. **Comprueba el error en la métrica de MSE y R2**\n"
   ]
  },
  {
   "cell_type": "markdown",
   "id": "8771fd87",
   "metadata": {},
   "source": [
    "Podemos observar, que los coeficientes de correlación tienen muy buenos ajustes. \n",
    "\n"
   ]
  },
  {
   "cell_type": "code",
   "execution_count": 679,
   "id": "bda25a23",
   "metadata": {
    "ExecuteTime": {
     "end_time": "2022-05-22T23:21:37.088002Z",
     "start_time": "2022-05-22T23:21:37.071996Z"
    }
   },
   "outputs": [
    {
     "name": "stdout",
     "output_type": "stream",
     "text": [
      "correlación lineal para la regresión lineal  0.964644479218502\n"
     ]
    }
   ],
   "source": [
    "print( \"correlación lineal para la regresión lineal \", r_lin)\n"
   ]
  },
  {
   "cell_type": "code",
   "execution_count": 680,
   "id": "74731ebc",
   "metadata": {
    "ExecuteTime": {
     "end_time": "2022-05-22T23:21:37.112063Z",
     "start_time": "2022-05-22T23:21:37.088002Z"
    }
   },
   "outputs": [
    {
     "name": "stdout",
     "output_type": "stream",
     "text": [
      "correlación lineal para el bosque aleatorio  0.9965161795634709\n"
     ]
    }
   ],
   "source": [
    "print( \"correlación lineal para el bosque aleatorio \", r_rft)\n"
   ]
  },
  {
   "cell_type": "code",
   "execution_count": 681,
   "id": "1b93ec06",
   "metadata": {
    "ExecuteTime": {
     "end_time": "2022-05-22T23:21:37.123079Z",
     "start_time": "2022-05-22T23:21:37.112063Z"
    }
   },
   "outputs": [
    {
     "name": "stdout",
     "output_type": "stream",
     "text": [
      "correlación lineal para el perceptrón multicapa  0.9928160022463813\n"
     ]
    }
   ],
   "source": [
    "print( \"correlación lineal para el perceptrón multicapa \", r_mpl)"
   ]
  },
  {
   "cell_type": "markdown",
   "id": "9b052437",
   "metadata": {},
   "source": [
    "Ahora miramos el error cuadrático medio"
   ]
  },
  {
   "cell_type": "code",
   "execution_count": 703,
   "id": "217e7e56",
   "metadata": {
    "ExecuteTime": {
     "end_time": "2022-05-23T07:34:42.693817Z",
     "start_time": "2022-05-23T07:34:42.670027Z"
    }
   },
   "outputs": [
    {
     "name": "stdout",
     "output_type": "stream",
     "text": [
      "Error cuadrático medio de la regresión lineal : 0.035512607671719564\n"
     ]
    }
   ],
   "source": [
    "print('Error cuadrático medio de la regresión lineal :', mean_squared_error(y_test, fx_lin)) \n"
   ]
  },
  {
   "cell_type": "code",
   "execution_count": 704,
   "id": "da63b4b4",
   "metadata": {
    "ExecuteTime": {
     "end_time": "2022-05-23T07:34:51.163095Z",
     "start_time": "2022-05-23T07:34:51.144383Z"
    }
   },
   "outputs": [
    {
     "name": "stdout",
     "output_type": "stream",
     "text": [
      "Error cuadrático medio del bosque aleatorio: 0.003499299278485463\n"
     ]
    }
   ],
   "source": [
    "print('Error cuadrático medio del bosque aleatorio:', mean_squared_error(y_test, fx_rft)) \n"
   ]
  },
  {
   "cell_type": "code",
   "execution_count": 705,
   "id": "d5c2bae5",
   "metadata": {
    "ExecuteTime": {
     "end_time": "2022-05-23T07:35:00.064360Z",
     "start_time": "2022-05-23T07:35:00.048542Z"
    }
   },
   "outputs": [
    {
     "name": "stdout",
     "output_type": "stream",
     "text": [
      "Error cuadrático medio de la red enurona: 0.007215916725296389\n"
     ]
    }
   ],
   "source": [
    "print('Error cuadrático medio de la red enurona:', mean_squared_error(y_test, fx_mpl))"
   ]
  },
  {
   "cell_type": "markdown",
   "id": "28ce9497",
   "metadata": {},
   "source": [
    "Contando que las variables están estandarizadas, y la media tiende a cero, y el error cuadrático medio reduce las \n",
    "discrepancias menores a uno, el que mejor rendimiento saca es el Bosque Aleatorio"
   ]
  },
  {
   "cell_type": "markdown",
   "id": "68f7359b",
   "metadata": {
    "ExecuteTime": {
     "end_time": "2022-05-22T23:21:37.187042Z",
     "start_time": "2022-05-22T23:21:37.176439Z"
    }
   },
   "source": [
    "- **Ejercicio 3** :Modificar el modelo para ver el resultado. \n",
    "\n",
    "Vamos a modificar ciertos parámetros del modelo para ver cómo responden"
   ]
  },
  {
   "cell_type": "markdown",
   "id": "e2247acb",
   "metadata": {},
   "source": [
    "------------------------------------------------------------------------------------"
   ]
  },
  {
   "cell_type": "markdown",
   "id": "a5e774db",
   "metadata": {},
   "source": [
    ".  **Regresión lineal** "
   ]
  },
  {
   "cell_type": "markdown",
   "id": "a600abe7",
   "metadata": {
    "ExecuteTime": {
     "end_time": "2022-05-23T07:39:23.272349Z",
     "start_time": "2022-05-23T07:39:23.250524Z"
    }
   },
   "source": [
    "Modificamos el témino constante "
   ]
  },
  {
   "cell_type": "code",
   "execution_count": 686,
   "id": "0896f7b4",
   "metadata": {
    "ExecuteTime": {
     "end_time": "2022-05-23T07:21:21.409988Z",
     "start_time": "2022-05-23T07:21:21.394319Z"
    }
   },
   "outputs": [],
   "source": [
    "#Empecemos modificando, quitando el término constante de la ecuación\n",
    "lin2 = LinearRegression(fit_intercept= False  )"
   ]
  },
  {
   "cell_type": "code",
   "execution_count": 687,
   "id": "cefb899d",
   "metadata": {
    "ExecuteTime": {
     "end_time": "2022-05-23T07:21:21.471235Z",
     "start_time": "2022-05-23T07:21:21.409988Z"
    }
   },
   "outputs": [],
   "source": [
    "lin2.fit(X_train, y_train)\n",
    "fx_lin2= lin2.predict(X_test)\n"
   ]
  },
  {
   "cell_type": "code",
   "execution_count": 701,
   "id": "da69d0a7",
   "metadata": {
    "ExecuteTime": {
     "end_time": "2022-05-23T07:29:08.276097Z",
     "start_time": "2022-05-23T07:29:08.243731Z"
    }
   },
   "outputs": [
    {
     "name": "stdout",
     "output_type": "stream",
     "text": [
      "coeficiente sin término constante 0.9646446789354357\n",
      "coeficiente con término constante  0.964644479218502\n",
      "diferencia de ajuste  =  -1.9971693365761212e-07\n",
      "la regresión sin término constante tiene mejor ajuste \n"
     ]
    }
   ],
   "source": [
    "r_lin2 = lin2.score(X_test, y_test)\n",
    "print(\"coeficiente sin término constante\", r_lin2)\n",
    "print(\"coeficiente con término constante \", r_lin) \n",
    "print(\"diferencia de ajuste  = \", (r_lin-r_lin2))\n",
    "if r_lin< r_lin2: \n",
    "    print ( \"la regresión sin término constante tiene mejor ajuste \")\n",
    "else: \n",
    "    print ( \"la regresión con término constante tiene mejor ajuste \")\n",
    "    "
   ]
  },
  {
   "cell_type": "code",
   "execution_count": 707,
   "id": "4d7968d1",
   "metadata": {
    "ExecuteTime": {
     "end_time": "2022-05-23T07:35:49.370661Z",
     "start_time": "2022-05-23T07:35:49.342819Z"
    }
   },
   "outputs": [
    {
     "name": "stdout",
     "output_type": "stream",
     "text": [
      "coeficientes de las variables x sin término constante  [ 0.55591417  0.19876508  0.23056243  0.19885478  0.22648168 -0.10485452]\n",
      "coeficientes de las variables x con término constante  [ 0.55591402  0.19876481  0.23056239  0.19885476  0.22648193 -0.10485442]\n"
     ]
    }
   ],
   "source": [
    "print( \"coeficientes de las variables x sin término constante \", lin2.coef_)\n",
    "print( \"coeficientes de las variables x con término constante \", lin.coef_)\n"
   ]
  },
  {
   "cell_type": "code",
   "execution_count": 759,
   "id": "4c09c3a6",
   "metadata": {
    "ExecuteTime": {
     "end_time": "2022-05-23T10:24:35.291998Z",
     "start_time": "2022-05-23T10:24:35.273633Z"
    }
   },
   "outputs": [
    {
     "name": "stdout",
     "output_type": "stream",
     "text": [
      "Error cuadrático medio de la regresión lineal sin término constante: 0.03551240706743044\n",
      "Error cuadrático medio de la regresión lineal con término constante: 0.035512607671719564\n",
      "la regresión sin término constante tiene menor error de ajuste \n"
     ]
    }
   ],
   "source": [
    "print('Error cuadrático medio de la regresión lineal sin término constante:', mean_squared_error(y_test, fx_lin2))\n",
    "print('Error cuadrático medio de la regresión lineal con término constante:', mean_squared_error(y_test, fx_lin))\n",
    "if  mean_squared_error(y_test, fx_lin)<  mean_squared_error(y_test, fx_lin2): \n",
    "    print ( \"la regresión con término constante tiene menor error de ajuste \")\n",
    "else: \n",
    "    print ( \"la regresión sin término constante tiene menor error de ajuste \")\n",
    "    "
   ]
  },
  {
   "cell_type": "markdown",
   "id": "0c4c06c8",
   "metadata": {
    "ExecuteTime": {
     "end_time": "2022-05-23T07:36:08.751842Z",
     "start_time": "2022-05-23T07:36:08.739706Z"
    }
   },
   "source": [
    "Tenemos unas discrepancias mínimas, podemos ver que el ajuste sin término constante tiene mejor ajuste con el coeficiente de \n",
    "correlación, sin embargo su error es menor en el término constante "
   ]
  },
  {
   "cell_type": "markdown",
   "id": "80d72cf6",
   "metadata": {},
   "source": [
    ". **Bosque Aleatorio.** "
   ]
  },
  {
   "cell_type": "markdown",
   "id": "d5af9fd2",
   "metadata": {},
   "source": [
    "Empecemos modificando el número de árboles a la mitad"
   ]
  },
  {
   "cell_type": "code",
   "execution_count": 714,
   "id": "813d580c",
   "metadata": {
    "ExecuteTime": {
     "end_time": "2022-05-23T07:54:25.995480Z",
     "start_time": "2022-05-23T07:54:25.986724Z"
    }
   },
   "outputs": [],
   "source": [
    "rft2=RandomForestRegressor( n_estimators=100, max_depth=10, random_state=42 )"
   ]
  },
  {
   "cell_type": "code",
   "execution_count": 715,
   "id": "6bb17ce4",
   "metadata": {
    "ExecuteTime": {
     "end_time": "2022-05-23T07:55:38.363906Z",
     "start_time": "2022-05-23T07:54:32.667760Z"
    }
   },
   "outputs": [],
   "source": [
    "rft2.fit(X_train, y_train)\n",
    "fx_rft2= rft2.predict(X_test)"
   ]
  },
  {
   "cell_type": "code",
   "execution_count": 722,
   "id": "0a919677",
   "metadata": {
    "ExecuteTime": {
     "end_time": "2022-05-23T08:05:45.000828Z",
     "start_time": "2022-05-23T08:05:43.242764Z"
    }
   },
   "outputs": [
    {
     "name": "stdout",
     "output_type": "stream",
     "text": [
      "r del bosque  con 100 árboles   0.996598028759104\n",
      "r del bosque  con 200 árboles   0.9965161795634709\n"
     ]
    }
   ],
   "source": [
    "r_rft2 = rft2.score(X_test, y_test)\n",
    "print(\"r del bosque  con 100 árboles  \", r_rft2)\n",
    "print(\"r del bosque  con 200 árboles  \", r_rft) "
   ]
  },
  {
   "cell_type": "code",
   "execution_count": 723,
   "id": "9d6b8a3b",
   "metadata": {
    "ExecuteTime": {
     "end_time": "2022-05-23T08:05:59.005568Z",
     "start_time": "2022-05-23T08:05:58.987716Z"
    }
   },
   "outputs": [
    {
     "name": "stdout",
     "output_type": "stream",
     "text": [
      "bosque  con 100 árboles, tiene mejor ajuste\n"
     ]
    }
   ],
   "source": [
    "if r_rft< r_rft2: \n",
    "    print ( \"bosque  con 100 árboles, tiene mejor ajuste\")\n",
    "else: \n",
    "    print ( \"bosque  con 200 árboles , tiene mejor ajuste \")"
   ]
  },
  {
   "cell_type": "code",
   "execution_count": 760,
   "id": "62bb428c",
   "metadata": {
    "ExecuteTime": {
     "end_time": "2022-05-23T10:25:55.154154Z",
     "start_time": "2022-05-23T10:25:55.128698Z"
    }
   },
   "outputs": [
    {
     "name": "stdout",
     "output_type": "stream",
     "text": [
      "Error cuadrático medio de la regresión lineal con 100 árboles: 0.0034170864215253114\n",
      "Error cuadrático medio de la regresión lineal con 200 árboles: 0.003499299278485463\n",
      "la regresión con 100 árboles tiene menor error de ajuste \n"
     ]
    }
   ],
   "source": [
    "print('Error cuadrático medio de la regresión lineal con 100 árboles:', mean_squared_error(y_test, fx_rft2))\n",
    "print('Error cuadrático medio de la regresión lineal con 200 árboles:', mean_squared_error(y_test, fx_rft))\n",
    "if  mean_squared_error(y_test, fx_rft)<  mean_squared_error(y_test, fx_rft2): \n",
    "    print ( \"la regresión con 200 árboles tiene menor error de ajuste \")\n",
    "else: \n",
    "    print ( \"la regresión con 100 árboles tiene menor error de ajuste \")"
   ]
  },
  {
   "cell_type": "markdown",
   "id": "aa4edcb0",
   "metadata": {},
   "source": [
    "modificamos el máximo de la profundidad de las capas a la mitad"
   ]
  },
  {
   "cell_type": "code",
   "execution_count": 719,
   "id": "c7295e33",
   "metadata": {
    "ExecuteTime": {
     "end_time": "2022-05-23T08:03:33.994760Z",
     "start_time": "2022-05-23T08:03:33.984789Z"
    }
   },
   "outputs": [],
   "source": [
    "rft3=RandomForestRegressor( n_estimators=200, max_depth=5, random_state=42 )"
   ]
  },
  {
   "cell_type": "code",
   "execution_count": 720,
   "id": "4376bde2",
   "metadata": {
    "ExecuteTime": {
     "end_time": "2022-05-23T08:05:02.549463Z",
     "start_time": "2022-05-23T08:03:37.613829Z"
    }
   },
   "outputs": [],
   "source": [
    "rft3.fit(X_train, y_train)\n",
    "fx_rft3= rft3.predict(X_test)"
   ]
  },
  {
   "cell_type": "code",
   "execution_count": 725,
   "id": "9d201b0a",
   "metadata": {
    "ExecuteTime": {
     "end_time": "2022-05-23T08:07:07.754085Z",
     "start_time": "2022-05-23T08:07:06.099573Z"
    }
   },
   "outputs": [
    {
     "name": "stdout",
     "output_type": "stream",
     "text": [
      "r del bosque  con 5 capas    0.9901808887316629\n",
      "r del bosque  con 10 capas    0.9965161795634709\n"
     ]
    }
   ],
   "source": [
    "r_rft3 = rft3.score(X_test, y_test)\n",
    "print(\"r del bosque  con 5 capas   \", r_rft3)\n",
    "print(\"r del bosque  con 10 capas   \", r_rft) "
   ]
  },
  {
   "cell_type": "code",
   "execution_count": 726,
   "id": "d8a8d453",
   "metadata": {
    "ExecuteTime": {
     "end_time": "2022-05-23T08:07:20.408537Z",
     "start_time": "2022-05-23T08:07:20.384074Z"
    }
   },
   "outputs": [
    {
     "name": "stdout",
     "output_type": "stream",
     "text": [
      "bosque con 10 capas , tiene mejor ajuste \n"
     ]
    }
   ],
   "source": [
    "if r_rft< r_rft3: \n",
    "    print ( \"bosque  con 5 capas, tiene mejor ajuste\")\n",
    "else: \n",
    "    print ( \"bosque con 10 capas , tiene mejor ajuste \")"
   ]
  },
  {
   "cell_type": "code",
   "execution_count": 761,
   "id": "58e2735c",
   "metadata": {
    "ExecuteTime": {
     "end_time": "2022-05-23T10:26:32.470925Z",
     "start_time": "2022-05-23T10:26:32.457783Z"
    }
   },
   "outputs": [
    {
     "name": "stdout",
     "output_type": "stream",
     "text": [
      "Error cuadrático medio de la regresión lineal con 5 capas: 0.009862738221632897\n",
      "Error cuadrático medio de la regresión lineal con 10 capas: 0.003499299278485463\n",
      "la regresión con 10 capas tiene menor error de ajuste \n"
     ]
    }
   ],
   "source": [
    "print('Error cuadrático medio de la regresión lineal con 5 capas:', mean_squared_error(y_test, fx_rft3))\n",
    "print('Error cuadrático medio de la regresión lineal con 10 capas:', mean_squared_error(y_test, fx_rft))\n",
    "if  mean_squared_error(y_test, fx_rft)<  mean_squared_error(y_test, fx_rft3): \n",
    "    print ( \"la regresión con 10 capas tiene menor error de ajuste \")\n",
    "else: \n",
    "    print ( \"la regresión con  5 capas tiene menor error de ajuste \")"
   ]
  },
  {
   "cell_type": "markdown",
   "id": "0aca3f42",
   "metadata": {},
   "source": [
    "- **Red Neuronal**"
   ]
  },
  {
   "cell_type": "markdown",
   "id": "60bfd489",
   "metadata": {},
   "source": [
    "Vamos a modificar el número de capas, la tasa de aprendizaje, la función de activación, el método de cálculo del gradiente, "
   ]
  },
  {
   "cell_type": "code",
   "execution_count": 728,
   "id": "0efc7d54",
   "metadata": {
    "ExecuteTime": {
     "end_time": "2022-05-23T08:19:49.502302Z",
     "start_time": "2022-05-23T08:19:49.470499Z"
    }
   },
   "outputs": [],
   "source": [
    "mpl1= MLPRegressor(hidden_layer_sizes=(20,20), activation=\"logistic\", solver=\"sgd\",max_iter=300 )# número de capas\n",
    "mpl2= MLPRegressor(hidden_layer_sizes=(20,20,20), activation=\"relu\", solver=\"sgd\",max_iter=300 )# la función de activación\n",
    "mpl3= MLPRegressor(hidden_layer_sizes=(20,20,20), activation=\"logistic\", solver=\"sgd\",max_iter=300, learning_rate_init=0.01, \n",
    "                  learning_rate= \"invscaling\")# modificando la tasa de aprendizaje  \n",
    "mpl4= MLPRegressor(hidden_layer_sizes=(20,20,20), activation=\"logistic\", solver=\"adam\",max_iter=300 )# solventamos por Adam"
   ]
  },
  {
   "cell_type": "markdown",
   "id": "85e6141e",
   "metadata": {},
   "source": [
    "En MPL1 hemos quitado una capa "
   ]
  },
  {
   "cell_type": "code",
   "execution_count": 729,
   "id": "98bc521f",
   "metadata": {
    "ExecuteTime": {
     "end_time": "2022-05-23T08:23:48.466845Z",
     "start_time": "2022-05-23T08:21:56.968706Z"
    }
   },
   "outputs": [
    {
     "data": {
      "text/plain": [
       "MLPRegressor(activation='logistic', hidden_layer_sizes=(20, 20), max_iter=300,\n",
       "             solver='sgd')"
      ]
     },
     "execution_count": 729,
     "metadata": {},
     "output_type": "execute_result"
    }
   ],
   "source": [
    "mpl1.fit(X_train, y_train)#Entrenamos los modelos"
   ]
  },
  {
   "cell_type": "markdown",
   "id": "5e25f492",
   "metadata": {},
   "source": [
    "En MPL2 hemos cambiado la función de activación tipo RELU, tal que si x<0 Relu=0 , si x>=0, Relu=x"
   ]
  },
  {
   "cell_type": "code",
   "execution_count": 730,
   "id": "f7dd32ac",
   "metadata": {
    "ExecuteTime": {
     "end_time": "2022-05-23T08:24:22.312806Z",
     "start_time": "2022-05-23T08:23:55.791426Z"
    }
   },
   "outputs": [
    {
     "data": {
      "text/plain": [
       "MLPRegressor(hidden_layer_sizes=(20, 20, 20), max_iter=300, solver='sgd')"
      ]
     },
     "execution_count": 730,
     "metadata": {},
     "output_type": "execute_result"
    }
   ],
   "source": [
    "mpl2.fit(X_train, y_train)"
   ]
  },
  {
   "cell_type": "markdown",
   "id": "550340e1",
   "metadata": {},
   "source": [
    "En MPL 3 hemos modificado hemos modificado la tasa de aprendizaje de 0.001 a 0.01, y en vez de ser constante será decreciente. "
   ]
  },
  {
   "cell_type": "code",
   "execution_count": 731,
   "id": "17647fcf",
   "metadata": {
    "ExecuteTime": {
     "end_time": "2022-05-23T08:32:53.743793Z",
     "start_time": "2022-05-23T08:32:35.133635Z"
    }
   },
   "outputs": [
    {
     "data": {
      "text/plain": [
       "MLPRegressor(activation='logistic', hidden_layer_sizes=(20, 20, 20),\n",
       "             learning_rate='invscaling', learning_rate_init=0.01, max_iter=300,\n",
       "             solver='sgd')"
      ]
     },
     "execution_count": 731,
     "metadata": {},
     "output_type": "execute_result"
    }
   ],
   "source": [
    "mpl3.fit(X_train, y_train)"
   ]
  },
  {
   "cell_type": "markdown",
   "id": "b1cdacbf",
   "metadata": {},
   "source": [
    "En mpl4 hemos cambiado la manera de solventart el cálculo de pesos, pasando de una solución por gradiente a una por gradiente \n",
    "en que la tasa de aprendizaje es adaptativa(ADAM)"
   ]
  },
  {
   "cell_type": "code",
   "execution_count": 732,
   "id": "67950f38",
   "metadata": {
    "ExecuteTime": {
     "end_time": "2022-05-23T08:37:56.781420Z",
     "start_time": "2022-05-23T08:37:06.908030Z"
    }
   },
   "outputs": [
    {
     "data": {
      "text/plain": [
       "MLPRegressor(activation='logistic', hidden_layer_sizes=(20, 20, 20),\n",
       "             max_iter=300)"
      ]
     },
     "execution_count": 732,
     "metadata": {},
     "output_type": "execute_result"
    }
   ],
   "source": [
    "mpl4.fit(X_train, y_train)"
   ]
  },
  {
   "cell_type": "markdown",
   "id": "a7488db6",
   "metadata": {},
   "source": [
    "**Red con dos capas en vez de tres**"
   ]
  },
  {
   "cell_type": "code",
   "execution_count": 736,
   "id": "b3b6ae25",
   "metadata": {
    "ExecuteTime": {
     "end_time": "2022-05-23T08:45:56.352172Z",
     "start_time": "2022-05-23T08:45:56.240683Z"
    }
   },
   "outputs": [],
   "source": [
    "# Analizamos la red con una capa menos \n",
    "fx_mpl1= mpl1.predict(X_test)"
   ]
  },
  {
   "cell_type": "code",
   "execution_count": 737,
   "id": "11f17940",
   "metadata": {
    "ExecuteTime": {
     "end_time": "2022-05-23T08:46:25.976979Z",
     "start_time": "2022-05-23T08:46:25.859822Z"
    }
   },
   "outputs": [
    {
     "name": "stdout",
     "output_type": "stream",
     "text": [
      "r de red con dos capas   0.9916448739439979\n",
      "r de red  con 3 capas    0.9928160022463813\n",
      "red con tres capas ocultas tiene mejor ajuste\n"
     ]
    }
   ],
   "source": [
    "r_mpl1 = mpl1.score(X_test, y_test)\n",
    "print(\"r de red con dos capas  \", r_mpl1)\n",
    "print(\"r de red  con 3 capas   \", r_mpl)\n",
    "if r_mpl< r_mpl1: \n",
    "     print ( \"red con dos capas ocultas tiene mejor ajuste\")\n",
    "else: \n",
    "    print ( \"red con tres capas ocultas tiene mejor ajuste\")\n",
    " "
   ]
  },
  {
   "cell_type": "code",
   "execution_count": 762,
   "id": "561ed4fd",
   "metadata": {
    "ExecuteTime": {
     "end_time": "2022-05-23T10:27:13.131810Z",
     "start_time": "2022-05-23T10:27:13.109831Z"
    }
   },
   "outputs": [
    {
     "name": "stdout",
     "output_type": "stream",
     "text": [
      "Error cuadrático medio de la regresión lineal con 2 capas: 0.008392248427290557\n",
      "Error cuadrático medio de la regresión lineal con 3 capas: 0.007215916725296389\n",
      "la regresión con 3 capas tiene menor error de ajuste \n"
     ]
    }
   ],
   "source": [
    "print('Error cuadrático medio de la regresión lineal con 2 capas:', mean_squared_error(y_test, fx_mpl1))\n",
    "print('Error cuadrático medio de la regresión lineal con 3 capas:', mean_squared_error(y_test, fx_mpl))\n",
    "if  mean_squared_error(y_test, fx_mpl)<  mean_squared_error(y_test, fx_mpl1): \n",
    "    print ( \"la regresión con 3 capas tiene menor error de ajuste \")\n",
    "else: \n",
    "    print ( \"la regresión con  2 capas tiene menor error de ajuste \")"
   ]
  },
  {
   "cell_type": "markdown",
   "id": "2a17f6d3",
   "metadata": {},
   "source": [
    "Podemos ver que la red de 3 capas  tiene un mejor ajuste y menor error"
   ]
  },
  {
   "cell_type": "markdown",
   "id": "2df4e657",
   "metadata": {},
   "source": [
    "---------------------------------------------"
   ]
  },
  {
   "cell_type": "markdown",
   "id": "81a4bc09",
   "metadata": {},
   "source": [
    "- **Red con función de activación RELU**"
   ]
  },
  {
   "cell_type": "code",
   "execution_count": 739,
   "id": "a0bf4d72",
   "metadata": {
    "ExecuteTime": {
     "end_time": "2022-05-23T08:48:35.593692Z",
     "start_time": "2022-05-23T08:48:35.467141Z"
    }
   },
   "outputs": [],
   "source": [
    "fx_mpl2= mpl2.predict(X_test)"
   ]
  },
  {
   "cell_type": "code",
   "execution_count": 741,
   "id": "63bf02d0",
   "metadata": {
    "ExecuteTime": {
     "end_time": "2022-05-23T08:51:00.854876Z",
     "start_time": "2022-05-23T08:51:00.737952Z"
    }
   },
   "outputs": [
    {
     "name": "stdout",
     "output_type": "stream",
     "text": [
      "r de red con función de activación RELU   0.9963226937540764\n",
      "r de red  con función de activación logística   0.9928160022463813\n",
      "red con función de activación RELU tiene mejor ajuste\n"
     ]
    }
   ],
   "source": [
    "r_mpl2 = mpl2.score(X_test, y_test)\n",
    "print(\"r de red con función de activación RELU  \", r_mpl2)\n",
    "print(\"r de red  con función de activación logística  \", r_mpl)\n",
    "if r_mpl< r_mpl2: \n",
    "     print ( \"red con función de activación RELU tiene mejor ajuste\")\n",
    "else: \n",
    "    print ( \"red con función de activación logística tiene mejor ajuste\")\n",
    " "
   ]
  },
  {
   "cell_type": "code",
   "execution_count": 763,
   "id": "cc77fea4",
   "metadata": {
    "ExecuteTime": {
     "end_time": "2022-05-23T10:27:35.506065Z",
     "start_time": "2022-05-23T10:27:35.492046Z"
    }
   },
   "outputs": [
    {
     "name": "stdout",
     "output_type": "stream",
     "text": [
      "Error cuadrático medio de la regresión lineal con función de activación Relu: 0.0036936447579804348\n",
      "Error cuadrático medio de la regresión lineal con función de activación logísitca: 0.007215916725296389\n",
      "la regresión con  función de activación Relu: tiene menor error de ajuste \n"
     ]
    }
   ],
   "source": [
    "print('Error cuadrático medio de la regresión lineal con función de activación Relu:', mean_squared_error(y_test, fx_mpl2))\n",
    "print('Error cuadrático medio de la regresión lineal con función de activación logísitca:', mean_squared_error(y_test, fx_mpl))\n",
    "if  mean_squared_error(y_test, fx_mpl)<  mean_squared_error(y_test, fx_mpl2): \n",
    "    print ( \"la regresión con función de activación logísitca tiene menor error de ajuste \")\n",
    "else: \n",
    "    print ( \"la regresión con  función de activación Relu: tiene menor error de ajuste \")"
   ]
  },
  {
   "cell_type": "markdown",
   "id": "fe123ef6",
   "metadata": {},
   "source": [
    "- **red con tasa de aprendizaje descendiente** "
   ]
  },
  {
   "cell_type": "code",
   "execution_count": 743,
   "id": "87d6d981",
   "metadata": {
    "ExecuteTime": {
     "end_time": "2022-05-23T08:55:01.158249Z",
     "start_time": "2022-05-23T08:55:00.985721Z"
    }
   },
   "outputs": [],
   "source": [
    "fx_mpl3= mpl3.predict(X_test)"
   ]
  },
  {
   "cell_type": "code",
   "execution_count": 749,
   "id": "78083a06",
   "metadata": {
    "ExecuteTime": {
     "end_time": "2022-05-23T09:03:13.492432Z",
     "start_time": "2022-05-23T09:03:13.339350Z"
    }
   },
   "outputs": [
    {
     "name": "stdout",
     "output_type": "stream",
     "text": [
      "r de red con tasa de aprendizaje descendiente   0.8878419394687965\n",
      "r de red  con tasa de aprendizaje constante   0.9928160022463813\n",
      "red con tasa de aprendizaje constante tiene mejor ajuste\n"
     ]
    }
   ],
   "source": [
    "r_mpl3 = mpl3.score(X_test, y_test)\n",
    "print(\"r de red con tasa de aprendizaje descendiente  \", r_mpl3)\n",
    "print(\"r de red  con tasa de aprendizaje constante  \", r_mpl)\n",
    "if r_mpl< r_mpl3: \n",
    "     print ( \"red con tasa de aprendizaje descendiente tiene mejor ajuste\")\n",
    "else: \n",
    "    print ( \"red con tasa de aprendizaje constante tiene mejor ajuste\")\n",
    " "
   ]
  },
  {
   "cell_type": "code",
   "execution_count": 764,
   "id": "91ef1325",
   "metadata": {
    "ExecuteTime": {
     "end_time": "2022-05-23T10:28:01.611948Z",
     "start_time": "2022-05-23T10:28:01.596438Z"
    }
   },
   "outputs": [
    {
     "name": "stdout",
     "output_type": "stream",
     "text": [
      "Error cuadrático medio de la regresión lineal con tasa de aprendizaje descendiente: 0.11265638612654726\n",
      "Error cuadrático medio de la regresión lineal con tasa de aprendizaje constante : 0.007215916725296389\n",
      "la regresión con tasa de aprendizaje constante tiene menor error de ajuste \n"
     ]
    }
   ],
   "source": [
    "print('Error cuadrático medio de la regresión lineal con tasa de aprendizaje descendiente:', mean_squared_error(y_test, fx_mpl3))\n",
    "print('Error cuadrático medio de la regresión lineal con tasa de aprendizaje constante :', mean_squared_error(y_test, fx_mpl))\n",
    "if  mean_squared_error(y_test, fx_mpl)<  mean_squared_error(y_test, fx_mpl3): \n",
    "    print ( \"la regresión con tasa de aprendizaje constante tiene menor error de ajuste \")\n",
    "else: \n",
    "    print ( \"la regresión con  tasa de aprendizaje descendiente tiene menor error de ajuste \")"
   ]
  },
  {
   "cell_type": "markdown",
   "id": "2795547f",
   "metadata": {},
   "source": [
    "Con estos dos cambios, pasar de la tasa de aprendizaje a 0.01 y hacerla descendiente, hemos perdido calidad en el ajuste y en el \n",
    "error"
   ]
  },
  {
   "cell_type": "markdown",
   "id": "eaaf1d29",
   "metadata": {},
   "source": [
    "- **Red que calcula los pesos con el método de adam**"
   ]
  },
  {
   "cell_type": "code",
   "execution_count": 748,
   "id": "f2a53635",
   "metadata": {
    "ExecuteTime": {
     "end_time": "2022-05-23T09:01:40.052582Z",
     "start_time": "2022-05-23T09:01:39.897867Z"
    }
   },
   "outputs": [],
   "source": [
    "fx_mpl4= mpl4.predict(X_test)"
   ]
  },
  {
   "cell_type": "code",
   "execution_count": 752,
   "id": "6f4481fc",
   "metadata": {
    "ExecuteTime": {
     "end_time": "2022-05-23T09:05:41.208457Z",
     "start_time": "2022-05-23T09:05:41.055665Z"
    }
   },
   "outputs": [
    {
     "name": "stdout",
     "output_type": "stream",
     "text": [
      "r de red con método de ADAM   0.9996679225921206\n",
      "r de red  con método de SGD   0.9928160022463813\n",
      "red con método de ADAM tiene mejor ajuste\n"
     ]
    }
   ],
   "source": [
    "r_mpl4 = mpl4.score(X_test, y_test)\n",
    "print(\"r de red con método de ADAM  \", r_mpl4)\n",
    "print(\"r de red  con método de SGD  \", r_mpl)\n",
    "if r_mpl< r_mpl4: \n",
    "     print ( \"red con método de ADAM tiene mejor ajuste\")\n",
    "else: \n",
    "    print ( \"red con método de SGD tiene mejor ajuste\")\n",
    " "
   ]
  },
  {
   "cell_type": "code",
   "execution_count": 765,
   "id": "1c7a0d0f",
   "metadata": {
    "ExecuteTime": {
     "end_time": "2022-05-23T10:28:18.952491Z",
     "start_time": "2022-05-23T10:28:18.932491Z"
    }
   },
   "outputs": [
    {
     "name": "stdout",
     "output_type": "stream",
     "text": [
      "Error cuadrático medio de la regresión lineal con método de ADAM: 0.00033355284951244615\n",
      "Error cuadrático medio de la regresión lineal con método de SGD : 0.007215916725296389\n",
      "la regresión con método de ADAM tiene menor error de ajuste \n"
     ]
    }
   ],
   "source": [
    "print('Error cuadrático medio de la regresión lineal con método de ADAM:', mean_squared_error(y_test, fx_mpl4))\n",
    "print('Error cuadrático medio de la regresión lineal con método de SGD :', mean_squared_error(y_test, fx_mpl))\n",
    "if  mean_squared_error(y_test, fx_mpl)<  mean_squared_error(y_test, fx_mpl4): \n",
    "    print ( \"la regresión  con método de SGD tiene menor error de ajuste \")\n",
    "else: \n",
    "    print ( \"la regresión con método de ADAM tiene menor error de ajuste \")"
   ]
  },
  {
   "cell_type": "markdown",
   "id": "eab0691f",
   "metadata": {},
   "source": [
    "------------------------------------------------------------------------"
   ]
  },
  {
   "cell_type": "markdown",
   "id": "d7b36b3a",
   "metadata": {},
   "source": [
    "- **Ejercicio 4.**  Validación Interna. \n",
    "\n",
    "Vamos a ha hacer las mismas pruebas pero sin hacer entrenamiento "
   ]
  },
  {
   "cell_type": "code",
   "execution_count": 753,
   "id": "cb535283",
   "metadata": {
    "ExecuteTime": {
     "end_time": "2022-05-23T10:07:53.165931Z",
     "start_time": "2022-05-23T10:07:53.152930Z"
    }
   },
   "outputs": [],
   "source": [
    "linvi = LinearRegression()\n",
    "rftvi=RandomForestRegressor(n_estimators=200, max_depth=10, random_state=42 )\n",
    "mplvi= MLPRegressor(hidden_layer_sizes=(20,20,20), activation=\"logistic\", solver=\"sgd\",max_iter=300 )"
   ]
  },
  {
   "cell_type": "markdown",
   "id": "608ca43c",
   "metadata": {},
   "source": [
    "- **Regresión lineal** "
   ]
  },
  {
   "cell_type": "code",
   "execution_count": 754,
   "id": "4fae1b65",
   "metadata": {
    "ExecuteTime": {
     "end_time": "2022-05-23T10:18:05.658072Z",
     "start_time": "2022-05-23T10:18:05.546223Z"
    }
   },
   "outputs": [],
   "source": [
    "linvi.fit(X_, y_)\n",
    "fx_linvi= linvi.predict(X_)\n"
   ]
  },
  {
   "cell_type": "code",
   "execution_count": 816,
   "id": "482a04c0",
   "metadata": {
    "ExecuteTime": {
     "end_time": "2022-05-23T17:17:04.618259Z",
     "start_time": "2022-05-23T17:17:04.546419Z"
    }
   },
   "outputs": [
    {
     "name": "stdout",
     "output_type": "stream",
     "text": [
      "r de regresión lineal sin entrenamiento   0.9637383551427225\n",
      "r de regresión lineal con entrenamiento  0.964644479218502\n",
      "regresion con entrenamiento tiene mejor ajuste\n"
     ]
    }
   ],
   "source": [
    "r_linvi = linvi.score(X_, y_)\n",
    "print(\"r de regresión lineal sin entrenamiento  \", r_linvi)\n",
    "print(\"r de regresión lineal con entrenamiento \", r_lin)\n",
    "if r_lin< r_linvi: \n",
    "     print ( \"regresion sin entrenamiento tiene  mejor ajuste\")\n",
    "else: \n",
    "    print ( \"regresion con entrenamiento tiene mejor ajuste\")"
   ]
  },
  {
   "cell_type": "code",
   "execution_count": 766,
   "id": "51969556",
   "metadata": {
    "ExecuteTime": {
     "end_time": "2022-05-23T10:28:32.015060Z",
     "start_time": "2022-05-23T10:28:31.985234Z"
    }
   },
   "outputs": [
    {
     "name": "stdout",
     "output_type": "stream",
     "text": [
      "Error cuadrático medio de la regresión lineal sin entrenamiento : 0.036261644857277515\n",
      "Error cuadrático medio de la regresión lineal con entrenamiento : 0.035512607671719564\n",
      "la regresión  con entrenamiento tiene menor error de ajuste \n"
     ]
    }
   ],
   "source": [
    "print('Error cuadrático medio de la regresión lineal sin entrenamiento :', mean_squared_error(y_, fx_linvi))\n",
    "print('Error cuadrático medio de la regresión lineal con entrenamiento :', mean_squared_error(y_test, fx_lin))\n",
    "if  mean_squared_error(y_test, fx_lin)<  mean_squared_error(y_, fx_linvi): \n",
    "    print ( \"la regresión  con entrenamiento tiene menor error de ajuste \")\n",
    "else: \n",
    "    print ( \"la regresión sin entrenar tiene menor error de ajuste \")"
   ]
  },
  {
   "cell_type": "markdown",
   "id": "9fcb8fb2",
   "metadata": {
    "ExecuteTime": {
     "end_time": "2022-05-23T10:28:54.321530Z",
     "start_time": "2022-05-23T10:28:54.293529Z"
    }
   },
   "source": [
    "- **Bosque aleatorio** "
   ]
  },
  {
   "cell_type": "code",
   "execution_count": 768,
   "id": "86710ad2",
   "metadata": {
    "ExecuteTime": {
     "end_time": "2022-05-23T10:31:49.358781Z",
     "start_time": "2022-05-23T10:29:45.419208Z"
    }
   },
   "outputs": [],
   "source": [
    "rftvi.fit(X_, y_)\n",
    "fx_rftvi= rftvi.predict(X_)"
   ]
  },
  {
   "cell_type": "code",
   "execution_count": 817,
   "id": "caec58b9",
   "metadata": {
    "ExecuteTime": {
     "end_time": "2022-05-23T17:17:49.458003Z",
     "start_time": "2022-05-23T17:17:39.787729Z"
    }
   },
   "outputs": [
    {
     "name": "stdout",
     "output_type": "stream",
     "text": [
      "r de regresión lineal sin entrenamiento   0.9994310747460813\n",
      "r de regresión lineal con entrenamiento  0.9965161795634709\n",
      "bosque aleatorio sin entrenamiento tiene mejor ajuste\n"
     ]
    }
   ],
   "source": [
    "r_rftvi = rftvi.score(X_, y_)\n",
    "print(\"r de regresión lineal sin entrenamiento  \", r_rftvi)\n",
    "print(\"r de regresión lineal con entrenamiento \", r_rft)\n",
    "if r_rft< r_rftvi: \n",
    "     print ( \"bosque aleatorio sin entrenamiento tiene mejor ajuste\")\n",
    "else: \n",
    "    print ( \"bosque aleatorio con entrenamiento tiene mejor ajuste\")"
   ]
  },
  {
   "cell_type": "code",
   "execution_count": 773,
   "id": "ce9aeda3",
   "metadata": {
    "ExecuteTime": {
     "end_time": "2022-05-23T10:33:50.329340Z",
     "start_time": "2022-05-23T10:33:50.292664Z"
    }
   },
   "outputs": [
    {
     "name": "stdout",
     "output_type": "stream",
     "text": [
      "Error cuadrático medio de la regresión lineal sin entrenamiento : 0.0005689252539186685\n",
      "Error cuadrático medio de la regresión lineal con entrenamiento : 0.003499299278485463\n",
      "la regresión sin entrenar tiene menor error de ajuste \n"
     ]
    }
   ],
   "source": [
    "print('Error cuadrático medio de la regresión lineal sin entrenamiento :', mean_squared_error(y_, fx_rftvi))\n",
    "print('Error cuadrático medio de la regresión lineal con entrenamiento :', mean_squared_error(y_test, fx_rft))\n",
    "if  mean_squared_error(y_test, fx_rft)<  mean_squared_error(y_, fx_rftvi): \n",
    "    print ( \"la regresión  con entrenamiento tiene menor error de ajuste \")\n",
    "else: \n",
    "    print ( \"la regresión sin entrenar tiene menor error de ajuste \")"
   ]
  },
  {
   "cell_type": "markdown",
   "id": "82e1f018",
   "metadata": {},
   "source": [
    "- **Red Neuronal** "
   ]
  },
  {
   "cell_type": "code",
   "execution_count": 774,
   "id": "94d372de",
   "metadata": {
    "ExecuteTime": {
     "end_time": "2022-05-23T10:39:22.773122Z",
     "start_time": "2022-05-23T10:37:06.001763Z"
    }
   },
   "outputs": [],
   "source": [
    "mplvi.fit(X_, y_)\n",
    "fx_mplvi= mplvi.predict(X_)"
   ]
  },
  {
   "cell_type": "code",
   "execution_count": 783,
   "id": "78438946",
   "metadata": {
    "ExecuteTime": {
     "end_time": "2022-05-23T10:52:04.975166Z",
     "start_time": "2022-05-23T10:52:04.445363Z"
    }
   },
   "outputs": [
    {
     "name": "stdout",
     "output_type": "stream",
     "text": [
      "r de regresión lineal sin entrenamiento   0.9928539941243647\n",
      "r  de regresión lineal con entrenamiento  0.9928160022463813\n",
      "red sin entrenamiento tiene mejor ajuste\n"
     ]
    }
   ],
   "source": [
    "r_mplvi = mplvi.score(X_, y_)\n",
    "print(\"r de regresión lineal sin entrenamiento  \", r_mplvi)\n",
    "print(\"r  de regresión lineal con entrenamiento \", r_mpl)\n",
    "if r_mpl< r_mplvi: \n",
    "     print ( \"red sin entrenamiento tiene mejor ajuste\")\n",
    "else: \n",
    "    print ( \"red con entrenamiento tiene mejor ajuste\")"
   ]
  },
  {
   "cell_type": "code",
   "execution_count": 776,
   "id": "7e510ad5",
   "metadata": {
    "ExecuteTime": {
     "end_time": "2022-05-23T10:39:41.680404Z",
     "start_time": "2022-05-23T10:39:41.655884Z"
    }
   },
   "outputs": [
    {
     "name": "stdout",
     "output_type": "stream",
     "text": [
      "Error cuadrático medio de la regresión lineal sin entrenamiento : 0.007146005875635279\n",
      "Error cuadrático medio de la regresión lineal con entrenamiento : 0.007215916725296389\n",
      "la regresión sin entrenar tiene menor error de ajuste \n"
     ]
    }
   ],
   "source": [
    "print('Error cuadrático medio de la regresión lineal sin entrenamiento :', mean_squared_error(y_, fx_mplvi))\n",
    "print('Error cuadrático medio de la regresión lineal con entrenamiento :', mean_squared_error(y_test, fx_mpl))\n",
    "if  mean_squared_error(y_test, fx_mpl)<  mean_squared_error(y_, fx_mplvi): \n",
    "    print ( \"la regresión  con entrenamiento tiene menor error de ajuste \")\n",
    "else: \n",
    "    print ( \"la regresión sin entrenar tiene menor error de ajuste \")"
   ]
  },
  {
   "cell_type": "markdown",
   "id": "5339f166",
   "metadata": {},
   "source": [
    "**NIVEL 2.** \n",
    "\n",
    "\"Realiza  algún proceso de ingeniería para mejorar el proceso.\" \n",
    "\n",
    "En verdad, esto ya lo he hecho en el apartado 0, preproceso. \n",
    "\n",
    "Así que vamos intentar ver que pasa si en vez de Estandarizar, normalizamos "
   ]
  },
  {
   "cell_type": "code",
   "execution_count": 798,
   "id": "75219429",
   "metadata": {
    "ExecuteTime": {
     "end_time": "2022-05-23T16:16:51.246277Z",
     "start_time": "2022-05-23T16:16:51.109316Z"
    }
   },
   "outputs": [
    {
     "data": {
      "text/html": [
       "<div>\n",
       "<style scoped>\n",
       "    .dataframe tbody tr th:only-of-type {\n",
       "        vertical-align: middle;\n",
       "    }\n",
       "\n",
       "    .dataframe tbody tr th {\n",
       "        vertical-align: top;\n",
       "    }\n",
       "\n",
       "    .dataframe thead th {\n",
       "        text-align: right;\n",
       "    }\n",
       "</style>\n",
       "<table border=\"1\" class=\"dataframe\">\n",
       "  <thead>\n",
       "    <tr style=\"text-align: right;\">\n",
       "      <th></th>\n",
       "      <th>ArrDelay</th>\n",
       "      <th>DepDelay</th>\n",
       "      <th>Distance</th>\n",
       "      <th>TaxiIn</th>\n",
       "      <th>TaxiOut</th>\n",
       "      <th>CarrierDelay</th>\n",
       "      <th>WeatherDelay</th>\n",
       "      <th>NASDelay</th>\n",
       "      <th>SecurityDelay</th>\n",
       "      <th>LateAircraftDelay</th>\n",
       "      <th>X10</th>\n",
       "      <th>X11</th>\n",
       "    </tr>\n",
       "  </thead>\n",
       "  <tbody>\n",
       "    <tr>\n",
       "      <th>0</th>\n",
       "      <td>0.066709</td>\n",
       "      <td>0.080051</td>\n",
       "      <td>0.987292</td>\n",
       "      <td>0.006671</td>\n",
       "      <td>0.026684</td>\n",
       "      <td>0.016677</td>\n",
       "      <td>0.0</td>\n",
       "      <td>0.000000</td>\n",
       "      <td>0.0</td>\n",
       "      <td>0.050032</td>\n",
       "      <td>0.066709</td>\n",
       "      <td>0.080051</td>\n",
       "    </tr>\n",
       "    <tr>\n",
       "      <th>1</th>\n",
       "      <td>0.223589</td>\n",
       "      <td>0.118782</td>\n",
       "      <td>0.908331</td>\n",
       "      <td>0.010481</td>\n",
       "      <td>0.146730</td>\n",
       "      <td>0.000000</td>\n",
       "      <td>0.0</td>\n",
       "      <td>0.104807</td>\n",
       "      <td>0.0</td>\n",
       "      <td>0.118782</td>\n",
       "      <td>0.223589</td>\n",
       "      <td>0.118782</td>\n",
       "    </tr>\n",
       "    <tr>\n",
       "      <th>2</th>\n",
       "      <td>0.016096</td>\n",
       "      <td>0.032193</td>\n",
       "      <td>0.997974</td>\n",
       "      <td>0.012072</td>\n",
       "      <td>0.036217</td>\n",
       "      <td>0.000000</td>\n",
       "      <td>0.0</td>\n",
       "      <td>0.000000</td>\n",
       "      <td>0.0</td>\n",
       "      <td>0.000000</td>\n",
       "      <td>0.016096</td>\n",
       "      <td>0.032193</td>\n",
       "    </tr>\n",
       "    <tr>\n",
       "      <th>3</th>\n",
       "      <td>0.104636</td>\n",
       "      <td>0.035875</td>\n",
       "      <td>0.980591</td>\n",
       "      <td>0.020927</td>\n",
       "      <td>0.086699</td>\n",
       "      <td>0.000000</td>\n",
       "      <td>0.0</td>\n",
       "      <td>0.068761</td>\n",
       "      <td>0.0</td>\n",
       "      <td>0.035875</td>\n",
       "      <td>0.104636</td>\n",
       "      <td>0.035875</td>\n",
       "    </tr>\n",
       "    <tr>\n",
       "      <th>4</th>\n",
       "      <td>0.012632</td>\n",
       "      <td>0.012250</td>\n",
       "      <td>0.999494</td>\n",
       "      <td>0.003828</td>\n",
       "      <td>0.017226</td>\n",
       "      <td>0.000000</td>\n",
       "      <td>0.0</td>\n",
       "      <td>0.007273</td>\n",
       "      <td>0.0</td>\n",
       "      <td>0.005359</td>\n",
       "      <td>0.012632</td>\n",
       "      <td>0.012250</td>\n",
       "    </tr>\n",
       "    <tr>\n",
       "      <th>5</th>\n",
       "      <td>0.061133</td>\n",
       "      <td>0.051480</td>\n",
       "      <td>0.990999</td>\n",
       "      <td>0.006435</td>\n",
       "      <td>0.057916</td>\n",
       "      <td>0.038610</td>\n",
       "      <td>0.0</td>\n",
       "      <td>0.009653</td>\n",
       "      <td>0.0</td>\n",
       "      <td>0.012870</td>\n",
       "      <td>0.061133</td>\n",
       "      <td>0.051480</td>\n",
       "    </tr>\n",
       "    <tr>\n",
       "      <th>6</th>\n",
       "      <td>0.019232</td>\n",
       "      <td>0.121800</td>\n",
       "      <td>0.980810</td>\n",
       "      <td>0.051284</td>\n",
       "      <td>0.070516</td>\n",
       "      <td>0.000000</td>\n",
       "      <td>0.0</td>\n",
       "      <td>0.000000</td>\n",
       "      <td>0.0</td>\n",
       "      <td>0.000000</td>\n",
       "      <td>0.019232</td>\n",
       "      <td>0.121800</td>\n",
       "    </tr>\n",
       "    <tr>\n",
       "      <th>7</th>\n",
       "      <td>0.150664</td>\n",
       "      <td>0.165363</td>\n",
       "      <td>0.940732</td>\n",
       "      <td>0.011024</td>\n",
       "      <td>0.051446</td>\n",
       "      <td>0.055121</td>\n",
       "      <td>0.0</td>\n",
       "      <td>0.000000</td>\n",
       "      <td>0.0</td>\n",
       "      <td>0.095543</td>\n",
       "      <td>0.150664</td>\n",
       "      <td>0.165363</td>\n",
       "    </tr>\n",
       "    <tr>\n",
       "      <th>8</th>\n",
       "      <td>0.032141</td>\n",
       "      <td>0.042291</td>\n",
       "      <td>0.996369</td>\n",
       "      <td>0.016916</td>\n",
       "      <td>0.016916</td>\n",
       "      <td>0.000000</td>\n",
       "      <td>0.0</td>\n",
       "      <td>0.000000</td>\n",
       "      <td>0.0</td>\n",
       "      <td>0.032141</td>\n",
       "      <td>0.032141</td>\n",
       "      <td>0.042291</td>\n",
       "    </tr>\n",
       "    <tr>\n",
       "      <th>9</th>\n",
       "      <td>0.029461</td>\n",
       "      <td>0.039281</td>\n",
       "      <td>0.996758</td>\n",
       "      <td>0.017185</td>\n",
       "      <td>0.036826</td>\n",
       "      <td>0.000000</td>\n",
       "      <td>0.0</td>\n",
       "      <td>0.000000</td>\n",
       "      <td>0.0</td>\n",
       "      <td>0.000000</td>\n",
       "      <td>0.029461</td>\n",
       "      <td>0.039281</td>\n",
       "    </tr>\n",
       "  </tbody>\n",
       "</table>\n",
       "</div>"
      ],
      "text/plain": [
       "   ArrDelay  DepDelay  Distance    TaxiIn   TaxiOut  CarrierDelay  \\\n",
       "0  0.066709  0.080051  0.987292  0.006671  0.026684      0.016677   \n",
       "1  0.223589  0.118782  0.908331  0.010481  0.146730      0.000000   \n",
       "2  0.016096  0.032193  0.997974  0.012072  0.036217      0.000000   \n",
       "3  0.104636  0.035875  0.980591  0.020927  0.086699      0.000000   \n",
       "4  0.012632  0.012250  0.999494  0.003828  0.017226      0.000000   \n",
       "5  0.061133  0.051480  0.990999  0.006435  0.057916      0.038610   \n",
       "6  0.019232  0.121800  0.980810  0.051284  0.070516      0.000000   \n",
       "7  0.150664  0.165363  0.940732  0.011024  0.051446      0.055121   \n",
       "8  0.032141  0.042291  0.996369  0.016916  0.016916      0.000000   \n",
       "9  0.029461  0.039281  0.996758  0.017185  0.036826      0.000000   \n",
       "\n",
       "   WeatherDelay  NASDelay  SecurityDelay  LateAircraftDelay       X10  \\\n",
       "0           0.0  0.000000            0.0           0.050032  0.066709   \n",
       "1           0.0  0.104807            0.0           0.118782  0.223589   \n",
       "2           0.0  0.000000            0.0           0.000000  0.016096   \n",
       "3           0.0  0.068761            0.0           0.035875  0.104636   \n",
       "4           0.0  0.007273            0.0           0.005359  0.012632   \n",
       "5           0.0  0.009653            0.0           0.012870  0.061133   \n",
       "6           0.0  0.000000            0.0           0.000000  0.019232   \n",
       "7           0.0  0.000000            0.0           0.095543  0.150664   \n",
       "8           0.0  0.000000            0.0           0.032141  0.032141   \n",
       "9           0.0  0.000000            0.0           0.000000  0.029461   \n",
       "\n",
       "        X11  \n",
       "0  0.080051  \n",
       "1  0.118782  \n",
       "2  0.032193  \n",
       "3  0.035875  \n",
       "4  0.012250  \n",
       "5  0.051480  \n",
       "6  0.121800  \n",
       "7  0.165363  \n",
       "8  0.042291  \n",
       "9  0.039281  "
      ]
     },
     "execution_count": 798,
     "metadata": {},
     "output_type": "execute_result"
    }
   ],
   "source": [
    "from sklearn.preprocessing import Normalizer\n",
    "norm= Normalizer()\n",
    "df8norm= pd.DataFrame(norm.fit_transform(df7), columns=df7.columns )\n",
    "df8norm.head(10)"
   ]
  },
  {
   "cell_type": "code",
   "execution_count": 799,
   "id": "4498d01e",
   "metadata": {
    "ExecuteTime": {
     "end_time": "2022-05-23T16:19:26.055130Z",
     "start_time": "2022-05-23T16:19:25.879042Z"
    }
   },
   "outputs": [],
   "source": [
    "df9norm= df8norm[[\"ArrDelay\",'DepDelay', 'CarrierDelay', 'NASDelay' ,'LateAircraftDelay', 'X10', 'X11']]\n",
    "Xn= df9norm.drop([\"ArrDelay\"], axis=1)\n",
    "\n",
    "yn= df9norm[\"ArrDelay\"]\n",
    "\n",
    "Xntrain, Xntest, yntrain, yntest = train_test_split( Xn, yn, test_size=0.30, random_state=42, shuffle=True)\n"
   ]
  },
  {
   "cell_type": "code",
   "execution_count": 800,
   "id": "4608b113",
   "metadata": {
    "ExecuteTime": {
     "end_time": "2022-05-23T16:20:36.651857Z",
     "start_time": "2022-05-23T16:20:36.635710Z"
    }
   },
   "outputs": [],
   "source": [
    "linn = LinearRegression()\n",
    "rftn=RandomForestRegressor(n_estimators=200, max_depth=10, random_state=42 )\n",
    "mpln= MLPRegressor(hidden_layer_sizes=(20,20,20), activation=\"logistic\", solver=\"sgd\",max_iter=300 )"
   ]
  },
  {
   "cell_type": "markdown",
   "id": "1cfaeb2f",
   "metadata": {},
   "source": [
    "- **REGRESIÓN LINEAL**"
   ]
  },
  {
   "cell_type": "code",
   "execution_count": 801,
   "id": "d2319e85",
   "metadata": {
    "ExecuteTime": {
     "end_time": "2022-05-23T16:30:19.808498Z",
     "start_time": "2022-05-23T16:30:19.720504Z"
    }
   },
   "outputs": [],
   "source": [
    "linn.fit(Xntrain, yntrain)\n",
    "fx_linn= linn.predict(Xntest)"
   ]
  },
  {
   "cell_type": "code",
   "execution_count": 804,
   "id": "0fe7b4b4",
   "metadata": {
    "ExecuteTime": {
     "end_time": "2022-05-23T16:33:01.267337Z",
     "start_time": "2022-05-23T16:33:01.226892Z"
    }
   },
   "outputs": [
    {
     "name": "stdout",
     "output_type": "stream",
     "text": [
      "r de regresión lineal  sobre variables normalizadas   0.9900928206733373\n",
      "r de regresión lineal sobre variables estandarizadas  0.964644479218502\n",
      "regresión sobre variables normalizadas  tiene  mejor ajuste\n"
     ]
    }
   ],
   "source": [
    "r_linn = linn.score(Xntest, yntest)\n",
    "print(\"r de regresión lineal  sobre variables normalizadas  \", r_linn)\n",
    "print(\"r de regresión lineal sobre variables estandarizadas \", r_lin)\n",
    "if r_lin< r_linn: \n",
    "     print ( \"regresión sobre variables normalizadas  tiene  mejor ajuste\")\n",
    "else: \n",
    "    print ( \"regresión sobre variables estandarizadas tiene mejor ajuste\")"
   ]
  },
  {
   "cell_type": "code",
   "execution_count": 807,
   "id": "70b80700",
   "metadata": {
    "ExecuteTime": {
     "end_time": "2022-05-23T16:39:18.675329Z",
     "start_time": "2022-05-23T16:39:18.650500Z"
    }
   },
   "outputs": [
    {
     "name": "stdout",
     "output_type": "stream",
     "text": [
      "Error cuadrático medio de la regresión lineal  sobre variables normalizadas : 9.148945647961316e-05\n",
      "Error cuadrático medio de la regresión lineal sobre variables estandarizadas : 0.035512607671719564\n",
      "la regresión sobre variables normalizadas tiene menor error de ajuste \n"
     ]
    }
   ],
   "source": [
    "print('Error cuadrático medio de la regresión lineal  sobre variables normalizadas :', mean_squared_error(yntest, fx_linn))\n",
    "print('Error cuadrático medio de la regresión lineal sobre variables estandarizadas :', mean_squared_error(y_test, fx_lin))\n",
    "if  mean_squared_error(y_test, fx_lin)<  mean_squared_error(yntest, fx_linn): \n",
    "    print ( \"la regresión sobre variables estandarizadas tiene menor error de ajuste \")\n",
    "else: \n",
    "    print ( \"la regresión sobre variables normalizadas tiene menor error de ajuste \")"
   ]
  },
  {
   "cell_type": "markdown",
   "id": "1d50756a",
   "metadata": {},
   "source": [
    "- **Bosque Aleatorio**"
   ]
  },
  {
   "cell_type": "code",
   "execution_count": 806,
   "id": "dc068e50",
   "metadata": {
    "ExecuteTime": {
     "end_time": "2022-05-23T16:39:18.650500Z",
     "start_time": "2022-05-23T16:34:34.053422Z"
    }
   },
   "outputs": [],
   "source": [
    "rftn.fit(Xntrain, yntrain)\n",
    "fx_rftn= rftn.predict(Xntest)"
   ]
  },
  {
   "cell_type": "code",
   "execution_count": 808,
   "id": "a6df17d1",
   "metadata": {
    "ExecuteTime": {
     "end_time": "2022-05-23T16:39:34.500465Z",
     "start_time": "2022-05-23T16:39:31.117505Z"
    }
   },
   "outputs": [
    {
     "name": "stdout",
     "output_type": "stream",
     "text": [
      "r de regresión lineal  sobre variables normalizadas   0.9995589431243109\n",
      "r de regresión lineal sobre variables estandarizadas  0.9965161795634709\n",
      "regresión sobre variables normalizadas  tiene  mejor ajuste\n"
     ]
    }
   ],
   "source": [
    "r_rftn = rftn.score(Xntest, yntest)\n",
    "print(\"r de regresión lineal  sobre variables normalizadas  \", r_rftn)\n",
    "print(\"r de regresión lineal sobre variables estandarizadas \", r_rft)\n",
    "if r_rft< r_rftn: \n",
    "     print ( \"regresión sobre variables normalizadas  tiene  mejor ajuste\")\n",
    "else: \n",
    "    print ( \"regresión sobre variables estandarizadas tiene mejor ajuste\")"
   ]
  },
  {
   "cell_type": "code",
   "execution_count": 809,
   "id": "3cd89c08",
   "metadata": {
    "ExecuteTime": {
     "end_time": "2022-05-23T16:39:44.196290Z",
     "start_time": "2022-05-23T16:39:44.171229Z"
    }
   },
   "outputs": [
    {
     "name": "stdout",
     "output_type": "stream",
     "text": [
      "Error cuadrático medio de la regresión lineal  sobre variables normalizadas : 4.073011348930701e-06\n",
      "Error cuadrático medio de la regresión lineal sobre variables estandarizadas : 0.003499299278485463\n",
      "la regresión normalizada tiene menor error de ajuste \n"
     ]
    }
   ],
   "source": [
    "print('Error cuadrático medio de la regresión lineal  sobre variables normalizadas :', mean_squared_error(yntest, fx_rftn))\n",
    "print('Error cuadrático medio de la regresión lineal sobre variables estandarizadas :', mean_squared_error(y_test, fx_rft))\n",
    "if  mean_squared_error(y_test, fx_rft)<  mean_squared_error(yntest, fx_rftn): \n",
    "    print ( \"la regresión  estándar tiene menor error de ajuste \")\n",
    "else: \n",
    "    print ( \"la regresión normalizada tiene menor error de ajuste \")"
   ]
  },
  {
   "cell_type": "markdown",
   "id": "ebfd2571",
   "metadata": {},
   "source": [
    "- **Nivel 3**. \n",
    "\n",
    "\"Haz los cálculos sin contar con DepDelay\" \n"
   ]
  },
  {
   "cell_type": "code",
   "execution_count": 843,
   "id": "2243eae9",
   "metadata": {
    "ExecuteTime": {
     "end_time": "2022-05-23T19:51:37.950767Z",
     "start_time": "2022-05-23T19:51:37.746234Z"
    }
   },
   "outputs": [],
   "source": [
    "df11= df9[[\"ArrDelay\", 'CarrierDelay', 'NASDelay' ,'LateAircraftDelay', 'X10', 'X11']]\n",
    "Xb= df11.drop([\"ArrDelay\"], axis=1)\n",
    "\n",
    "yb= df11[\"ArrDelay\"]\n",
    "\n",
    "Xtrainb, Xtestb, ytrainb, ytestb = train_test_split( Xb, yb, test_size=0.30, random_state=42, shuffle=True)"
   ]
  },
  {
   "cell_type": "code",
   "execution_count": 844,
   "id": "0249c4ff",
   "metadata": {
    "ExecuteTime": {
     "end_time": "2022-05-23T19:51:55.135699Z",
     "start_time": "2022-05-23T19:51:55.119825Z"
    }
   },
   "outputs": [],
   "source": [
    "mplb= MLPRegressor(hidden_layer_sizes=(20,20,20), activation=\"logistic\", solver=\"sgd\",max_iter=300 )\n",
    "\n"
   ]
  },
  {
   "cell_type": "code",
   "execution_count": 845,
   "id": "b350f464",
   "metadata": {
    "ExecuteTime": {
     "end_time": "2022-05-23T19:54:35.580896Z",
     "start_time": "2022-05-23T19:52:09.588349Z"
    }
   },
   "outputs": [],
   "source": [
    "mplb.fit(Xtrainb, ytrainb)\n",
    "fx_mplb= mplb.predict(Xtestb)"
   ]
  },
  {
   "cell_type": "code",
   "execution_count": 846,
   "id": "5bc969f2",
   "metadata": {
    "ExecuteTime": {
     "end_time": "2022-05-23T19:55:18.882897Z",
     "start_time": "2022-05-23T19:55:18.674257Z"
    }
   },
   "outputs": [
    {
     "name": "stdout",
     "output_type": "stream",
     "text": [
      "r de regresión lineal sin DepDelay   0.9900258961828593\n",
      "r  de regresión lineal con DepDelay  0.9928160022463813\n",
      "red con DepDelay tiene mejor ajuste\n"
     ]
    }
   ],
   "source": [
    "r_mplb = mplb.score(Xtestb, ytestb)\n",
    "print(\"r de regresión lineal sin DepDelay  \", r_mplb)\n",
    "print(\"r  de regresión lineal con DepDelay \", r_mpl)\n",
    "if r_mpl< r_mplb: \n",
    "     print ( \"red sin DepDelay tiene mejor ajuste\")\n",
    "else: \n",
    "    print ( \"red con DepDelay tiene mejor ajuste\")"
   ]
  },
  {
   "cell_type": "code",
   "execution_count": 847,
   "id": "8cef5695",
   "metadata": {
    "ExecuteTime": {
     "end_time": "2022-05-23T19:55:35.818004Z",
     "start_time": "2022-05-23T19:55:35.785736Z"
    }
   },
   "outputs": [
    {
     "name": "stdout",
     "output_type": "stream",
     "text": [
      "Error cuadrático medio de la regresión lineal sin DepDelay : 0.010018419412463607\n",
      "Error cuadrático medio de la regresión lineal con DepDelay : 0.007215916725296389\n",
      "la regresión  con DepDelay tiene menor error de ajuste \n"
     ]
    }
   ],
   "source": [
    "print('Error cuadrático medio de la regresión lineal sin DepDelay :', mean_squared_error(ytestb, fx_mplb))\n",
    "print('Error cuadrático medio de la regresión lineal con DepDelay :', mean_squared_error(y_test, fx_mpl))\n",
    "if  mean_squared_error(y_test, fx_mpl)<  mean_squared_error(ytestb, fx_mplb): \n",
    "    print ( \"la regresión  con DepDelay tiene menor error de ajuste \")\n",
    "else: \n",
    "    print ( \"la regresión sin DepDelay tiene menor error de ajuste \")"
   ]
  },
  {
   "cell_type": "markdown",
   "id": "d3205545",
   "metadata": {},
   "source": [
    "En este último caso podemos observar un coeficiente correlación  muy baja, sin embargo un error igual de bajo que con menor\n",
    "error de ajust. \n",
    "\n"
   ]
  },
  {
   "cell_type": "code",
   "execution_count": 860,
   "id": "3236e2c8",
   "metadata": {
    "ExecuteTime": {
     "end_time": "2022-05-23T20:07:54.930731Z",
     "start_time": "2022-05-23T20:07:54.883035Z"
    }
   },
   "outputs": [
    {
     "data": {
      "text/html": [
       "<div>\n",
       "<style scoped>\n",
       "    .dataframe tbody tr th:only-of-type {\n",
       "        vertical-align: middle;\n",
       "    }\n",
       "\n",
       "    .dataframe tbody tr th {\n",
       "        vertical-align: top;\n",
       "    }\n",
       "\n",
       "    .dataframe thead th {\n",
       "        text-align: right;\n",
       "    }\n",
       "</style>\n",
       "<table border=\"1\" class=\"dataframe\">\n",
       "  <thead>\n",
       "    <tr style=\"text-align: right;\">\n",
       "      <th></th>\n",
       "      <th>ytestb</th>\n",
       "      <th>fx_mplb</th>\n",
       "    </tr>\n",
       "  </thead>\n",
       "  <tbody>\n",
       "    <tr>\n",
       "      <th>172947</th>\n",
       "      <td>-0.533406</td>\n",
       "      <td>-0.545585</td>\n",
       "    </tr>\n",
       "    <tr>\n",
       "      <th>237717</th>\n",
       "      <td>-0.076813</td>\n",
       "      <td>-0.076537</td>\n",
       "    </tr>\n",
       "    <tr>\n",
       "      <th>192133</th>\n",
       "      <td>1.995416</td>\n",
       "      <td>1.950384</td>\n",
       "    </tr>\n",
       "    <tr>\n",
       "      <th>85101</th>\n",
       "      <td>-0.761702</td>\n",
       "      <td>-0.733411</td>\n",
       "    </tr>\n",
       "    <tr>\n",
       "      <th>155383</th>\n",
       "      <td>-0.691457</td>\n",
       "      <td>-0.677036</td>\n",
       "    </tr>\n",
       "    <tr>\n",
       "      <th>74734</th>\n",
       "      <td>-0.726580</td>\n",
       "      <td>-0.705834</td>\n",
       "    </tr>\n",
       "    <tr>\n",
       "      <th>63653</th>\n",
       "      <td>0.186606</td>\n",
       "      <td>0.208256</td>\n",
       "    </tr>\n",
       "    <tr>\n",
       "      <th>303622</th>\n",
       "      <td>-0.621212</td>\n",
       "      <td>-0.619480</td>\n",
       "    </tr>\n",
       "    <tr>\n",
       "      <th>252354</th>\n",
       "      <td>-0.550967</td>\n",
       "      <td>-0.560475</td>\n",
       "    </tr>\n",
       "    <tr>\n",
       "      <th>40090</th>\n",
       "      <td>-0.147058</td>\n",
       "      <td>-0.132869</td>\n",
       "    </tr>\n",
       "    <tr>\n",
       "      <th>29312</th>\n",
       "      <td>0.291973</td>\n",
       "      <td>0.299234</td>\n",
       "    </tr>\n",
       "    <tr>\n",
       "      <th>263596</th>\n",
       "      <td>-0.761702</td>\n",
       "      <td>-0.733943</td>\n",
       "    </tr>\n",
       "    <tr>\n",
       "      <th>205291</th>\n",
       "      <td>3.277388</td>\n",
       "      <td>3.165313</td>\n",
       "    </tr>\n",
       "    <tr>\n",
       "      <th>277579</th>\n",
       "      <td>-0.147058</td>\n",
       "      <td>-0.133806</td>\n",
       "    </tr>\n",
       "    <tr>\n",
       "      <th>174014</th>\n",
       "      <td>-0.445600</td>\n",
       "      <td>-0.438528</td>\n",
       "    </tr>\n",
       "    <tr>\n",
       "      <th>145832</th>\n",
       "      <td>1.503700</td>\n",
       "      <td>1.483032</td>\n",
       "    </tr>\n",
       "    <tr>\n",
       "      <th>163984</th>\n",
       "      <td>-0.445600</td>\n",
       "      <td>-0.445236</td>\n",
       "    </tr>\n",
       "    <tr>\n",
       "      <th>270265</th>\n",
       "      <td>-0.305110</td>\n",
       "      <td>-0.309408</td>\n",
       "    </tr>\n",
       "    <tr>\n",
       "      <th>326655</th>\n",
       "      <td>-0.515845</td>\n",
       "      <td>-0.530117</td>\n",
       "    </tr>\n",
       "    <tr>\n",
       "      <th>199861</th>\n",
       "      <td>0.362218</td>\n",
       "      <td>0.385784</td>\n",
       "    </tr>\n",
       "    <tr>\n",
       "      <th>304546</th>\n",
       "      <td>-0.691457</td>\n",
       "      <td>-0.673991</td>\n",
       "    </tr>\n",
       "    <tr>\n",
       "      <th>298603</th>\n",
       "      <td>-0.673896</td>\n",
       "      <td>-0.663015</td>\n",
       "    </tr>\n",
       "    <tr>\n",
       "      <th>27607</th>\n",
       "      <td>-0.779264</td>\n",
       "      <td>-0.747865</td>\n",
       "    </tr>\n",
       "    <tr>\n",
       "      <th>112501</th>\n",
       "      <td>-0.234865</td>\n",
       "      <td>-0.283035</td>\n",
       "    </tr>\n",
       "    <tr>\n",
       "      <th>278051</th>\n",
       "      <td>1.170036</td>\n",
       "      <td>1.114480</td>\n",
       "    </tr>\n",
       "    <tr>\n",
       "      <th>137251</th>\n",
       "      <td>0.537831</td>\n",
       "      <td>0.530014</td>\n",
       "    </tr>\n",
       "    <tr>\n",
       "      <th>12399</th>\n",
       "      <td>1.380772</td>\n",
       "      <td>1.362837</td>\n",
       "    </tr>\n",
       "    <tr>\n",
       "      <th>54603</th>\n",
       "      <td>-0.287548</td>\n",
       "      <td>-0.330489</td>\n",
       "    </tr>\n",
       "    <tr>\n",
       "      <th>90711</th>\n",
       "      <td>-0.656335</td>\n",
       "      <td>-0.647439</td>\n",
       "    </tr>\n",
       "    <tr>\n",
       "      <th>356964</th>\n",
       "      <td>0.010993</td>\n",
       "      <td>0.009376</td>\n",
       "    </tr>\n",
       "    <tr>\n",
       "      <th>335529</th>\n",
       "      <td>0.625637</td>\n",
       "      <td>0.631873</td>\n",
       "    </tr>\n",
       "    <tr>\n",
       "      <th>222304</th>\n",
       "      <td>-0.287548</td>\n",
       "      <td>-0.290260</td>\n",
       "    </tr>\n",
       "    <tr>\n",
       "      <th>91519</th>\n",
       "      <td>-0.744141</td>\n",
       "      <td>-0.718936</td>\n",
       "    </tr>\n",
       "    <tr>\n",
       "      <th>230553</th>\n",
       "      <td>-0.533406</td>\n",
       "      <td>-0.545055</td>\n",
       "    </tr>\n",
       "    <tr>\n",
       "      <th>331948</th>\n",
       "      <td>-0.199742</td>\n",
       "      <td>-0.188192</td>\n",
       "    </tr>\n",
       "    <tr>\n",
       "      <th>27110</th>\n",
       "      <td>1.415894</td>\n",
       "      <td>1.366509</td>\n",
       "    </tr>\n",
       "    <tr>\n",
       "      <th>178013</th>\n",
       "      <td>-0.305110</td>\n",
       "      <td>-0.308591</td>\n",
       "    </tr>\n",
       "    <tr>\n",
       "      <th>40153</th>\n",
       "      <td>2.434447</td>\n",
       "      <td>2.393568</td>\n",
       "    </tr>\n",
       "    <tr>\n",
       "      <th>128250</th>\n",
       "      <td>-0.269987</td>\n",
       "      <td>-0.259420</td>\n",
       "    </tr>\n",
       "    <tr>\n",
       "      <th>264301</th>\n",
       "      <td>-0.199742</td>\n",
       "      <td>-0.193180</td>\n",
       "    </tr>\n",
       "    <tr>\n",
       "      <th>135950</th>\n",
       "      <td>-0.463161</td>\n",
       "      <td>-0.460496</td>\n",
       "    </tr>\n",
       "    <tr>\n",
       "      <th>268100</th>\n",
       "      <td>-0.392916</td>\n",
       "      <td>-0.401450</td>\n",
       "    </tr>\n",
       "    <tr>\n",
       "      <th>101568</th>\n",
       "      <td>-0.533406</td>\n",
       "      <td>-0.545565</td>\n",
       "    </tr>\n",
       "    <tr>\n",
       "      <th>364806</th>\n",
       "      <td>-0.621212</td>\n",
       "      <td>-0.619480</td>\n",
       "    </tr>\n",
       "    <tr>\n",
       "      <th>354817</th>\n",
       "      <td>-0.726580</td>\n",
       "      <td>-0.705766</td>\n",
       "    </tr>\n",
       "    <tr>\n",
       "      <th>15416</th>\n",
       "      <td>-0.726580</td>\n",
       "      <td>-0.705680</td>\n",
       "    </tr>\n",
       "    <tr>\n",
       "      <th>246562</th>\n",
       "      <td>-0.041691</td>\n",
       "      <td>-0.072885</td>\n",
       "    </tr>\n",
       "    <tr>\n",
       "      <th>111952</th>\n",
       "      <td>0.151483</td>\n",
       "      <td>0.164025</td>\n",
       "    </tr>\n",
       "    <tr>\n",
       "      <th>341511</th>\n",
       "      <td>-0.445600</td>\n",
       "      <td>-0.448693</td>\n",
       "    </tr>\n",
       "    <tr>\n",
       "      <th>322471</th>\n",
       "      <td>-0.111936</td>\n",
       "      <td>-0.114961</td>\n",
       "    </tr>\n",
       "  </tbody>\n",
       "</table>\n",
       "</div>"
      ],
      "text/plain": [
       "          ytestb   fx_mplb\n",
       "172947 -0.533406 -0.545585\n",
       "237717 -0.076813 -0.076537\n",
       "192133  1.995416  1.950384\n",
       "85101  -0.761702 -0.733411\n",
       "155383 -0.691457 -0.677036\n",
       "74734  -0.726580 -0.705834\n",
       "63653   0.186606  0.208256\n",
       "303622 -0.621212 -0.619480\n",
       "252354 -0.550967 -0.560475\n",
       "40090  -0.147058 -0.132869\n",
       "29312   0.291973  0.299234\n",
       "263596 -0.761702 -0.733943\n",
       "205291  3.277388  3.165313\n",
       "277579 -0.147058 -0.133806\n",
       "174014 -0.445600 -0.438528\n",
       "145832  1.503700  1.483032\n",
       "163984 -0.445600 -0.445236\n",
       "270265 -0.305110 -0.309408\n",
       "326655 -0.515845 -0.530117\n",
       "199861  0.362218  0.385784\n",
       "304546 -0.691457 -0.673991\n",
       "298603 -0.673896 -0.663015\n",
       "27607  -0.779264 -0.747865\n",
       "112501 -0.234865 -0.283035\n",
       "278051  1.170036  1.114480\n",
       "137251  0.537831  0.530014\n",
       "12399   1.380772  1.362837\n",
       "54603  -0.287548 -0.330489\n",
       "90711  -0.656335 -0.647439\n",
       "356964  0.010993  0.009376\n",
       "335529  0.625637  0.631873\n",
       "222304 -0.287548 -0.290260\n",
       "91519  -0.744141 -0.718936\n",
       "230553 -0.533406 -0.545055\n",
       "331948 -0.199742 -0.188192\n",
       "27110   1.415894  1.366509\n",
       "178013 -0.305110 -0.308591\n",
       "40153   2.434447  2.393568\n",
       "128250 -0.269987 -0.259420\n",
       "264301 -0.199742 -0.193180\n",
       "135950 -0.463161 -0.460496\n",
       "268100 -0.392916 -0.401450\n",
       "101568 -0.533406 -0.545565\n",
       "364806 -0.621212 -0.619480\n",
       "354817 -0.726580 -0.705766\n",
       "15416  -0.726580 -0.705680\n",
       "246562 -0.041691 -0.072885\n",
       "111952  0.151483  0.164025\n",
       "341511 -0.445600 -0.448693\n",
       "322471 -0.111936 -0.114961"
      ]
     },
     "execution_count": 860,
     "metadata": {},
     "output_type": "execute_result"
    }
   ],
   "source": [
    "\n",
    "\n",
    "df13=pd.DataFrame( { \"ytestb\": ytestb, \"fx_mplb\":fx_mplb})\n",
    "df13.head(50)"
   ]
  },
  {
   "cell_type": "code",
   "execution_count": null,
   "id": "e20d1208",
   "metadata": {},
   "outputs": [],
   "source": []
  },
  {
   "cell_type": "code",
   "execution_count": null,
   "id": "17ccd8ab",
   "metadata": {},
   "outputs": [],
   "source": []
  },
  {
   "cell_type": "code",
   "execution_count": null,
   "id": "58f71803",
   "metadata": {},
   "outputs": [],
   "source": []
  },
  {
   "cell_type": "code",
   "execution_count": null,
   "id": "f0b4dbcb",
   "metadata": {},
   "outputs": [],
   "source": []
  },
  {
   "cell_type": "code",
   "execution_count": null,
   "id": "6e0e2030",
   "metadata": {},
   "outputs": [],
   "source": []
  }
 ],
 "metadata": {
  "kernelspec": {
   "display_name": "Python 3 (ipykernel)",
   "language": "python",
   "name": "python3"
  },
  "language_info": {
   "codemirror_mode": {
    "name": "ipython",
    "version": 3
   },
   "file_extension": ".py",
   "mimetype": "text/x-python",
   "name": "python",
   "nbconvert_exporter": "python",
   "pygments_lexer": "ipython3",
   "version": "3.9.7"
  }
 },
 "nbformat": 4,
 "nbformat_minor": 5
}
